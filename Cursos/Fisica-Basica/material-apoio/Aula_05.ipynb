{
 "cells": [
  {
   "cell_type": "markdown",
   "metadata": {},
   "source": [
    "# **DERIVADAS E INTEGRAIS APLICADAS AOS CONCEITOS DE TRABALHO E ENERGIA**"
   ]
  },
  {
   "cell_type": "markdown",
   "metadata": {},
   "source": [
    "## AULA 5"
   ]
  },
  {
   "cell_type": "markdown",
   "metadata": {},
   "source": [
    "* Trabalho Mecânico e Energia Cinética;\n",
    "* Energia Potencial;\n",
    "* Lei da Conservação da Energia;"
   ]
  },
  {
   "cell_type": "markdown",
   "metadata": {},
   "source": [
    "### Trabalho"
   ]
  },
  {
   "cell_type": "markdown",
   "metadata": {},
   "source": [
    "<p>Trabalho é a energia transferida para um objeto, ou de um objeto, por meio de uma força aplicada ao objeto. Quando a energia é transferida para o objeto, o trabalho é positivo; quando a energia é transferida do objeto, o trabalho é negativo.</p>\n",
    "<p> Dizemos que o trabalho é a capacidade que uma força tem de realizar movimento.</p>"
   ]
  },
  {
   "cell_type": "markdown",
   "metadata": {},
   "source": [
    "$$ W = \\vec{F} \\cdot \\Delta \\vec{r} $$"
   ]
  },
  {
   "cell_type": "markdown",
   "metadata": {},
   "source": [
    "A equação acima é válida quando a força aplicada for constante."
   ]
  },
  {
   "cell_type": "markdown",
   "metadata": {},
   "source": [
    "### O Produto Escalar"
   ]
  },
  {
   "cell_type": "markdown",
   "metadata": {},
   "source": [
    "Dados dois vetores, $$ \\vec{A} = A_{x}\\hat{i} + A_{y}\\hat{j} + A_{z}\\hat{k} $$ \n",
    "<p>e $$ \\vec{B} = B_{x}\\hat{i} + B_{y}\\hat{j} + B_{z}\\hat{k} $$"
   ]
  },
  {
   "cell_type": "markdown",
   "metadata": {},
   "source": [
    "temos que, o produto interno entre estes dois vetores é igual ao número $$ \\vec{A} \\cdot \\vec{B} = (A_{x}\\hat{i} + A_{y}\\hat{j} + A_{z}\\hat{k}) \\cdot (B_{x}\\hat{i} + B_{y}\\hat{j} + B_{z}\\hat{k})  $$"
   ]
  },
  {
   "cell_type": "markdown",
   "metadata": {},
   "source": [
    "Definindo o produto interno como $$\\vec{A} \\cdot \\vec{B} = AB cos\\theta$$"
   ]
  },
  {
   "cell_type": "markdown",
   "metadata": {},
   "source": [
    "onde o $\\theta$ é o ângulo formado pelos dois vetores do produto, podemos escrever"
   ]
  },
  {
   "cell_type": "markdown",
   "metadata": {},
   "source": [
    "$$\\begin{cases}\n",
    "\\hat{i} \\cdot \\hat{i} = \\hat{j} \\cdot \\hat{j} = \\hat{k} \\cdot \\hat{k} = 1 \\\\  \n",
    "\\hat{i} \\cdot \\hat{j} = \\hat{i} \\cdot \\hat{k} = \\hat{j} \\cdot \\hat{k} = 0 \n",
    "\\end{cases}$$"
   ]
  },
  {
   "cell_type": "markdown",
   "metadata": {},
   "source": [
    "considerando que o produto escalar é comutativo $\\vec{A} \\cdot \\vec{B} = \\vec{B} \\cdot \\vec{A}$"
   ]
  },
  {
   "cell_type": "markdown",
   "metadata": {},
   "source": [
    "$$ \\vec{A} \\cdot \\vec{B} = A_{x}B_{x} + A_{y}B_{y} + A_{z}B_{z}$$"
   ]
  },
  {
   "cell_type": "markdown",
   "metadata": {},
   "source": [
    "Se a força aplicada variar teremos $$dW = \\vec{F} \\cdot d\\vec{r}$$"
   ]
  },
  {
   "cell_type": "markdown",
   "metadata": {},
   "source": [
    "Para calcularmos o trabalho total realizado ao longo de um deslocamento $\\Delta \\vec{r} = \\vec{r}_{f} - \\vec{r}_{i}$\n",
    "<p> teremos, $$ W = \\int_{r_{i}}^{r_{f}}{\\vec{F} \\cdot d\\vec{r}} $$"
   ]
  },
  {
   "cell_type": "markdown",
   "metadata": {},
   "source": [
    "Considerando que a 2ª Lei de Nweton nos diz que, $$\\vec{F}_{R} = m\\vec{a}$$"
   ]
  },
  {
   "cell_type": "markdown",
   "metadata": {},
   "source": [
    "O trabalho total da força resultante será $$W_{T} = \\int_{r_{i}}^{r_{f}}{\\vec{F}_{R} \\cdot d\\vec{r}}$$"
   ]
  },
  {
   "cell_type": "markdown",
   "metadata": {},
   "source": [
    "$$W_{T} = \\int_{r_{i}}^{r_{f}}{m\\vec{a} \\cdot d\\vec{r}}$$\n",
    "$$W_{T} = \\int_{r_{i}}^{r_{f}}{m \\frac{d\\vec{v}}{dt} \\cdot d\\vec{r}}$$\n",
    "$$W_{T} = \\int_{v_{i}}^{v_{f}}{m d\\vec{v} \\cdot \\frac{d\\vec{r}}{dt}}$$\n",
    "$$W_{T} = \\int_{v_{i}}^{v_{f}}{m d\\vec{v} \\cdot \\vec{v}}$$\n",
    "$$W_{T} = \\int_{v_{i}}^{v_{f}}{m vdv}$$\n",
    "$$W_{T} = \\frac{1}{2}m \\left(v_{f}^{2} - v_{i}^{2}\\right)$$"
   ]
  },
  {
   "cell_type": "markdown",
   "metadata": {},
   "source": [
    "Regra de integração\n",
    " $$\\begin{cases}\n",
    " f(t) = at^b \\\\\n",
    " \\displaystyle{\\frac{df}{dt} = f'(t) = abt^{b-1}}\\\\\n",
    " \\displaystyle{f(t) = \\int{f'(t)dt} = ab\\frac{t^{(b-1)+1}}{(b-1)+1} = at^b}\n",
    " \\end{cases}$$"
   ]
  },
  {
   "cell_type": "markdown",
   "metadata": {},
   "source": [
    "### O Teorema do Trabalho e da Variação da Energia Cinética"
   ]
  },
  {
   "cell_type": "markdown",
   "metadata": {},
   "source": [
    "$$W_{T} = \\Delta E_{C}$$\n"
   ]
  },
  {
   "cell_type": "markdown",
   "metadata": {},
   "source": [
    "Definimos a Energia Cinética por $$E_{C} = \\frac{1}{2}mv^{2}$$"
   ]
  },
  {
   "cell_type": "markdown",
   "metadata": {},
   "source": [
    "### Aplicação"
   ]
  },
  {
   "cell_type": "markdown",
   "metadata": {},
   "source": [
    "1)  A Figura mostra três forças aplicadas a um baú que se desloca 3,00 m para a esquerda em um piso sem atrito. Os módulos das forças são F1 = 5,00 N, F2 = 9,00 N, e F3 = 3,00 N; o ângulo indicado é θ = 60°. No deslocamento, (a) qual é o trabalho total realizado sobre o baú pelas três forças? (b) A energia cinética do baú aumenta ou diminui?\n",
    "<img src=\"imgs/Ex_5-1.png\" width=\"400\"/>"
   ]
  },
  {
   "cell_type": "markdown",
   "metadata": {},
   "source": [
    "\n"
   ]
  },
  {
   "cell_type": "markdown",
   "metadata": {},
   "source": [
    "### Energia Potencial"
   ]
  },
  {
   "cell_type": "markdown",
   "metadata": {},
   "source": [
    "Consideremos o seguinte movimento, uma maçã é arremessado para cima. Enquanto o maçã está subindo, a força gravitacional realiza um trabalho negativo sobre a maçã, diminuindo a sua energia cinética. Quando a maçã começa a descer, a força gravitacional passa a realizar um trabalho positivo sobre a maçã, aumentando a sua energia cinética."
   ]
  },
  {
   "cell_type": "markdown",
   "metadata": {},
   "source": [
    "<img src='imgs/fig_5-2.png' width='200'/>"
   ]
  },
  {
   "cell_type": "markdown",
   "metadata": {},
   "source": [
    "Definimos a variação ΔU da energia potencial como o negativo do trabalho realizado sobre o tomate pela força $$\\Delta U = - W$$"
   ]
  },
  {
   "cell_type": "markdown",
   "metadata": {},
   "source": [
    "### Forças Conservativas e Forças Dissipativas"
   ]
  },
  {
   "cell_type": "markdown",
   "metadata": {},
   "source": [
    "Consideremos\n",
    "* O sistema é formado por dois ou mais objetos.\n",
    "* Uma força atua entre um objeto do sistema que se comporta como partícula (o maçã ou o bloco) e o\n",
    "resto do sistema.\n",
    "* Quando a configuração do sistema varia, a força realiza trabalho $W_{1}$ sobre o objeto,\n",
    "transferindo energia entre a energia cinética $E_{C}$ do objeto e alguma outra forma de energia do sistema.\n",
    "* Quando a mudança da configuração se inverte, a força inverte o sentido da transferência de energia,\n",
    "realizando um trabalho $W_{2}$ no processo.\n",
    "\n",
    "<p>Nas situações em que a relação $W_{1} = W_{2}$ é sempre observada, a outra forma de energia é uma energia\n",
    "    potencial, dizemos que a força é uma <i>força conservativa</i>. Como o leitor já deve ter desconfiado, a força gravitacional e a força elástica são conservativas (de outra forma, não poderíamos ter falado em energia potencial gravitacional e energia potencial elástica, como fizemos anteriormente). Uma força que não é conservativa é chamada de <i>força dissipativa</i>. A força de atrito cinético e a força de arrasto são forças dissipativas.</p>"
   ]
  },
  {
   "cell_type": "markdown",
   "metadata": {},
   "source": [
    "Conclusão: O trabalho realizado por uma força conservativa sobre uma partícula que se move entre dois pontos não depende da trajetória seguida pela partícula."
   ]
  },
  {
   "cell_type": "markdown",
   "metadata": {},
   "source": [
    "### Energias Potenciais"
   ]
  },
  {
   "cell_type": "markdown",
   "metadata": {},
   "source": [
    "Energia Potencial Gravitacional  $$\\Delta U = - W_{g}$$\n",
    "$$\\Delta U = - \\int_{h_{i}}^{h_{f}}{\\vec{P} \\cdot {dh} \\hat{j}}$$\n",
    "$$\\Delta U = - \\int_{h_{i}}^{h_{f}}{mg(-\\hat{j}) \\cdot {dh} \\hat{j}}$$\n",
    "$$\\Delta U = mg(h_{f}-h_{i})$$"
   ]
  },
  {
   "cell_type": "markdown",
   "metadata": {},
   "source": [
    "Energia Potencial Elástica $$\\Delta U = - W_{el}$$\n",
    "$$\\Delta U = - \\int_{x_{i}}^{x_{f}}{-kx\\hat{i} \\cdot dx \\hat{i}}$$\n",
    "$$\\Delta U = \\int_{x_{i}}^{x_{f}}{kxdx}$$\n",
    "$$\\Delta U = \\frac{1}{2}k(x_{f}^{2}-x_{i}^{2})$$"
   ]
  },
  {
   "cell_type": "markdown",
   "metadata": {},
   "source": [
    "$$F(r) = - \\frac{dU}{dr}$$\n",
    "$$F(x,y,z) = -\\left(\\frac{dU}{dx} \\hat{i} + \\frac{dU}{dy} \\hat{j} + \\frac{dU}{dz} \\hat{k}\\right) = - \\bigtriangledown U$$"
   ]
  },
  {
   "cell_type": "markdown",
   "metadata": {},
   "source": [
    "### LEI DA CONSERVAÇÃO DA ENERGIA"
   ]
  },
  {
   "cell_type": "markdown",
   "metadata": {},
   "source": [
    "$$W_{T} = \\Delta E_{C}$$\n",
    "$$\\sum W_{FC} + \\sum W_{FNC} = \\Delta E_{C}$$\n",
    "$$- \\sum_{i} \\Delta U_{i} + \\sum W_{FNC} = \\Delta E_{C}$$\n",
    "$$\\sum W_{FNC} = \\Delta E_{C} + \\sum_{i} \\Delta U_{i}$$\n",
    "$$\\sum W_{FNC} = \\Delta E$$"
   ]
  },
  {
   "cell_type": "markdown",
   "metadata": {},
   "source": [
    "### ENERGIA MECÂNICA"
   ]
  },
  {
   "cell_type": "markdown",
   "metadata": {},
   "source": [
    "$$\\Delta E = \\Delta E_{C} + \\sum_{i} \\Delta U_{i}$$\n",
    "$$E_{f} - E_{i} = \\left(E_{Cf} - E_{Ci}\\right) + \\sum_{i} \\left( U_{f} - U_{i}\\right)$$\n",
    "$$E_{f} - E_{i} = \\left(E_{Cf} + \\sum_{i} U_{f} \\right) - \\left(E_{Ci} + \\sum_{i} U_{i} \\right)$$"
   ]
  },
  {
   "cell_type": "markdown",
   "metadata": {},
   "source": [
    "### Exercícios"
   ]
  },
  {
   "cell_type": "markdown",
   "metadata": {},
   "source": [
    "<img src='imgs/Ex_5-3.png' width='800'/>"
   ]
  },
  {
   "cell_type": "markdown",
   "metadata": {},
   "source": [
    "\n",
    "\n",
    "\n",
    "\n",
    "\n",
    "\n",
    "\n",
    "\n",
    "\n",
    "\n",
    "\n",
    "\n",
    "\n",
    "\n",
    "\n"
   ]
  },
  {
   "cell_type": "markdown",
   "metadata": {},
   "source": [
    "<img src='imgs/Ex_5-2.png' width='800'/>"
   ]
  },
  {
   "cell_type": "markdown",
   "metadata": {},
   "source": []
  },
  {
   "cell_type": "markdown",
   "metadata": {},
   "source": []
  },
  {
   "cell_type": "markdown",
   "metadata": {},
   "source": []
  },
  {
   "cell_type": "markdown",
   "metadata": {},
   "source": [
    "### Lei da Conservação da Energia"
   ]
  },
  {
   "cell_type": "markdown",
   "metadata": {},
   "source": [
    "Dizemos que a Energia Mecânica de um Sistema Física é dada por: $$E = E_{C} + \\sum_{i}U_{i}$$"
   ]
  },
  {
   "cell_type": "markdown",
   "metadata": {},
   "source": [
    "Se incluírmos a Energia Dissipada equação fica $$W_{NC} = \\Delta E$$\n",
    "Onde $W_{NC}$ é o trabalho total realizado pelas forças não-conservativas e $\\Delta E$ é a variação da Energia Mecânica."
   ]
  },
  {
   "cell_type": "markdown",
   "metadata": {},
   "source": []
  },
  {
   "cell_type": "markdown",
   "metadata": {},
   "source": [
    "<img src='imgs/Ex_5-4.png' width='800'/>"
   ]
  },
  {
   "cell_type": "markdown",
   "metadata": {},
   "source": []
  },
  {
   "cell_type": "markdown",
   "metadata": {},
   "source": []
  },
  {
   "cell_type": "code",
   "execution_count": null,
   "metadata": {},
   "outputs": [],
   "source": []
  },
  {
   "cell_type": "code",
   "execution_count": null,
   "metadata": {},
   "outputs": [],
   "source": []
  },
  {
   "cell_type": "code",
   "execution_count": null,
   "metadata": {},
   "outputs": [],
   "source": []
  }
 ],
 "metadata": {
  "kernelspec": {
   "display_name": "Python 3",
   "language": "python",
   "name": "python3"
  },
  "language_info": {
   "codemirror_mode": {
    "name": "ipython",
    "version": 3
   },
   "file_extension": ".py",
   "mimetype": "text/x-python",
   "name": "python",
   "nbconvert_exporter": "python",
   "pygments_lexer": "ipython3",
   "version": "3.8.5"
  }
 },
 "nbformat": 4,
 "nbformat_minor": 4
}
