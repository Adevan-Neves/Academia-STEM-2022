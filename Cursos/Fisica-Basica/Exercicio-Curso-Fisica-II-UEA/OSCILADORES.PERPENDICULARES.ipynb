{
 "cells": [
  {
   "cell_type": "code",
   "execution_count": 1,
   "metadata": {},
   "outputs": [
    {
     "data": {
      "text/html": [
       "<div id=\"glowscript\" class=\"glowscript\"></div>"
      ],
      "text/plain": [
       "<IPython.core.display.HTML object>"
      ]
     },
     "metadata": {},
     "output_type": "display_data"
    },
    {
     "data": {
      "application/javascript": [
       "if (typeof Jupyter !== \"undefined\") { window.__context = { glowscript_container: $(\"#glowscript\").removeAttr(\"id\")};}else{ element.textContent = ' ';}"
      ],
      "text/plain": [
       "<IPython.core.display.Javascript object>"
      ]
     },
     "metadata": {},
     "output_type": "display_data"
    }
   ],
   "source": [
    "from vpython import *"
   ]
  },
  {
   "cell_type": "code",
   "execution_count": 2,
   "metadata": {},
   "outputs": [
    {
     "data": {
      "application/javascript": [
       "if (typeof Jupyter !== \"undefined\") {require.undef(\"nbextensions/vpython_libraries/glow.min\");}else{element.textContent = ' ';}"
      ],
      "text/plain": [
       "<IPython.core.display.Javascript object>"
      ]
     },
     "metadata": {},
     "output_type": "display_data"
    },
    {
     "data": {
      "application/javascript": [
       "if (typeof Jupyter !== \"undefined\") {require.undef(\"nbextensions/vpython_libraries/glowcomm\");}else{element.textContent = ' ';}"
      ],
      "text/plain": [
       "<IPython.core.display.Javascript object>"
      ]
     },
     "metadata": {},
     "output_type": "display_data"
    },
    {
     "data": {
      "application/javascript": [
       "if (typeof Jupyter !== \"undefined\") {require.undef(\"nbextensions/vpython_libraries/jquery-ui.custom.min\");}else{element.textContent = ' ';}"
      ],
      "text/plain": [
       "<IPython.core.display.Javascript object>"
      ]
     },
     "metadata": {},
     "output_type": "display_data"
    },
    {
     "data": {
      "application/javascript": [
       "if (typeof Jupyter !== \"undefined\") {require([\"nbextensions/vpython_libraries/glow.min\"], function(){console.log(\"GLOW LOADED\");});}else{element.textContent = ' ';}"
      ],
      "text/plain": [
       "<IPython.core.display.Javascript object>"
      ]
     },
     "metadata": {},
     "output_type": "display_data"
    },
    {
     "data": {
      "application/javascript": [
       "if (typeof Jupyter !== \"undefined\") {require([\"nbextensions/vpython_libraries/glowcomm\"], function(){console.log(\"GLOWCOMM LOADED\");});}else{element.textContent = ' ';}"
      ],
      "text/plain": [
       "<IPython.core.display.Javascript object>"
      ]
     },
     "metadata": {},
     "output_type": "display_data"
    },
    {
     "data": {
      "application/javascript": [
       "if (typeof Jupyter !== \"undefined\") {require([\"nbextensions/vpython_libraries/jquery-ui.custom.min\"], function(){console.log(\"JQUERY LOADED\");});}else{element.textContent = ' ';}"
      ],
      "text/plain": [
       "<IPython.core.display.Javascript object>"
      ]
     },
     "metadata": {},
     "output_type": "display_data"
    }
   ],
   "source": [
    "#Adevan Neves Santos Engenharia de Computação\n",
    "# O movimento começa em t=0 e x(0)= xm\n",
    "\n",
    "xm=5\n",
    "w=9.8\n",
    "ang1=0 # Constante de fase\n",
    "ang1=radians(0)\n",
    "\n",
    "ang2=45\n",
    "ang2=radians(ang2) # Inclinação 1 de eixos\n",
    "\n",
    "xi=xm\n",
    "yi=0\n",
    "xi2=xi*cos(ang2)\n",
    "yi2=xi*sin(ang2)\n",
    "\n",
    "ang3=-45\n",
    "ang3=radians(ang3)\n",
    "\n",
    "xi3=xi*cos(ang3)\n",
    "yi3=xi*sin(ang3)\n",
    "\n",
    "\n",
    "t=0\n",
    "dt=0.01\n",
    "\n",
    "p1=sphere(radius=0.3,make_trail=True,Trail_radius=0.3,pos=vector(xi,yi,0))\n",
    "p2=sphere(radius=0.5,color=color.red,make_trail=True,Trail_radius=0.5,pos=vector(xi2,yi2,0))\n",
    "p3=sphere(radius=0.4,color=color.red,make_trail=True,Trail_radius=0.3,pos=vector(xi3,yi3,0))\n",
    "p4=sphere(radius=0.3,color=color.blue,make_trail=True,Trail_radius=0.3,pos=vector(xi,0,0))\n",
    "p5=sphere(radius=0.3,color=color.blue,make_trail=True,Trail_radius=0.4,pos=vector(0,yi,0))\n",
    "\n",
    "while t<=20:\n",
    "    rate(100)\n",
    "    xf=xm*cos(w*t+ang1)\n",
    "    yf=xm*sin(w*t+ang1)\n",
    "    p1.pos=vector(xf,yf,0)\n",
    "    \n",
    "    ang4=ang2-(w*t+ang1)\n",
    "    x2=xm*cos(ang4)\n",
    "    xf2=x2*cos(ang2)\n",
    "    yf2=x2*sin(ang2)\n",
    "    p2.pos=vector(xf2,yf2,0)\n",
    "    \n",
    "    ang5=ang3+(w*t+ang1)\n",
    "    x3=xm*cos(ang5)\n",
    "    xf3=x3*cos(ang3)\n",
    "    yf3=x3*sin(ang3)\n",
    "    p3.pos=vector(xf3,yf3,0)\n",
    "    \n",
    "    p4.pos.x=xf\n",
    "    p5.pos.y=yf\n",
    "    \n",
    "    t+=dt"
   ]
  },
  {
   "cell_type": "markdown",
   "metadata": {},
   "source": [
    "##   Oscilações Harmônicas\n",
    "###      No movimento harmônico simples (MHS), o deslocamento x(t) de uma partícula em relação à posição de equilíbrio é descrito pela equação\n",
    "$$  x(t) = x_{m} \\cos(\\omega t + \\phi)   $$\n",
    "###     Já o deslocamento no eixo y seria o correspondente seno no eixo do plano cartesiano, com a seguinte equação\n",
    "$$ y(t) = y_{m} \\sin(\\omega t + \\phi) $$\n",
    "###    Em que $xm$ é a amplitude do deslocamento, $\\omega t  + \\phi$ é a fase do movimento e $\\phi$ é a constante de fase. A frequência angular $\\omega$ está relacionada ao período e à frequência do movimento pelas equações $\\omega = \\frac{2\\pi}{T}$ e $\\omega = 2\\pi f$."
   ]
  },
  {
   "cell_type": "markdown",
   "metadata": {},
   "source": [
    "## Resolvendo o Desafio\n",
    "###   No instante t=0, sabemos pelo problema que $x(0) = x_{m}$ pela equação, e que $ y(0) = 0  $, portanto o movimento está descrito correntamente até este ponto como uma trajetória circular de raio $x_{m}$. Ao adicionar um eixo inclinado 45° em relação ao eixo x, percebe-se a formação de uma sombra. Buscando identificar uma fórmula para este ângulo, onde $ \\alpha = \\frac{\\pi}{4} - (\\omega t + \\phi) $. Simetricamente podemos determinar o $\\alpha_{2}$ como sendo $ \\alpha = \\omega t + \\phi -(- \\frac{\\pi}{4}) $, resultando em um ângulo $\\alpha_{2} = \\omega t + \\phi + \\frac{\\pi}{4}$\n",
    "\n",
    "### Segue abaixo a ilustração do autor sobre o processo de dedução das fórmulas de movimento\n",
    "## Movimento Circular\n",
    "![Alter text](./imagens/ilustracao01.jpg)\n",
    "\n",
    "## Primeiro eixo inclinado\n",
    "![Alter text](./imagens/ilustracao02.jpg)\n",
    "\n",
    "## Segundo eixo inclinad\n",
    "![Alter text](./imagens/ilustracao03.jpg)"
   ]
  },
  {
   "cell_type": "code",
   "execution_count": null,
   "metadata": {},
   "outputs": [],
   "source": []
  }
 ],
 "metadata": {
  "kernelspec": {
   "display_name": "Python 3",
   "language": "python",
   "name": "python3"
  },
  "language_info": {
   "codemirror_mode": {
    "name": "ipython",
    "version": 3
   },
   "file_extension": ".py",
   "mimetype": "text/x-python",
   "name": "python",
   "nbconvert_exporter": "python",
   "pygments_lexer": "ipython3",
   "version": "3.8.8"
  }
 },
 "nbformat": 4,
 "nbformat_minor": 4
}
