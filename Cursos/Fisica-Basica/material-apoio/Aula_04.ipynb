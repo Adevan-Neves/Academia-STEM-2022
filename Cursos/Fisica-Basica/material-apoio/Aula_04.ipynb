{
 "cells": [
  {
   "cell_type": "markdown",
   "metadata": {},
   "source": [
    "# **CURSO BÁSICO DE FÍSICA**"
   ]
  },
  {
   "cell_type": "markdown",
   "metadata": {},
   "source": [
    "## AULA 4"
   ]
  },
  {
   "cell_type": "markdown",
   "metadata": {},
   "source": [
    "* Forças de interação e de contato;\n",
    "* Força de atrito;"
   ]
  },
  {
   "cell_type": "markdown",
   "metadata": {},
   "source": [
    "### Força Peso"
   ]
  },
  {
   "cell_type": "markdown",
   "metadata": {},
   "source": [
    "**Lei da Gravitação Universal:** $$F_{g} = \\frac{GM_{1}M_{2}}{r^2}$$\n",
    "$$E = m c^{2}$$"
   ]
  },
  {
   "cell_type": "markdown",
   "metadata": {},
   "source": [
    "<p>Vamos considerar as imagens a seguir: Como podemos notar na figura (a) temos a Terra, a mesa e a laranja formando um sistema física. Cada objeto interage com o outro por meio de forças de contato e interação a distância. Podemos construir o diagrama de corpo livre para cada objeto, identificando as forças que estão atuando sobre eles.</p>\n",
    "<img src='imgs/TerraParticula.png' width='600'/>"
   ]
  },
  {
   "cell_type": "markdown",
   "metadata": {},
   "source": [
    "<p>Utilizando-se a terceira Lei de Newton, podemos escrever:</p>\n",
    "<img src='imgs/TerraParticula1.png' width='600'/>"
   ]
  },
  {
   "cell_type": "markdown",
   "metadata": {},
   "source": [
    "**Força Peso** $$P = \\left(\\frac{GM_{T}}{R_{T}^{2}} \\right)m = mg$$\n",
    "<p>$$ g = \\frac{GM_{T}}{R_{T}^{2}} \\approx 9.8 m/s²$$</p>\n",
    "<p>Onde $M_{T}$ é a massa estimada da Terra e $R_{T}$ é o raio médio da Terra, com $G = 6.67 × 10^{-11} m^{3}kg^{-1}s^{-2}$</p>"
   ]
  },
  {
   "cell_type": "markdown",
   "metadata": {},
   "source": [
    "**Força Normal:** Quando um corpo exerce uma força sobre uma superfície, a superfície (ainda que aparentemente rígida) se deforma e empurra o corpo com uma força normal **N** que é perpendicular à superfície."
   ]
  },
  {
   "cell_type": "markdown",
   "metadata": {},
   "source": [
    "**Força Elástica:** A força que uma mola exerce sobre um corpo é proporcional ao deslocamento da extremidade livre a partir da posição que o corpo ocupa quando a mola está no estado relaxado.\n",
    "<p>$$\\vec{F}_{el} = - k \\Delta\\vec{r}$$</p>\n",
    "<p>O sinal negativo indica que a força elástica é sempre contrária ao deslocamento da extremidade livre da mola.</p>"
   ]
  },
  {
   "cell_type": "markdown",
   "metadata": {},
   "source": [
    "<img src='imgs/Elastica01.png' width='400'/>"
   ]
  },
  {
   "cell_type": "markdown",
   "metadata": {},
   "source": [
    "$$\\vec{F}_{R} = m \\vec{a}$$\n",
    "$$F_{el} = ma_{x}$$\n",
    "$$-kx = m\\frac{d^2x}{dt^2}$$\n",
    "$$\\frac{d^2x}{dt^2} + (k/m) x = 0$$\n",
    "$$\\frac{d^2x}{dt^2} + \\omega^2 x = 0$$\n",
    "$$x = A \\cos(\\omega t + \\theta_{0})$$"
   ]
  },
  {
   "cell_type": "markdown",
   "metadata": {},
   "source": [
    "### Simulando em Python"
   ]
  },
  {
   "cell_type": "code",
   "execution_count": 2,
   "metadata": {},
   "outputs": [
    {
     "data": {
      "text/html": [
       "<div id=\"glowscript\" class=\"glowscript\"></div>"
      ],
      "text/plain": [
       "<IPython.core.display.HTML object>"
      ]
     },
     "metadata": {},
     "output_type": "display_data"
    },
    {
     "data": {
      "application/javascript": [
       "if (typeof Jupyter !== \"undefined\") { window.__context = { glowscript_container: $(\"#glowscript\").removeAttr(\"id\")};}else{ element.textContent = ' ';}"
      ],
      "text/plain": [
       "<IPython.core.display.Javascript object>"
      ]
     },
     "metadata": {},
     "output_type": "display_data"
    },
    {
     "ename": "KeyboardInterrupt",
     "evalue": "",
     "output_type": "error",
     "traceback": [
      "\u001b[1;31m---------------------------------------------------------------------------\u001b[0m",
      "\u001b[1;31mKeyboardInterrupt\u001b[0m                         Traceback (most recent call last)",
      "\u001b[1;32m<ipython-input-2-d190b0d57a99>\u001b[0m in \u001b[0;36m<module>\u001b[1;34m\u001b[0m\n\u001b[0;32m     68\u001b[0m \u001b[1;32mwhile\u001b[0m  \u001b[1;32mTrue\u001b[0m\u001b[1;33m:\u001b[0m\u001b[1;33m\u001b[0m\u001b[1;33m\u001b[0m\u001b[0m\n\u001b[0;32m     69\u001b[0m \u001b[1;33m\u001b[0m\u001b[0m\n\u001b[1;32m---> 70\u001b[1;33m     \u001b[0mrate\u001b[0m\u001b[1;33m(\u001b[0m\u001b[1;36m100\u001b[0m\u001b[1;33m)\u001b[0m\u001b[1;33m\u001b[0m\u001b[1;33m\u001b[0m\u001b[0m\n\u001b[0m\u001b[0;32m     71\u001b[0m     \u001b[1;32mif\u001b[0m \u001b[0mrunning\u001b[0m\u001b[1;33m:\u001b[0m\u001b[1;33m\u001b[0m\u001b[1;33m\u001b[0m\u001b[0m\n\u001b[0;32m     72\u001b[0m         \u001b[0mpx\u001b[0m \u001b[1;33m=\u001b[0m \u001b[0mA\u001b[0m\u001b[1;33m*\u001b[0m\u001b[0mcos\u001b[0m\u001b[1;33m(\u001b[0m\u001b[0mradians\u001b[0m\u001b[1;33m(\u001b[0m\u001b[0mang\u001b[0m\u001b[1;33m)\u001b[0m\u001b[1;33m+\u001b[0m\u001b[0msqrt\u001b[0m\u001b[1;33m(\u001b[0m\u001b[0mk\u001b[0m\u001b[1;33m/\u001b[0m\u001b[0mm\u001b[0m\u001b[1;33m)\u001b[0m\u001b[1;33m*\u001b[0m\u001b[0mt\u001b[0m\u001b[1;33m)\u001b[0m\u001b[1;33m\u001b[0m\u001b[1;33m\u001b[0m\u001b[0m\n",
      "\u001b[1;32mC:\\ProgramData\\Anaconda3\\lib\\site-packages\\vpython\\rate_control.py\u001b[0m in \u001b[0;36m__call__\u001b[1;34m(self, N)\u001b[0m\n\u001b[0;32m    264\u001b[0m         \u001b[0mself\u001b[0m\u001b[1;33m.\u001b[0m\u001b[0mrval\u001b[0m \u001b[1;33m=\u001b[0m \u001b[0mN\u001b[0m\u001b[1;33m\u001b[0m\u001b[1;33m\u001b[0m\u001b[0m\n\u001b[0;32m    265\u001b[0m         \u001b[1;32mif\u001b[0m \u001b[0mself\u001b[0m\u001b[1;33m.\u001b[0m\u001b[0mrval\u001b[0m \u001b[1;33m<\u001b[0m \u001b[1;36m1\u001b[0m\u001b[1;33m:\u001b[0m \u001b[1;32mraise\u001b[0m \u001b[0mValueError\u001b[0m\u001b[1;33m(\u001b[0m\u001b[1;34m\"rate value must be greater than or equal to 1\"\u001b[0m\u001b[1;33m)\u001b[0m\u001b[1;33m\u001b[0m\u001b[1;33m\u001b[0m\u001b[0m\n\u001b[1;32m--> 266\u001b[1;33m         \u001b[0msuper\u001b[0m\u001b[1;33m(\u001b[0m\u001b[0m_RateKeeper2\u001b[0m\u001b[1;33m,\u001b[0m \u001b[0mself\u001b[0m\u001b[1;33m)\u001b[0m\u001b[1;33m.\u001b[0m\u001b[0m__call__\u001b[0m\u001b[1;33m(\u001b[0m\u001b[0mself\u001b[0m\u001b[1;33m.\u001b[0m\u001b[0mrval\u001b[0m\u001b[1;33m)\u001b[0m \u001b[1;31m## calls __call__ in rate_control.py\u001b[0m\u001b[1;33m\u001b[0m\u001b[1;33m\u001b[0m\u001b[0m\n\u001b[0m\u001b[0;32m    267\u001b[0m \u001b[1;33m\u001b[0m\u001b[0m\n\u001b[0;32m    268\u001b[0m \u001b[1;33m\u001b[0m\u001b[0m\n",
      "\u001b[1;32mC:\\ProgramData\\Anaconda3\\lib\\site-packages\\vpython\\rate_control.py\u001b[0m in \u001b[0;36m__call__\u001b[1;34m(self, maxRate)\u001b[0m\n\u001b[0;32m    218\u001b[0m             \u001b[0mdt\u001b[0m \u001b[1;33m=\u001b[0m \u001b[0mself\u001b[0m\u001b[1;33m.\u001b[0m\u001b[0mlastSleep\u001b[0m \u001b[1;33m+\u001b[0m \u001b[0mself\u001b[0m\u001b[1;33m.\u001b[0m\u001b[0mcalls\u001b[0m\u001b[1;33m*\u001b[0m\u001b[1;33m(\u001b[0m\u001b[0mself\u001b[0m\u001b[1;33m.\u001b[0m\u001b[0muserTime\u001b[0m \u001b[1;33m+\u001b[0m \u001b[0mself\u001b[0m\u001b[1;33m.\u001b[0m\u001b[0mcallTime\u001b[0m \u001b[1;33m+\u001b[0m \u001b[0mself\u001b[0m\u001b[1;33m.\u001b[0m\u001b[0mdelay\u001b[0m\u001b[1;33m)\u001b[0m \u001b[1;33m+\u001b[0m\u001b[0;31m \u001b[0m\u001b[0;31m\\\u001b[0m\u001b[1;33m\u001b[0m\u001b[1;33m\u001b[0m\u001b[0m\n\u001b[0;32m    219\u001b[0m                  \u001b[0mrenders\u001b[0m\u001b[1;33m*\u001b[0m\u001b[0mself\u001b[0m\u001b[1;33m.\u001b[0m\u001b[0mrenderTime\u001b[0m \u001b[1;33m+\u001b[0m \u001b[0msleeps\u001b[0m\u001b[1;33m*\u001b[0m\u001b[0mself\u001b[0m\u001b[1;33m.\u001b[0m\u001b[0minteractionPeriod\u001b[0m \u001b[1;33m-\u001b[0m \u001b[0m_clock\u001b[0m\u001b[1;33m(\u001b[0m\u001b[1;33m)\u001b[0m\u001b[1;33m\u001b[0m\u001b[1;33m\u001b[0m\u001b[0m\n\u001b[1;32m--> 220\u001b[1;33m             \u001b[0m_sleep\u001b[0m\u001b[1;33m(\u001b[0m\u001b[0mdt\u001b[0m\u001b[1;33m)\u001b[0m\u001b[1;33m\u001b[0m\u001b[1;33m\u001b[0m\u001b[0m\n\u001b[0m\u001b[0;32m    221\u001b[0m             \u001b[0mself\u001b[0m\u001b[1;33m.\u001b[0m\u001b[0mlastSleep\u001b[0m \u001b[1;33m=\u001b[0m \u001b[0m_clock\u001b[0m\u001b[1;33m(\u001b[0m\u001b[1;33m)\u001b[0m\u001b[1;33m\u001b[0m\u001b[1;33m\u001b[0m\u001b[0m\n\u001b[0;32m    222\u001b[0m             \u001b[0mself\u001b[0m\u001b[1;33m.\u001b[0m\u001b[0mcalls\u001b[0m \u001b[1;33m=\u001b[0m \u001b[1;36m0\u001b[0m\u001b[1;33m\u001b[0m\u001b[1;33m\u001b[0m\u001b[0m\n",
      "\u001b[1;32mC:\\ProgramData\\Anaconda3\\lib\\site-packages\\vpython\\rate_control.py\u001b[0m in \u001b[0;36m_sleep\u001b[1;34m(dt)\u001b[0m\n\u001b[0;32m     60\u001b[0m         \u001b[0mdtsleep\u001b[0m \u001b[1;33m=\u001b[0m \u001b[0mnticks\u001b[0m\u001b[1;33m*\u001b[0m\u001b[0m_tick\u001b[0m\u001b[1;33m\u001b[0m\u001b[1;33m\u001b[0m\u001b[0m\n\u001b[0;32m     61\u001b[0m         \u001b[0mt\u001b[0m \u001b[1;33m=\u001b[0m \u001b[0m_clock\u001b[0m\u001b[1;33m(\u001b[0m\u001b[1;33m)\u001b[0m\u001b[1;33m\u001b[0m\u001b[1;33m\u001b[0m\u001b[0m\n\u001b[1;32m---> 62\u001b[1;33m         \u001b[0mtime\u001b[0m\u001b[1;33m.\u001b[0m\u001b[0msleep\u001b[0m\u001b[1;33m(\u001b[0m\u001b[0mdtsleep\u001b[0m\u001b[1;33m)\u001b[0m\u001b[1;33m\u001b[0m\u001b[1;33m\u001b[0m\u001b[0m\n\u001b[0m\u001b[0;32m     63\u001b[0m         \u001b[0mt\u001b[0m \u001b[1;33m=\u001b[0m \u001b[0m_clock\u001b[0m\u001b[1;33m(\u001b[0m\u001b[1;33m)\u001b[0m\u001b[1;33m-\u001b[0m\u001b[0mt\u001b[0m\u001b[1;33m\u001b[0m\u001b[1;33m\u001b[0m\u001b[0m\n\u001b[0;32m     64\u001b[0m         \u001b[0mdt\u001b[0m \u001b[1;33m-=\u001b[0m \u001b[0mt\u001b[0m\u001b[1;33m\u001b[0m\u001b[1;33m\u001b[0m\u001b[0m\n",
      "\u001b[1;31mKeyboardInterrupt\u001b[0m: "
     ]
    }
   ],
   "source": [
    "from vpython import*\n",
    "\n",
    "cena = canvas(title='Oscilador Harmônico Simples',\n",
    "     width=600, height=300,\n",
    "     center=vector(5,0,0), background=color.white)\n",
    "     \n",
    "#Definindo botão de siga e pare\n",
    "running = True\n",
    "\n",
    "def Run(b):\n",
    "    global running\n",
    "    running = not running\n",
    "    if running: b.text = \"Pare\"\n",
    "    else: b.text = \"siga\"\n",
    "    \n",
    "button(canvas = cena, text=\"Pause\",  bind=Run)\n",
    " \n",
    "k = 10\n",
    "m = 1\n",
    "ang = 90\n",
    "A = 10\n",
    "t = 0\n",
    "T = 2*pi*sqrt(m/k)\n",
    "\n",
    "\n",
    "#Oscilador 1D\n",
    "\n",
    "px = A*cos(radians(ang)+sqrt(k/m)*t)\n",
    "\n",
    "\n",
    "forca = arrow(pos=vector(5 + px,0,0), axis=vector(5,0,0), shaftwidth=0.2, color=color.black)\n",
    "\n",
    "part = sphere(canvas = cena, pos = vector(5 + px,0,0), radius = 1, color = color.yellow)\n",
    "\n",
    "mola = helix(canvas = cena, pos = vector(-10,0,0), axis=vector(15 + px,0,0), coils = 15 )\n",
    "\n",
    "parDireita = box(canvas = cena, pos = vector(-10,3.5,0), size = vector(0.5,10,6), color = color.red)\n",
    "\n",
    "piso = box(canvas = cena, pos = vector(4.5,-1.5,0), size = vector(30,0.5,6), color = color.blue)\n",
    "\n",
    "dt = 0.01\n",
    "\n",
    "\n",
    "gd1 = graph(width=500, height=250,\n",
    "      title='<b>Posição versus Tempo do Oscilador Harmônico Simples</b>',\n",
    "      xtitle='<i>t</i>', ytitle='<i>x</i>',\n",
    "      foreground=color.black, background=color.white)\n",
    "\n",
    "g1 =  gcurve(graph = gd1, color=color.cyan)\n",
    "\n",
    "\n",
    "gd2 = graph(width=500, height=500,\n",
    "      title='<b>Velocidade versus Posição do Oscilador Harmônico Simples</b>',\n",
    "      xtitle='<i>x</i>', ytitle='<i>v</i>',\n",
    "      foreground=color.black, background=color.white)\n",
    "\n",
    "g2 =  gcurve(graph = gd2, color=color.black)\n",
    "\n",
    "gd3 = graph(width=500, height=500,\n",
    "      title='<b>Energia versus Tempo do Oscilador Harmônico Simples</b>',\n",
    "      xtitle='<i>t</i>', ytitle='<i>Ec, Ep, E</i>',\n",
    "      foreground=color.black, background=color.white)\n",
    "\n",
    "g3 =  gcurve(graph = gd3, color=color.red, label = 'Energia Cinética')\n",
    "g4 =  gcurve(graph = gd3, color=color.blue, label = 'Energia Potencial Elástica')\n",
    "g5 =  gcurve(graph = gd3, color=color.green, label = 'Energia Mecânica')\n",
    "\n",
    "while  True:\n",
    "    \n",
    "    rate(100)\n",
    "    if running:\n",
    "        px = A*cos(radians(ang)+sqrt(k/m)*t)\n",
    "        vx = -A*sqrt(k/m)*sin(radians(ang)+sqrt(k/m)*t)\n",
    "        forca.pos.x = (5 + px) #Posição da origem do vetor\n",
    "        forca.axis.x = -2*px #Módulo do vetor\n",
    "        part.pos.x = 5 + px\n",
    "        \n",
    "        mola.axis.x = 15 + px\n",
    "        \n",
    "        g1.plot(t,px)\n",
    "        \n",
    "        g2.plot(px,vx)\n",
    "        \n",
    "        g3.plot(t,m/2*vx**2)\n",
    "        \n",
    "        g4.plot(t,k/2*px**2)\n",
    "        \n",
    "        g5.plot(t,k/2*A**2)\n",
    "        \n",
    "        t = t + dt\n",
    "    \n"
   ]
  },
  {
   "cell_type": "markdown",
   "metadata": {},
   "source": [
    "**Força de Atrito:** A força de atrito é uma força que oferece resistência ao movimento.\n",
    "<p>A força de atrito possui dois regimes de ação, logo, podemos dizer que existem dois tipos de atrito.</p>\n",
    "<p>A <b><i>força de atrito estático</i></b> ocorre quando a força aplicada ao objeto  não é grande suficiente para removê-lo do estado de inércia, isso ocorre porque a força de atrito estático varia de zero até um valor máximo. Pode-se escrever a equação da força de atrito estático como:</p>\n",
    "<p>$$\\vec{f}_{e} \\leq \\mu_{e}N \\hat{n} $$</p>\n",
    "<p>O vetor $\\hat{n}$ é um vetor unitário que aponta no sentido contrário ao movimento do objeto e $\\mu_{e}$  é o coeficiente de atrito estático.</p>\n",
    "<p>A <b><i>força de atrito cinético</i></b> ocorre quando a força aplicada excede o valor máximo da força de atrito estático, o objeto se movimenta e a força de atrito assume a forma: $$\\vec{f}_{c} = \\mu_{c}N\\hat{n}$$</P."
   ]
  },
  {
   "cell_type": "markdown",
   "metadata": {},
   "source": [
    "<img src='imgs/Atrito01.png' width='700'/>"
   ]
  },
  {
   "cell_type": "code",
   "execution_count": 3,
   "metadata": {},
   "outputs": [
    {
     "data": {
      "text/html": [
       "<video width=\"320\" height=\"240\" controls>\n",
       "  <source src=\"imgs/TruqueMesa.mp4\" type=\"video/mp4\">\n",
       "</video>\n"
      ],
      "text/plain": [
       "<IPython.core.display.HTML object>"
      ]
     },
     "metadata": {},
     "output_type": "display_data"
    }
   ],
   "source": [
    "%%HTML\n",
    "<video width=\"320\" height=\"240\" controls>\n",
    "  <source src=\"imgs/TruqueMesa.mp4\" type=\"video/mp4\">\n",
    "</video>"
   ]
  },
  {
   "cell_type": "markdown",
   "metadata": {},
   "source": []
  },
  {
   "cell_type": "markdown",
   "metadata": {},
   "source": [
    "### Exercícios 01"
   ]
  },
  {
   "cell_type": "markdown",
   "metadata": {},
   "source": [
    "<img src='imgs/exerc_08.png' width='700' />"
   ]
  },
  {
   "cell_type": "markdown",
   "metadata": {},
   "source": []
  },
  {
   "cell_type": "markdown",
   "metadata": {},
   "source": [
    "### Exercícios 02"
   ]
  },
  {
   "cell_type": "markdown",
   "metadata": {},
   "source": [
    "<img src='imgs/exerc_09.png' width='700' />"
   ]
  },
  {
   "cell_type": "markdown",
   "metadata": {},
   "source": []
  },
  {
   "cell_type": "markdown",
   "metadata": {},
   "source": [
    "### Exercícios 03"
   ]
  },
  {
   "cell_type": "markdown",
   "metadata": {},
   "source": [
    "<img src='imgs/exerc_10.png' width='700' />"
   ]
  },
  {
   "cell_type": "markdown",
   "metadata": {},
   "source": []
  },
  {
   "cell_type": "markdown",
   "metadata": {},
   "source": []
  },
  {
   "cell_type": "markdown",
   "metadata": {},
   "source": []
  }
 ],
 "metadata": {
  "kernelspec": {
   "display_name": "Python 3",
   "language": "python",
   "name": "python3"
  },
  "language_info": {
   "codemirror_mode": {
    "name": "ipython",
    "version": 3
   },
   "file_extension": ".py",
   "mimetype": "text/x-python",
   "name": "python",
   "nbconvert_exporter": "python",
   "pygments_lexer": "ipython3",
   "version": "3.8.5"
  }
 },
 "nbformat": 4,
 "nbformat_minor": 4
}
