{
 "cells": [
  {
   "cell_type": "markdown",
   "id": "35705e66",
   "metadata": {},
   "source": [
    "# Seja bem vindo ao Exercício de Matemática Básica do Academia STEM\n",
    "\n",
    "## Autor : [Adevan Neves Santos](https://www.linkedin.com/in/adevan-neves-santos/)\n",
    "\n",
    "\n",
    "# Atividade 01 :\n",
    "\n",
    "### 1) Faça um resumo do que você aprendeu até agora sobre Integrais Definidas e Indefinidas. Neste Resumo podem conter : definições, teoremas, exemplos, esquemas, diagramas entre outros ...\n",
    "\n",
    "## A inversa da Diferenciação\n",
    "### ---> Definição : Uma função $F$ é chamada de antiderivada de uma função $f$ em um intervalo I se$F^{,} (x) = f(x)$ para todo valor de x em I, assim como $F(x) + c$ é a antiderivada mais geral, com c sendo uma constante arbitrária\n",
    "### ---->Exemplo, seja $F(x) = 4x^{3} +x^{2}+ 5$ então $F^{,}(x)= f(x) = 12x^{2}+ 2x$ é uma antiderivada de $f$\n",
    "\n",
    "## Integral Definida\n",
    "### ----->Definição : Se $f$ é uma função definida no intervalo fechado [a,b] então a a integral definida de $f$, de a até b, denotada por $\\int_{a}^{b} f(x) dx = \\sum_{i=1}^{n} f(\\xi) \\Delta_{i}x$ , se o limite existir.\n",
    "## Propriedades\n",
    "### Se $a>b$ então \n",
    "$$\\int_{a}^{b} f(x)dx= - \\int_{b}^{a} f(x) dx$$\n",
    "###  se $f(a)$ existir \n",
    "$$\\int_{a}^{a}f(x)dx = 0$$\n",
    "### Se a função $ f $ é integrável no intervalo fechado [a,b] e se k é uma constante qualquer, então\n",
    "$$\\int_{a}^{b} k f(x) dx = k \\int_{a}^{b} f(x) dx$$\n",
    "### Integral da soma é a soma das integrais\n",
    "$$\\int_{a}^{b} [ f(x)+g(x)] dx = \\int_{a}^{b} f(x)dx + \\int_{a}^{b} g(x) dx$$\n",
    "### Se uma função é integrável nos intervalos fechados [a,b] , [a,c] e [c,b],sendo a < c < b \n",
    "$$\\int_{a}^{b}f(x)dx = \\int_{a}^{c}f(x)dx + \\int_{c}^{b} f(x)dx$$\n",
    "## Teorema Fundamental do Cálculo\n",
    "###  ---->>> Seja $f$ uma função contínua no intervalo fechado [a,b] e $g$ uma função tal que $ g^{,}(x) = f(x) $ para todo x em [a,b] Então :\n",
    "$$ \\int_{a}^{b} f(t)dt = g(b)- g(a) $$\n",
    "\n",
    "### 2) Faça uma pesquisa (simples) e exponha de forma sucinta algumas aplicações ou situações em que apareça o conceito de integral envolvido na engenharia que você está cursando. (Você tem liberdade pra criar qualquer tipo de material: texto, slide, vídeo, etc)\n",
    "# Aplicações da Integral Definida\n",
    "## Área de curva\n",
    "### ----> O estudo da área em curvas abaixos de funções é de fundamnetal importância em estudos de trabalho na física, na economia e também em matérias mais avançadas de cálculo diferencial. Este número é calculado por meio de resolução da integral formada por todas as funções em suporposição, utilizando as propriedades descritas acima\n",
    "\n",
    "![Al text](imagens/area.jpg)\n",
    "\n",
    "## Centro de massa em uma barra\n",
    "\n",
    "### ---> Definição : Uma barra de comprimento L m tem seu extremo esquerdo na origem e o número de quilogramas por metro quadrado na densidade linear em um ponto x m da origem é $ \\rho (x) $, onde $ \\rho $ é contínua em [0,L]. O momento de massa da barra em relação á Origem é $ M_{0} $ kg-m, onde $ M_{0} $ e o centro de massa da barra está no ponto $\\overline{x}$:\n",
    "\n",
    "$$ \\overline{x} = \\frac{\\int_{0}^{L} x\\rho(x)dx }{\\int_{0}^{L}\\rho (x) dx}  $$\n",
    "[Veja mais neste vídeo](https://youtu.be/vK5dwicUHDc)\n",
    "\n",
    "![Alter text](imagens/aula.png)\n",
    "\n",
    "# Obrigado !!!!!!!"
   ]
  },
  {
   "cell_type": "code",
   "execution_count": null,
   "id": "1fbf596e",
   "metadata": {},
   "outputs": [],
   "source": []
  }
 ],
 "metadata": {
  "kernelspec": {
   "display_name": "Python 3",
   "language": "python",
   "name": "python3"
  },
  "language_info": {
   "codemirror_mode": {
    "name": "ipython",
    "version": 3
   },
   "file_extension": ".py",
   "mimetype": "text/x-python",
   "name": "python",
   "nbconvert_exporter": "python",
   "pygments_lexer": "ipython3",
   "version": "3.8.8"
  }
 },
 "nbformat": 4,
 "nbformat_minor": 5
}
