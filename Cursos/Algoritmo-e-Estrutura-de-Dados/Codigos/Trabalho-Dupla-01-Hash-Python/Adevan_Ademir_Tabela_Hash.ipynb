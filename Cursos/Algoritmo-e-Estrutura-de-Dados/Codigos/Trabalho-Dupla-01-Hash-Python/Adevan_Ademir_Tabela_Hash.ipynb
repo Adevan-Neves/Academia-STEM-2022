{
 "cells": [
  {
   "cell_type": "code",
   "execution_count": 1,
   "metadata": {
    "id": "Ifn-f3BP8SoY"
   },
   "outputs": [],
   "source": [
    "import pandas as pd\n",
    "import numpy as np\n",
    "import matplotlib.pyplot as plt\n",
    "import math"
   ]
  },
  {
   "cell_type": "code",
   "execution_count": 2,
   "metadata": {
    "id": "rIewWfIC8o0F"
   },
   "outputs": [],
   "source": [
    "dataframe=pd.read_csv('lexicons-webmedia21.csv')"
   ]
  },
  {
   "cell_type": "code",
   "execution_count": 3,
   "metadata": {
    "colab": {
     "base_uri": "https://localhost:8080/"
    },
    "id": "AEt_zMsp9ARv",
    "outputId": "13885984-21c6-4757-d53d-ec9ec3640b8e"
   },
   "outputs": [
    {
     "data": {
      "text/plain": [
       "Index(['term', 'p_pos', 'p_neg', 'class'], dtype='object')"
      ]
     },
     "execution_count": 3,
     "metadata": {},
     "output_type": "execute_result"
    }
   ],
   "source": [
    "dataframe.columns"
   ]
  },
  {
   "cell_type": "code",
   "execution_count": 4,
   "metadata": {
    "id": "A3jxwz2v9HHD"
   },
   "outputs": [],
   "source": [
    "dataframe=dataframe.drop(['p_pos', 'p_neg', 'class'],axis=1)"
   ]
  },
  {
   "cell_type": "code",
   "execution_count": 5,
   "metadata": {
    "colab": {
     "base_uri": "https://localhost:8080/",
     "height": 142
    },
    "id": "hT68dI3c9LZ0",
    "outputId": "a57858fb-7181-4675-9787-524692770f06"
   },
   "outputs": [
    {
     "data": {
      "text/html": [
       "<div>\n",
       "<style scoped>\n",
       "    .dataframe tbody tr th:only-of-type {\n",
       "        vertical-align: middle;\n",
       "    }\n",
       "\n",
       "    .dataframe tbody tr th {\n",
       "        vertical-align: top;\n",
       "    }\n",
       "\n",
       "    .dataframe thead th {\n",
       "        text-align: right;\n",
       "    }\n",
       "</style>\n",
       "<table border=\"1\" class=\"dataframe\">\n",
       "  <thead>\n",
       "    <tr style=\"text-align: right;\">\n",
       "      <th></th>\n",
       "      <th>term</th>\n",
       "    </tr>\n",
       "  </thead>\n",
       "  <tbody>\n",
       "    <tr>\n",
       "      <th>0</th>\n",
       "      <td>excelente</td>\n",
       "    </tr>\n",
       "    <tr>\n",
       "      <th>1</th>\n",
       "      <td>agradável</td>\n",
       "    </tr>\n",
       "    <tr>\n",
       "      <th>2</th>\n",
       "      <td>ótimo</td>\n",
       "    </tr>\n",
       "  </tbody>\n",
       "</table>\n",
       "</div>"
      ],
      "text/plain": [
       "        term\n",
       "0  excelente\n",
       "1  agradável\n",
       "2      ótimo"
      ]
     },
     "execution_count": 5,
     "metadata": {},
     "output_type": "execute_result"
    }
   ],
   "source": [
    "dataframe.head(3)"
   ]
  },
  {
   "cell_type": "code",
   "execution_count": 6,
   "metadata": {
    "colab": {
     "base_uri": "https://localhost:8080/",
     "height": 80
    },
    "id": "aLAMJHhFmHA7",
    "outputId": "1ca9006e-23ca-445c-d3ca-a8e1e8c43436"
   },
   "outputs": [
    {
     "data": {
      "text/html": [
       "<div>\n",
       "<style scoped>\n",
       "    .dataframe tbody tr th:only-of-type {\n",
       "        vertical-align: middle;\n",
       "    }\n",
       "\n",
       "    .dataframe tbody tr th {\n",
       "        vertical-align: top;\n",
       "    }\n",
       "\n",
       "    .dataframe thead th {\n",
       "        text-align: right;\n",
       "    }\n",
       "</style>\n",
       "<table border=\"1\" class=\"dataframe\">\n",
       "  <thead>\n",
       "    <tr style=\"text-align: right;\">\n",
       "      <th></th>\n",
       "      <th>term</th>\n",
       "    </tr>\n",
       "  </thead>\n",
       "  <tbody>\n",
       "    <tr>\n",
       "      <th>38497</th>\n",
       "      <td>NaN</td>\n",
       "    </tr>\n",
       "  </tbody>\n",
       "</table>\n",
       "</div>"
      ],
      "text/plain": [
       "      term\n",
       "38497  NaN"
      ]
     },
     "execution_count": 6,
     "metadata": {},
     "output_type": "execute_result"
    }
   ],
   "source": [
    "# Um valor NaN foi colocado na nossa fonte de dados, eu localizei ele aí, preciso tirá-lo\n",
    "dataframe[dataframe['term'].isnull()]\n"
   ]
  },
  {
   "cell_type": "code",
   "execution_count": 7,
   "metadata": {
    "id": "JBPk88janUi0"
   },
   "outputs": [],
   "source": [
    "# Vou remover essa linha desnecessária\n",
    "dataframe=dataframe.drop(38497)"
   ]
  },
  {
   "cell_type": "code",
   "execution_count": 8,
   "metadata": {
    "colab": {
     "base_uri": "https://localhost:8080/",
     "height": 49
    },
    "id": "8j57v7UknjtM",
    "outputId": "ee2df27a-1800-4683-99ed-29196d498563"
   },
   "outputs": [
    {
     "data": {
      "text/html": [
       "<div>\n",
       "<style scoped>\n",
       "    .dataframe tbody tr th:only-of-type {\n",
       "        vertical-align: middle;\n",
       "    }\n",
       "\n",
       "    .dataframe tbody tr th {\n",
       "        vertical-align: top;\n",
       "    }\n",
       "\n",
       "    .dataframe thead th {\n",
       "        text-align: right;\n",
       "    }\n",
       "</style>\n",
       "<table border=\"1\" class=\"dataframe\">\n",
       "  <thead>\n",
       "    <tr style=\"text-align: right;\">\n",
       "      <th></th>\n",
       "      <th>term</th>\n",
       "    </tr>\n",
       "  </thead>\n",
       "  <tbody>\n",
       "  </tbody>\n",
       "</table>\n",
       "</div>"
      ],
      "text/plain": [
       "Empty DataFrame\n",
       "Columns: [term]\n",
       "Index: []"
      ]
     },
     "execution_count": 8,
     "metadata": {},
     "output_type": "execute_result"
    }
   ],
   "source": [
    "# Repetimos o comando e vemos que a linha não existe mais\n",
    "dataframe[dataframe['term'].isnull()]\n",
    "# Não temos mais dado nulo no nosso dataframe"
   ]
  },
  {
   "cell_type": "code",
   "execution_count": 9,
   "metadata": {
    "id": "UnVAE7bss4vt"
   },
   "outputs": [],
   "source": [
    "def repNum(literal):\n",
    "    n=len(literal)-1\n",
    "    x=0\n",
    "    # Fazendo a soma ponderada doa valores de cada letra na tabela ascii, evitando assim que\n",
    "    # anagramas tenham colisões ---> Metodo de acumulação polinomial\n",
    "    for letra in literal:\n",
    "        coef=ord(letra)*251**n\n",
    "        x+=coef\n",
    "        n=n-1\n",
    "    return x\n",
    "\n",
    "# Colocar os métodos\n",
    "def hashDiv(k,M,e_literal=True):\n",
    "    if e_literal:\n",
    "        x=repNum(k)\n",
    "    else:\n",
    "        x=int(k)\n",
    "    return x%M\n",
    "\n",
    "def hashMult(k,M,e_literal=True):\n",
    "    A=(math.sqrt(5)-1)/2\n",
    "    if e_literal:\n",
    "        x=repNum(k)\n",
    "    else:\n",
    "        x=int(k)\n",
    "    return math.floor(M*((A*x)%1))\n",
    "\n",
    "def hashFolding(k,M,e_literal=True):\n",
    "    if e_literal:\n",
    "        x=repNum(k)\n",
    "    else:\n",
    "        x=int(k)\n",
    "    '''Agora vamos implementar o metodo, vou separar de dois em dois'''\n",
    "    c=0\n",
    "    while(x%10!=0):\n",
    "        b=x%100\n",
    "        x=x//100\n",
    "        c+=b\n",
    "\n",
    "    return c%M\n",
    "\n",
    "#Para escolher um valor M para a tabela, primeiro fazemos isso\n",
    "#Chute um valor que queira a tabela, encontre uma potência de 2 perto dela\n",
    "#Depois, pegue um primo menor que ele\n",
    "def pot2(valorComp):\n",
    "    c=2\n",
    "    \n",
    "    while(c<valorComp):\n",
    "        \n",
    "        c=c*2\n",
    "    return c\n",
    "def ePrimo(num):\n",
    "    for i in range(2,num//2+1):\n",
    "        if num%i==0:\n",
    "            return False\n",
    "    return True\n",
    "def procuraPrimo(num):\n",
    "    \n",
    "    c=3\n",
    "    d=0\n",
    "    while(c<=num):\n",
    "        if ePrimo(c):\n",
    "            d=c\n",
    "        c=c+1\n",
    "    return d\n",
    "\n",
    "def escolhaM(chuteM):\n",
    "    #Vou entregar o chute para pot2 e depois entregar esse valor para a função de acha primo\n",
    "    potencia2=pot2(chuteM)\n",
    "    primo=procuraPrimo(potencia2)\n",
    "    return primo"
   ]
  },
  {
   "cell_type": "code",
   "execution_count": 10,
   "metadata": {
    "id": "dZG5JAJNz6El"
   },
   "outputs": [],
   "source": [
    "# Agora vou definir minha classe ListaLigada, No e Tabela hash\n",
    "# Trabalhando aqui agora\n",
    "class Nodo:\n",
    "    def __init__(self,dado):\n",
    "        self.dado=dado\n",
    "        self.prox=None\n",
    "\n",
    "class ListaLigada:\n",
    "    def __init__(self):\n",
    "        self.head=None\n",
    "        self.size=0\n",
    "    def insereInicio(self,elem):\n",
    "        no=Nodo(elem)\n",
    "        if(self.head):\n",
    "            \n",
    "            no.prox=self.head\n",
    "            self.head=no\n",
    "        else:\n",
    "            self.head=no\n",
    "\n",
    "# Vamos definir a minha Tabela Hash\n",
    "class TabelaHash:\n",
    "    def __init__(self,M):\n",
    "        self.M=M\n",
    "        self.T=list()\n",
    "        self.qtdColisoes=0\n",
    "        for i in range(self.M):\n",
    "            l=ListaLigada()\n",
    "            self.T.append(l)\n",
    "    def addDiv(self,k):\n",
    "        '''Preciso verificar se o elemento é literal ou não'''\n",
    "        if(type(k)==str):\n",
    "            sim=True\n",
    "        else:\n",
    "            sim=False\n",
    "        #hashDiv(k,M,e_literal=True)\n",
    "        ind=hashDiv(k,self.M,e_literal=sim)\n",
    "        if self.T[ind].head:\n",
    "            self.qtdColisoes+=1\n",
    "        self.T[ind].insereInicio(k)\n",
    "    #Vamos colocar a multiplicação\n",
    "    def addMult(self,k):\n",
    "        '''Preciso verificar se o elemento é literal ou não'''\n",
    "        if(type(k)==str):\n",
    "            sim=True\n",
    "        else:\n",
    "            sim=False\n",
    "        #hashDiv(k,M,e_literal=True)\n",
    "        ind=hashMult(k,self.M,e_literal=sim)\n",
    "        if self.T[ind].head:\n",
    "            self.qtdColisoes+=1\n",
    "        self.T[ind].insereInicio(k)\n",
    "\n",
    "    def addFolding(self,k):\n",
    "        if(type(k)==str):\n",
    "            sim=True\n",
    "        else:\n",
    "            sim=False\n",
    "        ind=hashFolding(k,self.M,e_literal=sim)\n",
    "        if self.T[ind].head:\n",
    "            self.qtdColisoes+=1\n",
    "        self.T[ind].insereInicio(k)\n",
    "        \n"
   ]
  },
  {
   "cell_type": "markdown",
   "metadata": {
    "id": "6-6Z51ByqQak"
   },
   "source": [
    "# Parte 2 : Vamos escolher os cinco Tamanho de Tabela e realizar a comparação de colisões pelo grafico do matplotlib\n"
   ]
  },
  {
   "cell_type": "code",
   "execution_count": 11,
   "metadata": {
    "colab": {
     "base_uri": "https://localhost:8080/",
     "height": 419
    },
    "id": "BlNepyfWqfIm",
    "outputId": "519b3d77-8e79-46a2-da6f-4139613a98b6"
   },
   "outputs": [
    {
     "data": {
      "text/html": [
       "<div>\n",
       "<style scoped>\n",
       "    .dataframe tbody tr th:only-of-type {\n",
       "        vertical-align: middle;\n",
       "    }\n",
       "\n",
       "    .dataframe tbody tr th {\n",
       "        vertical-align: top;\n",
       "    }\n",
       "\n",
       "    .dataframe thead th {\n",
       "        text-align: right;\n",
       "    }\n",
       "</style>\n",
       "<table border=\"1\" class=\"dataframe\">\n",
       "  <thead>\n",
       "    <tr style=\"text-align: right;\">\n",
       "      <th></th>\n",
       "      <th>term</th>\n",
       "    </tr>\n",
       "  </thead>\n",
       "  <tbody>\n",
       "    <tr>\n",
       "      <th>0</th>\n",
       "      <td>excelente</td>\n",
       "    </tr>\n",
       "    <tr>\n",
       "      <th>1</th>\n",
       "      <td>agradável</td>\n",
       "    </tr>\n",
       "    <tr>\n",
       "      <th>2</th>\n",
       "      <td>ótimo</td>\n",
       "    </tr>\n",
       "    <tr>\n",
       "      <th>3</th>\n",
       "      <td>melhor</td>\n",
       "    </tr>\n",
       "    <tr>\n",
       "      <th>4</th>\n",
       "      <td>ótima</td>\n",
       "    </tr>\n",
       "    <tr>\n",
       "      <th>...</th>\n",
       "      <td>...</td>\n",
       "    </tr>\n",
       "    <tr>\n",
       "      <th>54377</th>\n",
       "      <td>pos-ferias</td>\n",
       "    </tr>\n",
       "    <tr>\n",
       "      <th>54378</th>\n",
       "      <td>deliciosos!pancetta</td>\n",
       "    </tr>\n",
       "    <tr>\n",
       "      <th>54379</th>\n",
       "      <td>madureira</td>\n",
       "    </tr>\n",
       "    <tr>\n",
       "      <th>54380</th>\n",
       "      <td>dificilissima</td>\n",
       "    </tr>\n",
       "    <tr>\n",
       "      <th>54381</th>\n",
       "      <td>puedes</td>\n",
       "    </tr>\n",
       "  </tbody>\n",
       "</table>\n",
       "<p>54381 rows × 1 columns</p>\n",
       "</div>"
      ],
      "text/plain": [
       "                      term\n",
       "0                excelente\n",
       "1                agradável\n",
       "2                    ótimo\n",
       "3                   melhor\n",
       "4                    ótima\n",
       "...                    ...\n",
       "54377           pos-ferias\n",
       "54378  deliciosos!pancetta\n",
       "54379            madureira\n",
       "54380        dificilissima\n",
       "54381               puedes\n",
       "\n",
       "[54381 rows x 1 columns]"
      ]
     },
     "execution_count": 11,
     "metadata": {},
     "output_type": "execute_result"
    }
   ],
   "source": [
    "dataframe"
   ]
  },
  {
   "cell_type": "code",
   "execution_count": 12,
   "metadata": {
    "colab": {
     "base_uri": "https://localhost:8080/"
    },
    "id": "tUFwtQW3qnAd",
    "outputId": "e9f277b7-fc6c-415d-e363-b53649cc1d73"
   },
   "outputs": [
    {
     "name": "stdout",
     "output_type": "stream",
     "text": [
      "18127\n"
     ]
    }
   ],
   "source": [
    "# No total, nossa tabela tem 54382 colunas\n",
    "tamanhoReal=54382\n",
    "print(int(tamanhoReal/3))"
   ]
  },
  {
   "cell_type": "code",
   "execution_count": 13,
   "metadata": {
    "id": "3C6gRzScq9m8"
   },
   "outputs": [],
   "source": [
    "# Vamos sugerir como primeiro tamanho o numero 18127\n",
    "M=escolhaM(18127)\n"
   ]
  },
  {
   "cell_type": "code",
   "execution_count": 14,
   "metadata": {
    "id": "y8QsnelF2Ods"
   },
   "outputs": [],
   "source": [
    "# Serão 3 funções : Divisão, Multiplicação e Folding\n",
    "# o da divisão precisa de um número primo longe de uma \n",
    "# potência de 2 para servir de M\n",
    "\n",
    "# O da divisão aceita uma potência de 2 como M\n",
    "# O metodo de folding precisa de qualquer tipo de número\n"
   ]
  },
  {
   "cell_type": "code",
   "execution_count": 15,
   "metadata": {
    "colab": {
     "base_uri": "https://localhost:8080/"
    },
    "id": "vrIfEYfVqCF0",
    "outputId": "9656f8ff-254e-47b9-b80a-aac5e1b310ac"
   },
   "outputs": [
    {
     "name": "stdout",
     "output_type": "stream",
     "text": [
      "tam1: 10876 tam2: 7759 tam3: 27191 tam4: 32749 tam5: 16384\n"
     ]
    }
   ],
   "source": [
    "# Os tamanhos escolhidos\n",
    "\n",
    "tam1=int(tamanhoReal/5)\n",
    "tam2=procuraPrimo(tamanhoReal/7)\n",
    "tam3= int(tamanhoReal/2)\n",
    "tam4=escolhaM(int(tamanhoReal)/3)\n",
    "tam5=pot2(int(tamanhoReal/4))\n",
    "lista=[tam1,tam2,tam3,tam4,tam5]\n",
    "print(\"tam1: \"+str(tam1)+\" tam2: \"+str(tam2)+\" tam3: \"+str(tam3)+\" tam4: \"+str(tam4)+\" tam5: \"+str(tam5))"
   ]
  },
  {
   "cell_type": "code",
   "execution_count": 16,
   "metadata": {
    "colab": {
     "base_uri": "https://localhost:8080/"
    },
    "id": "Aud-89I3tmZz",
    "outputId": "2b6c0b7a-bc25-4705-9241-2729b4d7b01e"
   },
   "outputs": [
    {
     "name": "stdout",
     "output_type": "stream",
     "text": [
      "[43577, 49014, 53279]\n"
     ]
    }
   ],
   "source": [
    "# Serão feitos 5 for e para cada tamanho iremos executar 3 funções de hash\n",
    "TDiv1=TabelaHash(tam1)\n",
    "TMult1=TabelaHash(tam1)\n",
    "TFond1=TabelaHash(tam1)\n",
    "\n",
    "for palavra in dataframe['term']:\n",
    "    TDiv1.addDiv(palavra)\n",
    "    TMult1.addMult(palavra)\n",
    "    TFond1.addFolding(palavra)\n",
    "\n",
    "colisoesParaTam1=[TDiv1.qtdColisoes,TMult1.qtdColisoes,TFond1.qtdColisoes]\n",
    "print(colisoesParaTam1)\n"
   ]
  },
  {
   "cell_type": "code",
   "execution_count": 17,
   "metadata": {
    "colab": {
     "base_uri": "https://localhost:8080/"
    },
    "id": "jOvlsCeJvdOn",
    "outputId": "d3123afb-602c-47a9-9448-c285435994ef"
   },
   "outputs": [
    {
     "name": "stdout",
     "output_type": "stream",
     "text": [
      "[46630, 49632, 53279]\n"
     ]
    }
   ],
   "source": [
    "TDiv2=TabelaHash(tam2)\n",
    "TMult2=TabelaHash(tam2)\n",
    "TFond2=TabelaHash(tam2)\n",
    "\n",
    "for palavra in dataframe['term']:\n",
    "    TDiv2.addDiv(palavra)\n",
    "    TMult2.addMult(palavra)\n",
    "    TFond2.addFolding(palavra)\n",
    "\n",
    "colisoesParaTam2=[TDiv2.qtdColisoes,TMult2.qtdColisoes,TFond2.qtdColisoes]\n",
    "print(colisoesParaTam2)"
   ]
  },
  {
   "cell_type": "code",
   "execution_count": 21,
   "metadata": {
    "colab": {
     "base_uri": "https://localhost:8080/"
    },
    "id": "p0g5X70ewHcQ",
    "outputId": "4825926a-68df-45d7-fe10-2771a41a942a"
   },
   "outputs": [
    {
     "name": "stdout",
     "output_type": "stream",
     "text": [
      "[30880, 47954, 53279]\n"
     ]
    }
   ],
   "source": [
    "TDiv3=TabelaHash(tam3)\n",
    "TMult3=TabelaHash(tam3)\n",
    "TFond3=TabelaHash(tam3)\n",
    "\n",
    "for palavra in dataframe['term']:\n",
    "    TDiv3.addDiv(palavra)\n",
    "    TMult3.addMult(palavra)\n",
    "    TFond3.addFolding(palavra)\n",
    "\n",
    "colisoesParaTam3=[TDiv3.qtdColisoes,TMult3.qtdColisoes,TFond3.qtdColisoes]\n",
    "print(colisoesParaTam3)\n"
   ]
  },
  {
   "cell_type": "code",
   "execution_count": 22,
   "metadata": {
    "colab": {
     "base_uri": "https://localhost:8080/"
    },
    "id": "BHQMVC3SwhDR",
    "outputId": "fea11cea-30af-4a5e-f35d-ea89aaf0279f"
   },
   "outputs": [
    {
     "name": "stdout",
     "output_type": "stream",
     "text": [
      "[27860, 47815, 53279]\n"
     ]
    }
   ],
   "source": [
    "TDiv4=TabelaHash(tam4)\n",
    "TMult4=TabelaHash(tam4)\n",
    "TFond4=TabelaHash(tam4)\n",
    "\n",
    "for palavra in dataframe['term']:\n",
    "    TDiv4.addDiv(palavra)\n",
    "    TMult4.addMult(palavra)\n",
    "    TFond4.addFolding(palavra)\n",
    "\n",
    "colisoesParaTam4=[TDiv4.qtdColisoes,TMult4.qtdColisoes,TFond4.qtdColisoes]\n",
    "print(colisoesParaTam4)"
   ]
  },
  {
   "cell_type": "code",
   "execution_count": 19,
   "metadata": {
    "colab": {
     "base_uri": "https://localhost:8080/"
    },
    "id": "UftL7TG4wzJ8",
    "outputId": "6b2dc6bc-c632-45e6-c456-493db0449452"
   },
   "outputs": [
    {
     "name": "stdout",
     "output_type": "stream",
     "text": [
      "[38611, 48410, 53279]\n"
     ]
    }
   ],
   "source": [
    "TDiv5=TabelaHash(tam5)\n",
    "TMult5=TabelaHash(tam5)\n",
    "TFond5=TabelaHash(tam5)\n",
    "\n",
    "for palavra in dataframe['term']:\n",
    "    TDiv5.addDiv(palavra)\n",
    "    TMult5.addMult(palavra)\n",
    "    TFond5.addFolding(palavra)\n",
    "\n",
    "colisoesParaTam5=[TDiv5.qtdColisoes,TMult5.qtdColisoes,TFond5.qtdColisoes]\n",
    "print(colisoesParaTam5)"
   ]
  },
  {
   "cell_type": "markdown",
   "metadata": {
    "id": "XL9znqcfxe79"
   },
   "source": [
    "#Agora vamos montar a tabela com os valores encontrados\n"
   ]
  },
  {
   "cell_type": "code",
   "execution_count": 23,
   "metadata": {
    "colab": {
     "base_uri": "https://localhost:8080/",
     "height": 329
    },
    "id": "SUp-QLP_-qdM",
    "outputId": "7a7f3770-1def-468b-9268-6125bd17d983"
   },
   "outputs": [
    {
     "data": {
      "image/png": "[encoded data removed]",
      "text/plain": [
       "<Figure size 432x288 with 1 Axes>"
      ]
     },
     "metadata": {
      "needs_background": "light"
     },
     "output_type": "display_data"
    },
    {
     "name": "stdout",
     "output_type": "stream",
     "text": [
      "[53279, 53279, 53279, 53279, 53279]\n",
      "[10876, 7759, 27191, 32749, 16384]\n"
     ]
    }
   ],
   "source": [
    "#TENTATIVA ADEMIR \n",
    "\n",
    "colis_Div = [TDiv1.qtdColisoes, TDiv2.qtdColisoes, TDiv3.qtdColisoes, TDiv4.qtdColisoes,\n",
    "             TDiv5.qtdColisoes]\n",
    "colis_Mult = [TMult1.qtdColisoes, TMult2.qtdColisoes, TMult3.qtdColisoes, TMult4.qtdColisoes,\n",
    "              TMult5.qtdColisoes]\n",
    "colis_Fold = [TFond1.qtdColisoes, TFond2.qtdColisoes, TFond3.qtdColisoes, TFond4.qtdColisoes,\n",
    "              TFond5.qtdColisoes]\n",
    "tamanhos = [tam1, tam2, tam3, tam4, tam5]\n",
    "\n",
    "plt.scatter(tamanhos, colis_Div, label = 'Divisão')\n",
    "plt.scatter(tamanhos, colis_Mult, label = 'Multiplicação')\n",
    "plt.scatter(tamanhos, colis_Fold, label = 'Folding')\n",
    "\n",
    "plt.legend()\n",
    "plt.xlabel('Tamanhos')\n",
    "plt.ylabel('Colisões')\n",
    "plt.title('Colisões nos métodos')\n",
    "plt.show()\n",
    "\n",
    "print(colis_Fold)\n",
    "print(tamanhos)"
   ]
  },
  {
   "cell_type": "code",
   "execution_count": 24,
   "metadata": {
    "colab": {
     "base_uri": "https://localhost:8080/",
     "height": 221
    },
    "id": "lj0DbUGI43rq",
    "outputId": "d071737a-355a-4034-a561-7b50435752f4"
   },
   "outputs": [
    {
     "data": {
      "text/html": [
       "<div>\n",
       "<style scoped>\n",
       "    .dataframe tbody tr th:only-of-type {\n",
       "        vertical-align: middle;\n",
       "    }\n",
       "\n",
       "    .dataframe tbody tr th {\n",
       "        vertical-align: top;\n",
       "    }\n",
       "\n",
       "    .dataframe thead th {\n",
       "        text-align: right;\n",
       "    }\n",
       "</style>\n",
       "<table border=\"1\" class=\"dataframe\">\n",
       "  <thead>\n",
       "    <tr style=\"text-align: right;\">\n",
       "      <th></th>\n",
       "      <th>Tamanho</th>\n",
       "      <th>Funcão Divisão Colisões</th>\n",
       "      <th>Função Multiplicação Colisões</th>\n",
       "      <th>Função Folding Colisões</th>\n",
       "    </tr>\n",
       "  </thead>\n",
       "  <tbody>\n",
       "    <tr>\n",
       "      <th>0</th>\n",
       "      <td>10876</td>\n",
       "      <td>43577</td>\n",
       "      <td>49014</td>\n",
       "      <td>53279</td>\n",
       "    </tr>\n",
       "    <tr>\n",
       "      <th>1</th>\n",
       "      <td>7759</td>\n",
       "      <td>46630</td>\n",
       "      <td>49632</td>\n",
       "      <td>53279</td>\n",
       "    </tr>\n",
       "    <tr>\n",
       "      <th>2</th>\n",
       "      <td>27191</td>\n",
       "      <td>30880</td>\n",
       "      <td>47954</td>\n",
       "      <td>53279</td>\n",
       "    </tr>\n",
       "    <tr>\n",
       "      <th>3</th>\n",
       "      <td>32749</td>\n",
       "      <td>27860</td>\n",
       "      <td>47815</td>\n",
       "      <td>53279</td>\n",
       "    </tr>\n",
       "    <tr>\n",
       "      <th>4</th>\n",
       "      <td>16384</td>\n",
       "      <td>38611</td>\n",
       "      <td>48410</td>\n",
       "      <td>53279</td>\n",
       "    </tr>\n",
       "  </tbody>\n",
       "</table>\n",
       "</div>"
      ],
      "text/plain": [
       "   Tamanho  Funcão Divisão Colisões  Função Multiplicação Colisões  \\\n",
       "0    10876                    43577                          49014   \n",
       "1     7759                    46630                          49632   \n",
       "2    27191                    30880                          47954   \n",
       "3    32749                    27860                          47815   \n",
       "4    16384                    38611                          48410   \n",
       "\n",
       "   Função Folding Colisões  \n",
       "0                    53279  \n",
       "1                    53279  \n",
       "2                    53279  \n",
       "3                    53279  \n",
       "4                    53279  "
      ]
     },
     "execution_count": 24,
     "metadata": {},
     "output_type": "execute_result"
    }
   ],
   "source": [
    "dic={\"Tamanho\":tamanhos,\"Funcão Divisão Colisões\":colis_Div,\"Função Multiplicação Colisões\":colis_Mult,\"Função Folding Colisões\":colis_Fold}\n",
    "tabela=pd.DataFrame(dic)\n",
    "tabela"
   ]
  },
  {
   "cell_type": "markdown",
   "metadata": {
    "id": "J7nzGTZgxMTi"
   },
   "source": [
    "# Teoria\n",
    "\n",
    "### Nesse trabalho concluirmos que a técnica de hash é eficaz pois permite que operações básicas de dicionário sejam realizadas em tempo médio de O(1).\n",
    "\n",
    "### As tabelas de espalhamento surge para evitar o desperdício de memória, em oposição as de endereço direto quando a quantidade de chaves armazenadas é muito menor que as possíveis. Porém, ela apresenta a situação de conflitos entres chaves com índices iguais gerados por funções  hash\n",
    "\n",
    "# Método da divisão\n",
    "\n",
    "### h(k) = k mod m\n",
    "\n",
    "### O método só exige uma operação, então é bastante rápido\n",
    "\n",
    "### M é crítico para as colisões, precisa ser primo e longe de uma potência de 2. Definimos uma forma de escolher o número\n",
    "\n",
    "# Método da multiplicação\n",
    "\n",
    "### h(k)=[m(k*A mod 1)]\n",
    "\n",
    "### Aqui o valor de M pode assumir uma potência de 2, não é critico em M, mas a escolha de A funciona melhor com alguns valores do que outros.\n",
    "\n",
    "# Método de Folding\n",
    "### O método de folding usa a divisão de cada chave em pedaços de mesmo tamanho. Esses pedaços são somados para então gerar o valor de espalhamento resultante.\n"
   ]
  },
  {
   "cell_type": "code",
   "execution_count": null,
   "metadata": {
    "id": "1rhs8ZyN2aQ-"
   },
   "outputs": [],
   "source": []
  }
 ],
 "metadata": {
  "colab": {
   "collapsed_sections": [],
   "name": "Notebook_Adevan.ipynb",
   "provenance": []
  },
  "kernelspec": {
   "display_name": "Python 3",
   "language": "python",
   "name": "python3"
  },
  "language_info": {
   "codemirror_mode": {
    "name": "ipython",
    "version": 3
   },
   "file_extension": ".py",
   "mimetype": "text/x-python",
   "name": "python",
   "nbconvert_exporter": "python",
   "pygments_lexer": "ipython3",
   "version": "3.8.8"
  }
 },
 "nbformat": 4,
 "nbformat_minor": 1
}
