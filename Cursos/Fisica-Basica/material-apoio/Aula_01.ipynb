{
 "cells": [
  {
   "cell_type": "markdown",
   "metadata": {},
   "source": [
    "# **FÍSICA BÁSICA COM PYTHON**"
   ]
  },
  {
   "cell_type": "markdown",
   "metadata": {},
   "source": [
    "## AULA 1"
   ]
  },
  {
   "cell_type": "markdown",
   "metadata": {},
   "source": [
    "* Medição e Grandezas Físicas;\n",
    "* Movimento Retilíneo;\n",
    "* Rotação;"
   ]
  },
  {
   "cell_type": "markdown",
   "metadata": {},
   "source": [
    "### Conceitos"
   ]
  },
  {
   "cell_type": "markdown",
   "metadata": {},
   "source": [
    "<p> <strong>Grandezas Físicas</strong> existem em grande quantidade.</p>\n",
    "<p>Para um entendimento geral foram construidos os padrões de medidas.</p>\n",
    "<p>As grandezas físicas fundamentais possuem padrões.</p>"
   ]
  },
  {
   "cell_type": "markdown",
   "metadata": {},
   "source": [
    "**Tempo**: O segundo é definido como a duração de 9 192 631 770 períodos da radiação correspondente à transição entre dois níveis hiperfinos do estado fundamental do átomo de césio 133."
   ]
  },
  {
   "cell_type": "markdown",
   "metadata": {},
   "source": [
    "**Espaço**: O metro é definido como sendo o comprimento do trajeto percorrido pela luz no vácuo, durante um intervalo de tempo de 1/299.792.458 de segundo."
   ]
  },
  {
   "cell_type": "markdown",
   "metadata": {},
   "source": [
    "**Massa**: O quilograma-padrão internacional de massa, um cilindro de platina-irídio com 3,9 cm de altura e 3,9 cm de diâmetro."
   ]
  },
  {
   "cell_type": "markdown",
   "metadata": {},
   "source": [
    "<img src=\"imgs/QuilogramaPadrao.png\" width=\"300\" />"
   ]
  },
  {
   "cell_type": "markdown",
   "metadata": {},
   "source": [
    "**Algarismos Significativos**: O número de algarismos significativos em um resultado é\n",
    "simplesmente o número de algarismos conhecidos com algum\n",
    "grau de confiabilidade em uma dada medição ou mesmo cálculo."
   ]
  },
  {
   "cell_type": "markdown",
   "metadata": {},
   "source": [
    "**Partícula**: É um corpo cujas dimensões são desprezíveis. um corpo que em uma situação específica\n",
    "pode ser considerado como um ponto geométrico, no que diz respeito as suas dimensões."
   ]
  },
  {
   "cell_type": "markdown",
   "metadata": {},
   "source": [
    "Qualquer parte do universo bem definida é chamada de **sistema físico**. "
   ]
  },
  {
   "cell_type": "markdown",
   "metadata": {},
   "source": [
    "O conjunto de partículas que forma um sistema qualquer é chamado também de **sistema de partículas**."
   ]
  },
  {
   "cell_type": "markdown",
   "metadata": {},
   "source": [
    "**Referencial**: É um sistema de eixos coordenados, junto com as réguase relógios, é uma estrutura para medir posições e instantes do tempo."
   ]
  },
  {
   "cell_type": "markdown",
   "metadata": {},
   "source": [
    "Um agente fixo em um referencial e capaz de realizar medições costuma ser chamado de **observador**. O observador pode ser uma pessoa ou aparelho programado para medir."
   ]
  },
  {
   "cell_type": "markdown",
   "metadata": {},
   "source": [
    "Dizemos que uma partícula está em **movimento** em relação a um referencial quando sua posição em relação ao referencial muda com o passar do tempo. "
   ]
  },
  {
   "cell_type": "markdown",
   "metadata": {},
   "source": [
    "Se uma partícula, ou um corpo qualquer, não está em movimento em relação a um referencial dizemos que está em **repouso** em relação ao referencial."
   ]
  },
  {
   "cell_type": "markdown",
   "metadata": {},
   "source": [
    "<p>Vetor posição inicial: $$\\vec{r_{i}} = x_{i}\\hat{i} + y_{i}\\hat{j} + z_{i}\\hat{k}$$</p>\n",
    "<p>Vetor posição final: $$\\vec{r_{f}} = x_{f}\\hat{i} + y_{f}\\hat{j} + z_{f}\\hat{k}$$</p>\n",
    "<p>Vetor deslocamanto: $$\\Delta \\vec{r_{i}} = \\vec{r}_{f} - \\vec{r}_{i} =\\Delta x\\hat{i} +\\Delta y\\hat{j} + \\Delta z\\hat{k}$$</p>"
   ]
  },
  {
   "cell_type": "markdown",
   "metadata": {},
   "source": [
    "<p>Velocidade Média: $$\\vec{v}_{m} = \\frac{\\Delta \\vec{r}}{\\Delta t}$$ </p>\n",
    "<p>Aceleração Média: $$\\vec{a}_{m} = \\frac{\\Delta \\vec{v}}{\\Delta t}$$ </p>"
   ]
  },
  {
   "cell_type": "markdown",
   "metadata": {},
   "source": [
    "<p>Velocidade Instantânea: $$ \\vec{v} =\\lim_{\\Delta t -> 0} \\frac{\\Delta \\vec{r}}{\\Delta t} = \\frac{d\\vec{r}}{dt} $$</p>\n",
    "<p>Aceleração Instantânea: $$ \\vec{a} = \\lim_{\\Delta t -> 0} \\frac{\\Delta \\vec{v}}{\\Delta t} = \\frac{d\\vec{v}}{dt} $$</p>"
   ]
  },
  {
   "cell_type": "markdown",
   "metadata": {},
   "source": [
    "### Movimento Retilineo Uniforme\n",
    "$$ v = \\frac{\\Delta x}{\\Delta t} $$\n",
    "$$ x_{f} = x_{i} + vt $$"
   ]
  },
  {
   "cell_type": "code",
   "execution_count": 1,
   "metadata": {},
   "outputs": [
    {
     "data": {
      "text/html": [
       "<iframe src=\"https://trinket.io/embed/glowscript/c4d77babc7\" width=\"100%\" height=\"356\" frameborder=\"0\" marginwidth=\"0\" marginheight=\"0\" allowfullscreen></iframe>\n"
      ],
      "text/plain": [
       "<IPython.core.display.HTML object>"
      ]
     },
     "metadata": {},
     "output_type": "display_data"
    }
   ],
   "source": [
    "%%HTML\n",
    "<iframe src=\"https://trinket.io/embed/glowscript/c4d77babc7\" width=\"100%\" height=\"356\" frameborder=\"0\" marginwidth=\"0\" marginheight=\"0\" allowfullscreen></iframe>"
   ]
  },
  {
   "cell_type": "markdown",
   "metadata": {},
   "source": [
    "## Simulando em Python"
   ]
  },
  {
   "cell_type": "code",
   "execution_count": null,
   "metadata": {},
   "outputs": [],
   "source": []
  },
  {
   "cell_type": "code",
   "execution_count": 2,
   "metadata": {},
   "outputs": [
    {
     "data": {
      "text/html": [
       "<div id=\"glowscript\" class=\"glowscript\"></div>"
      ],
      "text/plain": [
       "<IPython.core.display.HTML object>"
      ]
     },
     "metadata": {},
     "output_type": "display_data"
    },
    {
     "data": {
      "application/javascript": [
       "if (typeof Jupyter !== \"undefined\") { window.__context = { glowscript_container: $(\"#glowscript\").removeAttr(\"id\")};}else{ element.textContent = ' ';}"
      ],
      "text/plain": [
       "<IPython.core.display.Javascript object>"
      ]
     },
     "metadata": {},
     "output_type": "display_data"
    }
   ],
   "source": [
    "from vpython import*"
   ]
  },
  {
   "cell_type": "code",
   "execution_count": 3,
   "metadata": {},
   "outputs": [
    {
     "data": {
      "text/html": [
       "<div id=\"glowscript\" class=\"glowscript\"></div>"
      ],
      "text/plain": [
       "<IPython.core.display.HTML object>"
      ]
     },
     "metadata": {},
     "output_type": "display_data"
    },
    {
     "data": {
      "application/javascript": [
       "if (typeof Jupyter !== \"undefined\") { window.__context = { glowscript_container: $(\"#glowscript\").removeAttr(\"id\")};}else{ element.textContent = ' ';}"
      ],
      "text/plain": [
       "<IPython.core.display.Javascript object>"
      ]
     },
     "metadata": {},
     "output_type": "display_data"
    },
    {
     "data": {
      "application/javascript": [
       "if (typeof Jupyter !== \"undefined\") {require.undef(\"nbextensions/vpython_libraries/glow.min\");}else{element.textContent = ' ';}"
      ],
      "text/plain": [
       "<IPython.core.display.Javascript object>"
      ]
     },
     "metadata": {},
     "output_type": "display_data"
    },
    {
     "data": {
      "application/javascript": [
       "if (typeof Jupyter !== \"undefined\") {require.undef(\"nbextensions/vpython_libraries/glowcomm\");}else{element.textContent = ' ';}"
      ],
      "text/plain": [
       "<IPython.core.display.Javascript object>"
      ]
     },
     "metadata": {},
     "output_type": "display_data"
    },
    {
     "data": {
      "application/javascript": [
       "if (typeof Jupyter !== \"undefined\") {require.undef(\"nbextensions/vpython_libraries/jquery-ui.custom.min\");}else{element.textContent = ' ';}"
      ],
      "text/plain": [
       "<IPython.core.display.Javascript object>"
      ]
     },
     "metadata": {},
     "output_type": "display_data"
    },
    {
     "data": {
      "application/javascript": [
       "if (typeof Jupyter !== \"undefined\") {require([\"nbextensions/vpython_libraries/glow.min\"], function(){console.log(\"GLOW LOADED\");});}else{element.textContent = ' ';}"
      ],
      "text/plain": [
       "<IPython.core.display.Javascript object>"
      ]
     },
     "metadata": {},
     "output_type": "display_data"
    },
    {
     "data": {
      "application/javascript": [
       "if (typeof Jupyter !== \"undefined\") {require([\"nbextensions/vpython_libraries/glowcomm\"], function(){console.log(\"GLOWCOMM LOADED\");});}else{element.textContent = ' ';}"
      ],
      "text/plain": [
       "<IPython.core.display.Javascript object>"
      ]
     },
     "metadata": {},
     "output_type": "display_data"
    },
    {
     "data": {
      "application/javascript": [
       "if (typeof Jupyter !== \"undefined\") {require([\"nbextensions/vpython_libraries/jquery-ui.custom.min\"], function(){console.log(\"JQUERY LOADED\");});}else{element.textContent = ' ';}"
      ],
      "text/plain": [
       "<IPython.core.display.Javascript object>"
      ]
     },
     "metadata": {},
     "output_type": "display_data"
    }
   ],
   "source": [
    "cena = canvas(width=300, height=300, center=vector(5,5,0), title='Referencial e Movimento')\n",
    "ex = arrow(canvas = cena, pos=vector(0,0,0), axis=vector(20,0,0), shaftwidth=0.2, color = color.red )\n",
    "ey = arrow(canvas = cena, pos=vector(0,0,0), axis=vector(0,20,0), shaftwidth=0.2, color = color.blue )\n",
    "ez = arrow(canvas = cena, pos=vector(0,0,0), axis=vector(0,0,20), shaftwidth=0.2, color = color.cyan )\n",
    "p1 = sphere(canvas = cena, pos=vector(6,11,1),radius = 0.4, make_trail = True, trail_radius = 0.1)\n",
    "t = 0\n",
    "tf = 30\n",
    "w = 1\n",
    "dt = 0.01\n",
    "while t <= tf:\n",
    "    rate(100)\n",
    "    p1.pos = vector(6+5*sin(w*t),6+5*cos(w*t),1)\n",
    "    label(canvas = cena, pos=vec(15,20,0), box = False, text='Relógio: {:.2f}'.format(t))\n",
    "    t = t + dt"
   ]
  },
  {
   "cell_type": "markdown",
   "metadata": {},
   "source": []
  },
  {
   "cell_type": "markdown",
   "metadata": {},
   "source": [
    "## Movimento Retilíneo Uniforme - MRU"
   ]
  },
  {
   "cell_type": "markdown",
   "metadata": {},
   "source": [
    "**Características**"
   ]
  },
  {
   "cell_type": "markdown",
   "metadata": {},
   "source": [
    "Para simplificar nossos estudos, iremos adotar o movimento em 1D. A partícula vai deslocar-se pelo eixo *x*."
   ]
  },
  {
   "cell_type": "markdown",
   "metadata": {},
   "source": [
    "<p>$$ \\begin{cases}\n",
    "a = 0 \\\\\n",
    "v = \\text{constante} \n",
    "\\end{cases}$$  </p>"
   ]
  },
  {
   "cell_type": "markdown",
   "metadata": {},
   "source": [
    "<p>Função horária da Posição: $$ x_{f} = x_{i} + vt $$</p>"
   ]
  },
  {
   "cell_type": "code",
   "execution_count": 4,
   "metadata": {},
   "outputs": [],
   "source": [
    "from vpython import*"
   ]
  },
  {
   "cell_type": "code",
   "execution_count": 5,
   "metadata": {
    "scrolled": true
   },
   "outputs": [
    {
     "data": {
      "text/html": [
       "<div id=\"glowscript\" class=\"glowscript\"></div>"
      ],
      "text/plain": [
       "<IPython.core.display.HTML object>"
      ]
     },
     "metadata": {},
     "output_type": "display_data"
    },
    {
     "data": {
      "application/javascript": [
       "if (typeof Jupyter !== \"undefined\") { window.__context = { glowscript_container: $(\"#glowscript\").removeAttr(\"id\")};}else{ element.textContent = ' ';}"
      ],
      "text/plain": [
       "<IPython.core.display.Javascript object>"
      ]
     },
     "metadata": {},
     "output_type": "display_data"
    }
   ],
   "source": [
    "cena = canvas(width=300, height=300, center=vector(0,0,0), title='Referencial e Movimento')\n",
    "exp = arrow(canvas = cena, pos=vector(0,0,0), axis=vector(30,0,0), shaftwidth=0.2, color = color.red )\n",
    "exn = arrow(canvas = cena, pos=vector(0,0,0), axis=vector(-30,0,0), shaftwidth=0.2, color = color.blue)\n",
    "pxi = 10 #Posição inicial da partícula\n",
    "p1 = sphere(canvas = cena, pos=vector(pxi,1,0),radius = 0.8, make_trail = True, trail_radius = 0.1)\n",
    "\n",
    "#Construindo o gráfico\n",
    "\n",
    "gr = graph(width=400, height=400, title='<b>Posição vs Tempo</b>',\n",
    "     xtitle='<i>t</i>', ytitle='<i>x</i>',foreground=color.white, background=color.black)\n",
    "g1 = gcurve(graph = gr)\n",
    "\n",
    "#Condições iniciais\n",
    "\n",
    "vel = 3\n",
    "t = 0\n",
    "tf = 11\n",
    "dt = 0.1\n",
    "while t <= tf:\n",
    "    rate(20)  \n",
    "    p1.pos = vector(pxi + vel*t,1,0)\n",
    "    g1.plot(t,p1.pos.x)\n",
    "    label(canvas = cena, pos=vec(15,20,0), box = False, text='Relógio: {:.2f}'.format(t))\n",
    "    t = t + dt"
   ]
  },
  {
   "cell_type": "markdown",
   "metadata": {},
   "source": [
    "### Exemplo"
   ]
  },
  {
   "cell_type": "markdown",
   "metadata": {},
   "source": [
    "1) Um piloto voa horizontalmente a 1300 km/h, a uma altura h = 35 m acima de um solo inicialmente\n",
    "plano. No instante t = 0, o piloto começa a sobrevoar um terreno inclinado, para cima, de um ângulo θ =\n",
    "4.3°. Se o piloto não mudar a trajetória do avião, em que instante t o avião se chocará com o\n",
    "solo?\n",
    "\n",
    "<img src=\"imgs/Ex_01-Aviao.png\" width=\"600\" />"
   ]
  },
  {
   "cell_type": "markdown",
   "metadata": {},
   "source": [
    "Convertendo a velocidade em km/h para m/s;\n",
    "$$v = \\frac{1300}{3.6} m/s = 361 m/s$$\n",
    "Calculando a distância horizontal _**D**_ que o avião percorrerá até a colisão com o terreno inclinado;\n",
    "$$\\sin{\\theta} = \\frac{catetooposto}{hipotenusa}  $$\n",
    "$$\\sin{\\theta} = \\frac{h}{D} $$\n",
    "$$D = \\frac{h}{\\sin{\\theta}} = \\frac{35}{\\sin{4.3°}}$$\n",
    "$$D = 466.8 m$$\n",
    "Sabe-se que a velocidade é de 361 m/s e o piloto tem o tempo associado à distância _**D**_ = 466.8 m para agir e não bater no terreno inclinado, logo\n",
    "$$v = \\frac{\\Delta x}{\\Delta t}$$\n",
    "como\n",
    "$$\\Delta x = D$$\n",
    "tem-se\n",
    "$$\\Delta t = \\frac{D}{v} = \\frac{466.8}{361} = 1.29 s $$\n",
    "Esse é o tempo que o piloto tem para reagir à inclinação do terreno;"
   ]
  },
  {
   "cell_type": "markdown",
   "metadata": {},
   "source": [
    "## Movimento Retilíneo Uniformemente Variado - MRUV"
   ]
  },
  {
   "cell_type": "markdown",
   "metadata": {},
   "source": [
    "**Características**"
   ]
  },
  {
   "cell_type": "markdown",
   "metadata": {},
   "source": [
    "$$\n",
    "\\begin{cases}\n",
    "a = constante \\\\\n",
    "v = v(t) \\\\\n",
    "x = x(t)\n",
    "\\end{cases}\n",
    "$$"
   ]
  },
  {
   "cell_type": "markdown",
   "metadata": {},
   "source": [
    "<p>Função horária da posição: $$ x_{f} = x_{i} + v_{i}t + \\frac{1}{2}at^2 $$</p>\n",
    "<p>Função horária da velocidade: $$ v_{f} = v_{i} + at $$</p>\n",
    "<p>Função horária da posição: $$ v_{f}^{2} = v_{i}^{2} + 2a \\Delta x$$</p>"
   ]
  },
  {
   "cell_type": "markdown",
   "metadata": {},
   "source": [
    "### Aplicação"
   ]
  },
  {
   "cell_type": "markdown",
   "metadata": {},
   "source": [
    "<img src=\"imgs/exerc_01.png\" width=\"800\" />"
   ]
  },
  {
   "cell_type": "markdown",
   "metadata": {},
   "source": [
    "<p>Velocidade inicial do trem $$ v_{Ti} = 161km/h = 44.72m/s $$</p>\n",
    "<p>Velocidade da locomotiva $$ v_{L} = 29km/h = 8.05m/s $$</p>\n",
    "<p>Posição inicial do trem $$ x_{Ti} = 0 $$</p>\n",
    "<p>Posição inicial da locomotiva $$ x_{Li} = 676 m $$</p>"
   ]
  },
  {
   "cell_type": "markdown",
   "metadata": {},
   "source": [
    "<p>Para a colisão não ocorrer: \n",
    "$$ \n",
    "\\begin{cases}\n",
    "x_{Tf} = x_{Lf} \\\\\n",
    "v_{Tf} = v_{L}\n",
    "\\end{cases}\n",
    " $$</p>\n",
    " \n",
    "<p>$$ \n",
    "\\begin{cases}\n",
    "v_{Tf} = 44.72 - at = v_{L} \\\\\n",
    "x_{Lf} = 676 + v_{L}t \\\\\n",
    "x_{Tf} = 0 + v_{Ti}t - 0.5at^2\n",
    "\\end{cases}\n",
    "$$</p>"
   ]
  },
  {
   "cell_type": "markdown",
   "metadata": {},
   "source": [
    "<p>Resolução: Igualando as posições $$ 676 + 8.05t = 44.72t - 0.5t\\left(at \\right)  $$</p>\n",
    "<p>$$ 676 + 8.05t = 44.72t - 0.5t\\left(44.72-8.05 \\right)  $$</p>\n",
    "<p>$$ 676 = - 8.05t + 44.72t - 18.4t$$</p>\n",
    "<p>$$ t = \\frac{676}{18.27}$$</p>\n",
    "<p>$$ t = 37s$$</p>"
   ]
  },
  {
   "cell_type": "markdown",
   "metadata": {},
   "source": [
    "<p>Calculando a aceleração: $$ at = 36.7 $$</p>\n",
    "<p>$$ a = \\frac{36.7}{t} = \\frac{36.7}{37} = 0.992 m/s² $$</p>"
   ]
  },
  {
   "cell_type": "markdown",
   "metadata": {},
   "source": [
    "### Simulando em Python"
   ]
  },
  {
   "cell_type": "code",
   "execution_count": 6,
   "metadata": {},
   "outputs": [],
   "source": [
    "from vpython import*"
   ]
  },
  {
   "cell_type": "code",
   "execution_count": 7,
   "metadata": {
    "scrolled": true
   },
   "outputs": [
    {
     "data": {
      "text/html": [
       "<div id=\"glowscript\" class=\"glowscript\"></div>"
      ],
      "text/plain": [
       "<IPython.core.display.HTML object>"
      ]
     },
     "metadata": {},
     "output_type": "display_data"
    },
    {
     "data": {
      "application/javascript": [
       "if (typeof Jupyter !== \"undefined\") { window.__context = { glowscript_container: $(\"#glowscript\").removeAttr(\"id\")};}else{ element.textContent = ' ';}"
      ],
      "text/plain": [
       "<IPython.core.display.Javascript object>"
      ]
     },
     "metadata": {},
     "output_type": "display_data"
    }
   ],
   "source": [
    "cena = canvas(width=10, height=800, center=vector(0,0,0))\n",
    "#Construindo o gráfico\n",
    "gr = graph(width=400, height=400, title='<b>Posição vs Tempo</b>',\n",
    "     xtitle='<i>t</i>', ytitle='<i>x</i>',foreground=color.white, background=color.black)\n",
    "g1 = gcurve(graph = gr, color=color.blue)\n",
    "g2 = gcurve(graph = gr, color=color.red)\n",
    "#Condições iniciais\n",
    "t = 0\n",
    "tf = 50\n",
    "dt = 0.01\n",
    "while t <= tf:\n",
    "    rate(500)\n",
    "    xLf = 676 + 8.05*t\n",
    "    xTf = 44.72*t - 1/2*t**2\n",
    "    g1.plot(t,xLf)\n",
    "    g2.plot(t,xTf)    \n",
    "    t = t + dt"
   ]
  },
  {
   "cell_type": "markdown",
   "metadata": {},
   "source": [
    "## Desafio"
   ]
  },
  {
   "cell_type": "markdown",
   "metadata": {},
   "source": [
    "* Construa um sistema de referencial 1D com eixos coordenados em ambas as direções.\n",
    "* Construa uma cena com duas partículas em posições simetricamente opostas.\n",
    "* Faça as partículas se movimentarem uma em direção a outra.\n",
    "* Construa o gráfico da Posição vs Tempo de cada partícula.\n",
    "* Experimente o simulador para diferentes variáveis e posições iniciais."
   ]
  },
  {
   "cell_type": "markdown",
   "metadata": {},
   "source": [
    "### Exercício"
   ]
  },
  {
   "cell_type": "markdown",
   "metadata": {},
   "source": [
    "Durante um teste, um foguete move-se para cima com uma velocidade de 75 m/s, e quando atinge uma altura de 40 m em relação ao solo, seu motor falha. Determine a altura máxima $s_{B}$ alcançada pelo foguete e sua velocidade imediatamente antes de colidir com o solo. Despreze o efeito da resistência do ar."
   ]
  },
  {
   "cell_type": "markdown",
   "metadata": {},
   "source": [
    "<img src=\"imgs/Ex_02-foguete.png\" width=\"200\" />"
   ]
  },
  {
   "cell_type": "markdown",
   "metadata": {},
   "source": [
    "<p>Considera-se que a origem do sistema de referência está no solo;</p>\n",
    "<p>Quando o foguete está a 40 m de altura e sua velocidade é de 75 m/s, seu motor falha;</p>\n",
    "<p>Neste momento, o foguete será atraído para o centro do planeta à razão de 9.8 m/s²;</p>\n",
    "<p>utilizando-se a equação abaixo, pode-se determinar a altura $s_{B}$;</p>\n",
    "$$v_{B}^2 = v_{A}^2 - 2g\\Delta y$$\n",
    "onde, $\\Delta y = s_{B}-s_{A}$\n",
    "<p>logo, sabendo-se que a velocidade do foguete no ponto mais alto da trajetória é zero,tem-se</p>\n",
    "$$0 = (75m/s)^2 - 2\\cdot 9.8 \\cdot(s_{B}-40m)$$\n",
    "$$s_{B} = \\frac{75^2}{19.6}+40$$\n",
    "$$s_{B} = 327m $$\n",
    "<p>Para determinar-se a velocidade imediatamente antes de atingir o solo, toma-se a mesma equação;</p>\n",
    "$$v_{C}^2 = v_{B}^2 - 2g\\Delta y$$\n",
    "$$v_{C}^2 = 0 - 2\\cdot 9.8 \\cdot (0-327)$$\n",
    "$$v_{C} = 80 m/s$$"
   ]
  },
  {
   "cell_type": "markdown",
   "metadata": {},
   "source": []
  },
  {
   "cell_type": "markdown",
   "metadata": {},
   "source": [
    "### Rotação"
   ]
  },
  {
   "cell_type": "markdown",
   "metadata": {},
   "source": [
    "Uma partícula executa um Movimento de Rotação quando a posição angular da partícula muda com o tempo em relação a um referancial."
   ]
  },
  {
   "cell_type": "markdown",
   "metadata": {},
   "source": [
    "<img src='imgs/fig_1-2.png' width='400'/>"
   ]
  },
  {
   "cell_type": "markdown",
   "metadata": {},
   "source": [
    "Vetor posição: $$\\vec{r} = x \\hat{i} + y \\hat{j}$$\n",
    "\n",
    "\n",
    "\n",
    "Mudança de variáveis \n",
    "$$\\begin{cases}\n",
    "x = r \\cos \\theta \\\\\n",
    "y = r \\sin \\theta\n",
    "\\end{cases}$$"
   ]
  },
  {
   "cell_type": "markdown",
   "metadata": {},
   "source": [
    "Vetor Posição em Coordenadas Polares $$\\vec{r} = r \\hat{r}$$"
   ]
  },
  {
   "cell_type": "markdown",
   "metadata": {},
   "source": [
    "Deslocamento Angular $$\\Delta \\theta = \\theta_{f} - \\theta_{i}$$"
   ]
  },
  {
   "cell_type": "markdown",
   "metadata": {},
   "source": [
    "Velocidade Angular $$\\omega = \\frac{\\Delta \\theta}{\\Delta t}$$"
   ]
  },
  {
   "cell_type": "markdown",
   "metadata": {},
   "source": [
    "Velocidade Angular Instantânea $$ \\omega = \\lim_{\\Delta t -> 0} {\\frac{\\Delta \\theta}{\\Delta t}} = \\frac{d \\theta}{dt} $$"
   ]
  },
  {
   "cell_type": "markdown",
   "metadata": {},
   "source": [
    "Vetor Velocidade $$\\vec{v} = r \\omega \\hat{\\theta}$$"
   ]
  },
  {
   "cell_type": "markdown",
   "metadata": {},
   "source": [
    "Vetores Unitários Radial e Tangencial $$\n",
    "\\begin{cases}\n",
    "\\hat{r} = \\cos \\theta \\hat{i} + \\sin \\theta \\hat{j} \\\\\n",
    "\\hat{\\theta} = -\\sin \\theta \\hat{i} + \\cos \\theta \\hat{j}\n",
    "\\end{cases}\n",
    "$$"
   ]
  },
  {
   "cell_type": "markdown",
   "metadata": {},
   "source": [
    "Vetor Aceleração $$\\vec{a} = -a_{c}\\hat{r} + a_{t}\\hat{\\theta}$$"
   ]
  },
  {
   "cell_type": "markdown",
   "metadata": {},
   "source": [
    "## Movimento Circular Uniforme - MCU"
   ]
  },
  {
   "cell_type": "markdown",
   "metadata": {},
   "source": [
    "Características"
   ]
  },
  {
   "cell_type": "markdown",
   "metadata": {},
   "source": [
    "Velocidade Angular $$\\omega = \\frac{d\\theta}{dt}$$"
   ]
  },
  {
   "cell_type": "markdown",
   "metadata": {},
   "source": [
    "$$\\begin{cases}\n",
    "\\vec{r} = r \\hat{r} \\\\\n",
    "\\vec{v} = r \\omega \\hat{\\theta} \\\\\n",
    "\\theta_{f} =  \\theta_{i} + \\omega t \\\\\n",
    "\\displaystyle{\\vec{a} = -a_{c} \\hat{r} = - v \\omega \\hat{r} = - \\frac{v^2}{r} \\hat{r}}\n",
    "\\end{cases}$$"
   ]
  },
  {
   "cell_type": "markdown",
   "metadata": {},
   "source": [
    "## Movimento Circular uniformemente Variado - MCUV"
   ]
  },
  {
   "cell_type": "markdown",
   "metadata": {},
   "source": [
    "Características"
   ]
  },
  {
   "cell_type": "markdown",
   "metadata": {},
   "source": [
    "Aceleração Angular $$\\alpha = \\frac{d \\omega}{dt}$$"
   ]
  },
  {
   "cell_type": "markdown",
   "metadata": {},
   "source": [
    "$$\\begin{cases}\n",
    "\\vec{r} = r \\hat{r} \\\\\n",
    "\\vec{v} = r \\omega \\hat{\\theta} \\\\\n",
    "\\theta_{f} =  \\theta_{i} + \\omega t + \\frac{1}{2}\\alpha t^2\\\\\n",
    "\\omega_{f} = \\omega_{i} + \\alpha t\\\\\n",
    "\\omega_{f}^{2} = \\omega_{i}^{2} + 2 \\alpha \\Delta \\theta\\\\\n",
    "\\displaystyle{\\vec{a} = -a_{c} \\hat{r} + a_{t} \\hat{\\theta} = - \\frac{v^2}{r} \\hat{r} + r \\alpha \\hat{\\theta}}\n",
    "\\end{cases}$$"
   ]
  },
  {
   "cell_type": "code",
   "execution_count": 8,
   "metadata": {
    "scrolled": false
   },
   "outputs": [
    {
     "data": {
      "text/html": [
       "<iframe src=\"https://trinket.io/embed/glowscript/c4d77babc7\" width=\"100%\" height=\"356\" frameborder=\"0\" marginwidth=\"0\" marginheight=\"0\" allowfullscreen></iframe>\n"
      ],
      "text/plain": [
       "<IPython.core.display.HTML object>"
      ]
     },
     "metadata": {},
     "output_type": "display_data"
    }
   ],
   "source": [
    "%%HTML\n",
    "<iframe src=\"https://trinket.io/embed/glowscript/c4d77babc7\" width=\"100%\" height=\"356\" frameborder=\"0\" marginwidth=\"0\" marginheight=\"0\" allowfullscreen></iframe>"
   ]
  },
  {
   "cell_type": "markdown",
   "metadata": {},
   "source": [
    "### Obrigado!"
   ]
  }
 ],
 "metadata": {
  "kernelspec": {
   "display_name": "Python 3",
   "language": "python",
   "name": "python3"
  },
  "language_info": {
   "codemirror_mode": {
    "name": "ipython",
    "version": 3
   },
   "file_extension": ".py",
   "mimetype": "text/x-python",
   "name": "python",
   "nbconvert_exporter": "python",
   "pygments_lexer": "ipython3",
   "version": "3.8.8"
  }
 },
 "nbformat": 4,
 "nbformat_minor": 4
}
