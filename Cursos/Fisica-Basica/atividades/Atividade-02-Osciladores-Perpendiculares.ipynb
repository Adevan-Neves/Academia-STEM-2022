{
 "cells": [
  {
   "cell_type": "markdown",
   "id": "00eced56",
   "metadata": {},
   "source": [
    "## Seja bem vindo ao exercício \"Osciladores Perpendiculares\" de [Adevan Neves](https://www.linkedin.com/in/adevan-neves-santos/)\n",
    "\n",
    "\n",
    "### Prezados alunos, esta atividade encerra sua participação no curso. [Acesse o site fiziko.net](http://fiziko.net/?page_id=140)  e crie um pequeno video com a simulação em execução e encaminhe pelo link da atividade. Muito Obrigado!\n",
    "\n",
    "## Solução :\n",
    "\n",
    "## 1) Fundamentação Teórica\n",
    "\n",
    "### Começamos com uma possível solução para a equação de movimento do OHS (Oscilador Massa-Mola), sendo a seguinte equação : $ x(t) = A cos (\\omega t + \\theta_{0}) $ . No eixo vertical, podemos abstrair o comportamento com a equação $ y(t) = A sen (\\omega t + \\theta_{0}) $. Onde A é amplitude, $\\omega$ é chamada de frequência angular e $\\theta_{0}$ é a constante para o ponto inicial do movimento.\n",
    "\n",
    "$$ \\omega =  \\sqrt{\\frac{k}{m}} $$ \n",
    "\n",
    "### k é a constante da mola e m é a massa do objeto\n",
    "\n",
    "![Alter text](imagens/mhs.png)\n",
    "\n",
    "## 2) Construção da simulação\n",
    "\n",
    "### O objetivo da atividade é construir uma figura de Lissajous que assemelha-se ao símbolo de infinito. Tal comportamento será obtido  com uma relação de 1:2 entre as amplitudes e modificações pontuais em outros parâmetros para tornar a figura mais agradável. O movimento da figura irá seguir o comportamento descrito pelas duas equações de movimento (x e y) e a constante $\\omega_{0}$ foi desprezada nesta simulação.\n",
    "\n",
    "![Alter text](imagens/resultado-atividade-2.png)"
   ]
  },
  {
   "cell_type": "code",
   "execution_count": 1,
   "id": "f0e0228e",
   "metadata": {},
   "outputs": [
    {
     "data": {
      "text/html": [
       "<div id=\"glowscript\" class=\"glowscript\"></div>"
      ],
      "text/plain": [
       "<IPython.core.display.HTML object>"
      ]
     },
     "metadata": {},
     "output_type": "display_data"
    },
    {
     "data": {
      "application/javascript": "if (typeof Jupyter !== \"undefined\") { window.__context = { glowscript_container: $(\"#glowscript\").removeAttr(\"id\")};}else{ element.textContent = ' ';}",
      "text/plain": [
       "<IPython.core.display.Javascript object>"
      ]
     },
     "metadata": {},
     "output_type": "display_data"
    }
   ],
   "source": [
    "from vpython import *"
   ]
  },
  {
   "cell_type": "code",
   "execution_count": 3,
   "id": "151f679b",
   "metadata": {},
   "outputs": [
    {
     "data": {
      "text/html": [
       "<div id=\"glowscript\" class=\"glowscript\"></div>"
      ],
      "text/plain": [
       "<IPython.core.display.HTML object>"
      ]
     },
     "metadata": {},
     "output_type": "display_data"
    },
    {
     "data": {
      "application/javascript": "if (typeof Jupyter !== \"undefined\") { window.__context = { glowscript_container: $(\"#glowscript\").removeAttr(\"id\")};}else{ element.textContent = ' ';}",
      "text/plain": [
       "<IPython.core.display.Javascript object>"
      ]
     },
     "metadata": {},
     "output_type": "display_data"
    }
   ],
   "source": [
    "cena=canvas(width=700,height=400,title=\"Osciladores Perpendiculares - Adevan Neves\")\n",
    "\n",
    "\n",
    "t=0\n",
    "dt=0.02\n",
    "A1=5\n",
    "k1=30\n",
    "ang1=radians(0)\n",
    "m=30\n",
    "w1=(k1/m)**(1/2)\n",
    "\n",
    "\n",
    "A2=10\n",
    "k2=7.5\n",
    "w2=(k2/m)**(1/2)\n",
    "\n",
    "ang2=radians(0)\n",
    "yi=A1*sin(w1*t+ang1)\n",
    "xi=A2*cos(w2*t+ang2)\n",
    "\n",
    "b1=sphere(canvas=cena,pos=vector(xi,yi,0),make_trail=True,radius=0.9,Trail_radius=0.1,color=color.green)\n",
    "pl1=box(canvas=cena,pos=vector(b1.pos.x,9,0),size=vector(10,0.2,10),color=color.yellow)\n",
    "pl2=box(canvas=cena,pos=vector(-11,b1.pos.y,0),size=vector(0.2,10,10),color=color.blue)\n",
    "\n",
    "mola1=helix(canvas=cena,pos=pl1.pos,\n",
    "            axis=vector(b1.pos-pl1.pos),\n",
    "            radius=0.9,\n",
    "            color=color.yellow)\n",
    "mola2=helix(canvas=cena,\n",
    "            pos=pl2.pos,\n",
    "            axis=vector(b1.pos-pl2.pos),\n",
    "            radius=0.7,\n",
    "            color=color.blue)\n",
    "\n",
    "while t<=30:\n",
    "    rate(200)\n",
    "    xf=A2*cos(w2*t+ang2)\n",
    "    yf=A1*sin(w1*t+ang1)\n",
    "    \n",
    "    b1.pos=vector(xf,yf,0)\n",
    "    mola1.axis=vector(b1.pos-pl1.pos)\n",
    "    mola2.axis=vector(b1.pos-pl2.pos)\n",
    "    t+=dt"
   ]
  },
  {
   "cell_type": "code",
   "execution_count": null,
   "id": "fefbf92e",
   "metadata": {},
   "outputs": [],
   "source": [
    "print(\"Obrigado Academia STEM\")"
   ]
  }
 ],
 "metadata": {
  "kernelspec": {
   "display_name": "Python 3",
   "language": "python",
   "name": "python3"
  },
  "language_info": {
   "codemirror_mode": {
    "name": "ipython",
    "version": 3
   },
   "file_extension": ".py",
   "mimetype": "text/x-python",
   "name": "python",
   "nbconvert_exporter": "python",
   "pygments_lexer": "ipython3",
   "version": "3.8.8"
  }
 },
 "nbformat": 4,
 "nbformat_minor": 5
}
