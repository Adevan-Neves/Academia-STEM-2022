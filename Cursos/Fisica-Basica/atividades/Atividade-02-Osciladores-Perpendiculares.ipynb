{
 "cells": [
  {
   "cell_type": "code",
   "execution_count": 1,
   "id": "f0e0228e",
   "metadata": {},
   "outputs": [
    {
     "data": {
      "text/html": [
       "<div id=\"glowscript\" class=\"glowscript\"></div>"
      ],
      "text/plain": [
       "<IPython.core.display.HTML object>"
      ]
     },
     "metadata": {},
     "output_type": "display_data"
    },
    {
     "data": {
      "application/javascript": [
       "if (typeof Jupyter !== \"undefined\") { window.__context = { glowscript_container: $(\"#glowscript\").removeAttr(\"id\")};}else{ element.textContent = ' ';}"
      ],
      "text/plain": [
       "<IPython.core.display.Javascript object>"
      ]
     },
     "metadata": {},
     "output_type": "display_data"
    }
   ],
   "source": [
    "from vpython import *"
   ]
  },
  {
   "cell_type": "code",
   "execution_count": 3,
   "id": "151f679b",
   "metadata": {},
   "outputs": [
    {
     "data": {
      "text/html": [
       "<div id=\"glowscript\" class=\"glowscript\"></div>"
      ],
      "text/plain": [
       "<IPython.core.display.HTML object>"
      ]
     },
     "metadata": {},
     "output_type": "display_data"
    },
    {
     "data": {
      "application/javascript": [
       "if (typeof Jupyter !== \"undefined\") { window.__context = { glowscript_container: $(\"#glowscript\").removeAttr(\"id\")};}else{ element.textContent = ' ';}"
      ],
      "text/plain": [
       "<IPython.core.display.Javascript object>"
      ]
     },
     "metadata": {},
     "output_type": "display_data"
    }
   ],
   "source": [
    "cena=canvas(width=700,height=400,title=\"Osciladores Perpendiculares - Adevan Neves\")\n",
    "#ex=arrow(shaftwidth=0.1,pos=vector(0,0,0),axis=vector(40,0,0),color=color.red)\n",
    "#ey=arrow(shaftwidth=0.1,pos=vector(0,0,0),axis=vector(0,40,0),color=color.blue)\n",
    "#ez=arrow(shaftwidth=0.1,pos=vector(0,0,0),axis=vector(0,0,40),color=color.cyan)\n",
    "\n",
    "t=0\n",
    "dt=0.02\n",
    "A1=5\n",
    "k1=30\n",
    "ang1=radians(0)\n",
    "m=30\n",
    "w1=(k1/m)**(1/2)\n",
    "\n",
    "\n",
    "A2=10\n",
    "k2=7.5\n",
    "w2=(k2/m)**(1/2)\n",
    "\n",
    "ang2=radians(0)\n",
    "yi=A1*sin(w1*t+ang1)\n",
    "xi=A2*cos(w2*t+ang2)\n",
    "\n",
    "b1=sphere(canvas=cena,pos=vector(xi,yi,0),make_trail=True,radius=0.9,Trail_radius=0.1,color=color.green)\n",
    "pl1=box(canvas=cena,pos=vector(b1.pos.x,9,0),size=vector(10,0.2,10),color=color.yellow)\n",
    "pl2=box(canvas=cena,pos=vector(-11,b1.pos.y,0),size=vector(0.2,10,10),color=color.blue)\n",
    "\n",
    "mola1=helix(canvas=cena,pos=pl1.pos,\n",
    "            axis=vector(b1.pos-pl1.pos), radius=0.9,color=color.yellow)\n",
    "mola2=helix(canvas=cena,pos=pl2.pos,axis=vector(b1.pos-pl2.pos),radius=0.7,color=color.blue)\n",
    "\n",
    "while t<=30:\n",
    "    rate(200)\n",
    "    xf=A2*cos(w2*t+ang2)\n",
    "    yf=A1*sin(w1*t+ang1)\n",
    "    \n",
    "    b1.pos=vector(xf,yf,0)\n",
    "    mola1.axis=vector(b1.pos-pl1.pos)\n",
    "    mola2.axis=vector(b1.pos-pl2.pos)\n",
    "    t+=dt"
   ]
  },
  {
   "cell_type": "code",
   "execution_count": null,
   "id": "7067697e",
   "metadata": {},
   "outputs": [],
   "source": []
  }
 ],
 "metadata": {
  "kernelspec": {
   "display_name": "Python 3",
   "language": "python",
   "name": "python3"
  },
  "language_info": {
   "codemirror_mode": {
    "name": "ipython",
    "version": 3
   },
   "file_extension": ".py",
   "mimetype": "text/x-python",
   "name": "python",
   "nbconvert_exporter": "python",
   "pygments_lexer": "ipython3",
   "version": "3.8.8"
  }
 },
 "nbformat": 4,
 "nbformat_minor": 5
}
