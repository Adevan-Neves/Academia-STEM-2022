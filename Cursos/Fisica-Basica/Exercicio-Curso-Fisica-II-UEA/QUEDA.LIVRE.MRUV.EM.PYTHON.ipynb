{
 "cells": [
  {
   "cell_type": "code",
   "execution_count": 1,
   "metadata": {},
   "outputs": [
    {
     "data": {
      "text/html": [
       "<div id=\"glowscript\" class=\"glowscript\"></div>"
      ],
      "text/plain": [
       "<IPython.core.display.HTML object>"
      ]
     },
     "metadata": {},
     "output_type": "display_data"
    },
    {
     "data": {
      "application/javascript": [
       "if (typeof Jupyter !== \"undefined\") { window.__context = { glowscript_container: $(\"#glowscript\").removeAttr(\"id\")};}else{ element.textContent = ' ';}"
      ],
      "text/plain": [
       "<IPython.core.display.Javascript object>"
      ]
     },
     "metadata": {},
     "output_type": "display_data"
    }
   ],
   "source": [
    "from vpython import *"
   ]
  },
  {
   "cell_type": "code",
   "execution_count": 2,
   "metadata": {},
   "outputs": [
    {
     "data": {
      "text/html": [
       "<div id=\"glowscript\" class=\"glowscript\"></div>"
      ],
      "text/plain": [
       "<IPython.core.display.HTML object>"
      ]
     },
     "metadata": {},
     "output_type": "display_data"
    },
    {
     "data": {
      "application/javascript": [
       "if (typeof Jupyter !== \"undefined\") { window.__context = { glowscript_container: $(\"#glowscript\").removeAttr(\"id\")};}else{ element.textContent = ' ';}"
      ],
      "text/plain": [
       "<IPython.core.display.Javascript object>"
      ]
     },
     "metadata": {},
     "output_type": "display_data"
    },
    {
     "data": {
      "application/javascript": [
       "if (typeof Jupyter !== \"undefined\") {require.undef(\"nbextensions/vpython_libraries/glow.min\");}else{element.textContent = ' ';}"
      ],
      "text/plain": [
       "<IPython.core.display.Javascript object>"
      ]
     },
     "metadata": {},
     "output_type": "display_data"
    },
    {
     "data": {
      "application/javascript": [
       "if (typeof Jupyter !== \"undefined\") {require.undef(\"nbextensions/vpython_libraries/glowcomm\");}else{element.textContent = ' ';}"
      ],
      "text/plain": [
       "<IPython.core.display.Javascript object>"
      ]
     },
     "metadata": {},
     "output_type": "display_data"
    },
    {
     "data": {
      "application/javascript": [
       "if (typeof Jupyter !== \"undefined\") {require.undef(\"nbextensions/vpython_libraries/jquery-ui.custom.min\");}else{element.textContent = ' ';}"
      ],
      "text/plain": [
       "<IPython.core.display.Javascript object>"
      ]
     },
     "metadata": {},
     "output_type": "display_data"
    },
    {
     "data": {
      "application/javascript": [
       "if (typeof Jupyter !== \"undefined\") {require([\"nbextensions/vpython_libraries/glow.min\"], function(){console.log(\"GLOW LOADED\");});}else{element.textContent = ' ';}"
      ],
      "text/plain": [
       "<IPython.core.display.Javascript object>"
      ]
     },
     "metadata": {},
     "output_type": "display_data"
    },
    {
     "data": {
      "application/javascript": [
       "if (typeof Jupyter !== \"undefined\") {require([\"nbextensions/vpython_libraries/glowcomm\"], function(){console.log(\"GLOWCOMM LOADED\");});}else{element.textContent = ' ';}"
      ],
      "text/plain": [
       "<IPython.core.display.Javascript object>"
      ]
     },
     "metadata": {},
     "output_type": "display_data"
    },
    {
     "data": {
      "application/javascript": [
       "if (typeof Jupyter !== \"undefined\") {require([\"nbextensions/vpython_libraries/jquery-ui.custom.min\"], function(){console.log(\"JQUERY LOADED\");});}else{element.textContent = ' ';}"
      ],
      "text/plain": [
       "<IPython.core.display.Javascript object>"
      ]
     },
     "metadata": {},
     "output_type": "display_data"
    }
   ],
   "source": [
    "cena=canvas(width=800,height=400,\n",
    "center=vector(5,10,-20),title=\"Queda Livre e MRUV em Python\")\n",
    "\n",
    "ex=arrow(canvas=cena,pos=vector(0,0,0)\n",
    ",axis=vector(40,0,0),shaftwidth=0.2,color=color.cyan)\n",
    "\n",
    "ey=arrow(canvas=cena,pos=vector(0,0,0)\n",
    ",axis=vector(0,30,0),shaftwidth=0.2,color=color.cyan)\n",
    "\n",
    "ez=arrow(canvas=cena,pos=vector(0,0,0)\n",
    ",axis=vector(0,0,40),shaftwidth=0.2,color=color.cyan)\n",
    "\n",
    "b1=sphere(canvas=cena,pos=vector(5,20,1), radius=0.5, color=color.red, velocity=vector(0,0,0))\n",
    "\n",
    "b2=sphere(canvas=cena, pos=vector(7,20,1), radius=0.5, color=color.blue,velocity=vector(0,-14.6,0))\n",
    "\n",
    "chao=box(canvas=cena, pos=vector(0,0,0),color=color.cyan, size=vector(40,0.2,40))\n",
    "\n",
    "predio=box(canvas=cena, pos=vector(5,10,0.2), \n",
    "color=color.yellow, size=vector(11,20,0.2))\n",
    "\n",
    "grafico_velocidade=graph(width=400,height=400,title=\"Velocidade (m/s)\",foreground=color.white,background=color.black)\n",
    "grafico_posicao=graph(width=400,height=400,title=\"Posição do projétil\",foreground=color.white,background=color.black)\n",
    "\n",
    "b1vel=gcurve(graph=grafico_velocidade)\n",
    "b2vel=gcurve(graph=grafico_velocidade)\n",
    "\n",
    "b1pos=gcurve(graph=grafico_posicao)\n",
    "b2pos=gcurve(graph=grafico_posicao)\n",
    "\n",
    "t=0\n",
    "dt=0.01\n",
    "while b1.pos.y>=0:\n",
    "    rate(100)\n",
    "    b1.velocity.y-=9.8*dt\n",
    "    b1.pos.y+=b1.velocity.y*dt\n",
    "    b1vel.plot(t,b1.velocity.y,color=color.red)\n",
    "    b1pos.plot(t,b1.pos.y,color=color.red)\n",
    "    if t>=1:\n",
    "        b2.velocity.y-=9.8*dt\n",
    "        b2.pos.y+=b2.velocity.y*dt\n",
    "        b2vel.plot(t,b2.velocity.y,color=color.blue)\n",
    "        b2pos.plot(t,b2.pos.y,color=color.blue)\n",
    "        label(canvas=cena,pos=vector(4,6,0), box=True, text=\"Relógio: {:.3f} s\".format(t))\n",
    "    t+=dt"
   ]
  },
  {
   "cell_type": "code",
   "execution_count": null,
   "metadata": {},
   "outputs": [],
   "source": []
  },
  {
   "cell_type": "code",
   "execution_count": null,
   "metadata": {},
   "outputs": [],
   "source": []
  }
 ],
 "metadata": {
  "kernelspec": {
   "display_name": "Python 3",
   "language": "python",
   "name": "python3"
  },
  "language_info": {
   "codemirror_mode": {
    "name": "ipython",
    "version": 3
   },
   "file_extension": ".py",
   "mimetype": "text/x-python",
   "name": "python",
   "nbconvert_exporter": "python",
   "pygments_lexer": "ipython3",
   "version": "3.8.8"
  }
 },
 "nbformat": 4,
 "nbformat_minor": 4
}
