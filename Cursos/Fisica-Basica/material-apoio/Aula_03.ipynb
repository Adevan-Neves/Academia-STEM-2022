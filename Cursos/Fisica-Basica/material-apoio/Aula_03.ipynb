{
 "cells": [
  {
   "cell_type": "markdown",
   "metadata": {},
   "source": [
    "# **CURSO DE FÍSICA BÁSICA**"
   ]
  },
  {
   "cell_type": "markdown",
   "metadata": {},
   "source": [
    "## AULA 3"
   ]
  },
  {
   "cell_type": "markdown",
   "metadata": {},
   "source": [
    "* Primeira Leis de Newton;\n",
    "* Segunda Leis de Newton;\n",
    "* Terceira Lei de Newton;"
   ]
  },
  {
   "cell_type": "markdown",
   "metadata": {},
   "source": [
    "### Primeira Leis de Newton"
   ]
  },
  {
   "cell_type": "markdown",
   "metadata": {},
   "source": [
    "<p> <b>Primeira Lei de Newton:</b> Se nenhuma força atua sobre um corpo, sua velocidade não pode mudar, ou seja, o corpo não pode sofrer aceleração.</p>\n",
    "<img src='imgs/Pri_leiNewton.jpg' />"
   ]
  },
  {
   "cell_type": "markdown",
   "metadata": {},
   "source": [
    "<p><b>Segunda Lei de Newton:</b> A força resultante que age sobre um corpo é igual ao produto da massa do corpo pela aceleração.</p>\n",
    "<img src='imgs/Seg_leiNewton.png'/>"
   ]
  },
  {
   "cell_type": "markdown",
   "metadata": {},
   "source": [
    "<p><b>Idéia Clássica de Força:</b> “tudo que se move é movido por alguma coisa” (Aristóteles). Para este, o movimento só existe se uma força for constantemente aplicada ao móvel.</p> \n",
    "<p><b>Idéia Intermediária:</b> A Força Impressa, (Hiparco, século II a.C.) diz que um projétil se movimenta, depois de arremessado, devido a uma força transmitida a ele pelo lançador.<p/>\n",
    "<p><b>Idéia Moderna de Força:</b> \"todo o corpo continua em seu estado de repouso ou de movimento retilíneo uniforme, a menos que seja compelido a alterar um destes estados por uma força resultante a ele aplicada\". (Newton)</p>"
   ]
  },
  {
   "cell_type": "markdown",
   "metadata": {},
   "source": [
    "<p><b>Força Resultante:</b> $$ \\vec{F}_{R} = m \\vec{a} $$</p>\n",
    "<p>$$\\vec{F}_{R} = \\vec{F}_{1} +  \\vec{F}_{2} +  \\vec{F}_{3} + \\cdots +  \\vec{F}_{N}$$ </p>"
   ]
  },
  {
   "cell_type": "markdown",
   "metadata": {},
   "source": [
    "<p><b>Terceira Lei de Newton:</b> Quando dois corpos interagem, as forças que cada corpo exerce sobre o outro são iguais em módulo e direção e têm sentidos opostos. As forças são sempre criadas aos pares.</p>"
   ]
  },
  {
   "cell_type": "code",
   "execution_count": 1,
   "metadata": {},
   "outputs": [
    {
     "data": {
      "text/html": [
       "<video width=\"320\" height=\"240\" controls>\n",
       "  <source src=\"imgs/Pendulo_Newton.mp4\" type=\"video/mp4\">\n",
       "</video>\n"
      ],
      "text/plain": [
       "<IPython.core.display.HTML object>"
      ]
     },
     "metadata": {},
     "output_type": "display_data"
    }
   ],
   "source": [
    "%%HTML\n",
    "<video width=\"320\" height=\"240\" controls>\n",
    "  <source src=\"imgs/Pendulo_Newton.mp4\" type=\"video/mp4\">\n",
    "</video>"
   ]
  },
  {
   "cell_type": "markdown",
   "metadata": {},
   "source": []
  },
  {
   "cell_type": "markdown",
   "metadata": {},
   "source": [
    "### Exercícios"
   ]
  },
  {
   "cell_type": "markdown",
   "metadata": {},
   "source": [
    "<img src='imgs/exerc_05.png' width='800'/>"
   ]
  },
  {
   "cell_type": "markdown",
   "metadata": {},
   "source": [
    "Resolução"
   ]
  },
  {
   "cell_type": "markdown",
   "metadata": {},
   "source": []
  },
  {
   "cell_type": "markdown",
   "metadata": {},
   "source": [
    "### Praticando no VPython"
   ]
  },
  {
   "cell_type": "code",
   "execution_count": 25,
   "metadata": {
    "scrolled": false
   },
   "outputs": [
    {
     "data": {
      "text/html": [
       "<div id=\"glowscript\" class=\"glowscript\"></div>"
      ],
      "text/plain": [
       "<IPython.core.display.HTML object>"
      ]
     },
     "metadata": {},
     "output_type": "display_data"
    },
    {
     "data": {
      "application/javascript": [
       "if (typeof Jupyter !== \"undefined\") { window.__context = { glowscript_container: $(\"#glowscript\").removeAttr(\"id\")};}else{ element.textContent = ' ';}"
      ],
      "text/plain": [
       "<IPython.core.display.Javascript object>"
      ]
     },
     "metadata": {},
     "output_type": "display_data"
    }
   ],
   "source": [
    "from vpython import*\n",
    "cena=canvas(width=400, height=400, center=vector(40,0,0), title='Força Resultante')\n",
    "\n",
    "ex = arrow(canvas = cena, pos=vector(0,0,0), axis=vector(70,0,0), shaftwidth=0.2, color = color.red ) \n",
    "ey = arrow(canvas = cena, pos=vector(0,-40,0), axis=vector(0,70,0), shaftwidth=0.2, color = color.blue )\n",
    "\n",
    "f1 = arrow(canvas = cena, pos=vector(0,0,0), axis=vector(27.7,16,0), shaftwidth=0.2, color = color.white )\n",
    "f2 = arrow(canvas = cena, pos=vector(0,0,0), axis=vector(55,0,0), shaftwidth=0.2, color = color.white )\n",
    "f3 = arrow(canvas = cena, pos=vector(0,0,0), axis=vector(20.5,-35.5,0), shaftwidth=0.2, color = color.white )\n",
    "\n",
    "frx = f1.axis.x + f2.axis.x + f3.axis.x \n",
    "fry = f1.axis.y + f2.axis.y + f3.axis.y \n",
    "\n",
    "fr = arrow(canvas = cena, pos=vector(0,0,0), axis=vector(frx,fry,0), shaftwidth=0.2, color = color.green )\n",
    "\n",
    "label(canvas = cena, pos=vec(30,20,0), box=False,text='F1')"
   ]
  },
  {
   "cell_type": "markdown",
   "metadata": {},
   "source": [
    "<img src='imgs/exerc_06.png' width = '800'/>"
   ]
  },
  {
   "cell_type": "markdown",
   "metadata": {},
   "source": [
    "Resolução"
   ]
  },
  {
   "cell_type": "markdown",
   "metadata": {},
   "source": [
    "\n",
    "\n",
    "\n",
    "\n",
    "\n",
    "\n",
    "\n",
    "\n",
    "\n",
    "\n",
    "\n",
    "\n"
   ]
  },
  {
   "cell_type": "markdown",
   "metadata": {},
   "source": []
  },
  {
   "cell_type": "markdown",
   "metadata": {},
   "source": [
    "<img src='imgs/exerc_07.png' width='800'/>"
   ]
  },
  {
   "cell_type": "markdown",
   "metadata": {},
   "source": [
    "Resolução"
   ]
  },
  {
   "cell_type": "markdown",
   "metadata": {},
   "source": [
    "\n",
    "\n",
    "\n",
    "\n",
    "\n",
    "\n",
    "\n",
    "\n",
    "\n",
    "\n",
    "\n",
    "\n",
    "\n",
    "\n",
    "\n"
   ]
  },
  {
   "cell_type": "markdown",
   "metadata": {},
   "source": []
  },
  {
   "cell_type": "markdown",
   "metadata": {},
   "source": []
  }
 ],
 "metadata": {
  "kernelspec": {
   "display_name": "Python 3",
   "language": "python",
   "name": "python3"
  },
  "language_info": {
   "codemirror_mode": {
    "name": "ipython",
    "version": 3
   },
   "file_extension": ".py",
   "mimetype": "text/x-python",
   "name": "python",
   "nbconvert_exporter": "python",
   "pygments_lexer": "ipython3",
   "version": "3.8.5"
  }
 },
 "nbformat": 4,
 "nbformat_minor": 4
}
