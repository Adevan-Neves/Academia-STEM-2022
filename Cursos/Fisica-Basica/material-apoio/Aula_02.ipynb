{
 "cells": [
  {
   "cell_type": "markdown",
   "metadata": {},
   "source": [
    "# **FÍSICA BÁSICA COM PYTHON**"
   ]
  },
  {
   "cell_type": "markdown",
   "metadata": {},
   "source": [
    "## AULA 2"
   ]
  },
  {
   "cell_type": "markdown",
   "metadata": {},
   "source": [
    "* Movimento em Duas e Três Dimensões;\n",
    "* Introdução ao Python;"
   ]
  },
  {
   "cell_type": "markdown",
   "metadata": {},
   "source": [
    "## Lançamento Oblíquo"
   ]
  },
  {
   "cell_type": "markdown",
   "metadata": {},
   "source": [
    "### Conceitos"
   ]
  },
  {
   "cell_type": "markdown",
   "metadata": {},
   "source": [
    "<p>O movimento oblíquo é um movimento em 2D, resultante da combinação dos movimentos nas direções <i>x</i> e  <i>y</i>.</p>"
   ]
  },
  {
   "cell_type": "markdown",
   "metadata": {},
   "source": [
    "<p> Vetor posição: $$\\vec{r}(t) = x(t) \\hat{i} + y(t) \\hat{j}$$</p>"
   ]
  },
  {
   "cell_type": "markdown",
   "metadata": {},
   "source": [
    "<p> Vetor Velocidade: $$\\vec{v}(t) = \\frac{\\mathrm{d} \\vec{r}}{\\mathrm{d}t} = v_{x}\\hat{i} + v_{y}\\hat{j}$$ </p>"
   ]
  },
  {
   "cell_type": "markdown",
   "metadata": {},
   "source": [
    "<p>Vetor aceleração: $$\\vec{a}(t) = \\frac{\\mathrm{d}\\vec{v}}{dt} = a_{x}\\hat{i} + a_{y}\\hat{j} $$</p>"
   ]
  },
  {
   "cell_type": "markdown",
   "metadata": {},
   "source": []
  },
  {
   "cell_type": "markdown",
   "metadata": {},
   "source": [
    "<p>Considerações:</p>\n",
    "<p>Comportamento na direção <i>x</i>.</p>\n",
    "<p>$$\\begin{cases}\n",
    "a_{x} = 0 \\\\\n",
    "v_{x} = v_{xi} \\\\\n",
    "x = x_{i} + v_{xi}t\n",
    "\\end{cases}\n",
    "$$</p>\n",
    "<p>Comportamento na direção <i>y</i>.</p>\n",
    "<p>$$\\begin{cases}\n",
    "a_{y} = -g \\\\\n",
    "v_{y} = v_{yi} - gt \\\\\n",
    "y = y_{i} + v_{yi}t - \\frac{1}{2}gt^2\n",
    "\\end{cases}\n",
    "$$</p>\n",
    "<p>O sinal da aceleração gravitacional é negativo porque o marco zero do referencial é no solo e o eixo <i>y</i> cresce para cima.</p>\n"
   ]
  },
  {
   "cell_type": "markdown",
   "metadata": {},
   "source": []
  },
  {
   "cell_type": "markdown",
   "metadata": {},
   "source": [
    "Equação da trajetória em um Lançamento Oblíquo \n",
    "$$\\begin{cases}\n",
    "v_{xi} = v_{i} \\cos\\theta\\\\\n",
    "v_{yi} = v_{i} \\sin \\theta\n",
    "\\end{cases}$$\n",
    "<p>Combinando-se as equações das posições x e y excluindo o tempo t</p>\n",
    "$$\\begin{cases}\n",
    "x = x_{i} + v_{xi}t \\\\\n",
    "y = y_{i} + v_{yi}t - \\frac{1}{2}gt^2\n",
    "\\end{cases}$$\n",
    "<p>obtem-se,</p>\n",
    "$$\\begin{cases}\n",
    "\\displaystyle{t = \\frac{\\Delta x}{v_{xi}}} \\\\\n",
    "\\displaystyle{y = y_{i} + v_{yi} \\left(\\frac{\\Delta x}{v_{xi}}\\right) - \\frac{1}{2}g\\left(\\frac{\\Delta x}{v_{xi}}\\right)^2}\n",
    "\\end{cases}$$\n",
    "<p>assim,</p>\n",
    "$$\\begin{cases}\n",
    "\\displaystyle{t = \\frac{\\Delta x}{v_{xi}}} \\\\\n",
    "\\displaystyle{y = y_{i} + \\tan \\theta \\Delta x - \\frac{1}{2}g\\left(\\frac{\\Delta x}{v_{i}\\cos \\theta}\\right)^2}\n",
    "\\end{cases}$$\n",
    "<p>Identidades importantes</p>\n",
    "$$\\cos^{2} \\theta + \\sin^{2} \\theta = 1$$\n",
    "$$\\sec^{2} \\theta = \\tan^{2} \\theta + 1$$"
   ]
  },
  {
   "cell_type": "code",
   "execution_count": null,
   "metadata": {},
   "outputs": [],
   "source": []
  },
  {
   "cell_type": "markdown",
   "metadata": {},
   "source": [
    "## Simulando em Python"
   ]
  },
  {
   "cell_type": "code",
   "execution_count": 1,
   "metadata": {},
   "outputs": [
    {
     "data": {
      "text/html": [
       "<div id=\"glowscript\" class=\"glowscript\"></div>"
      ],
      "text/plain": [
       "<IPython.core.display.HTML object>"
      ]
     },
     "metadata": {},
     "output_type": "display_data"
    },
    {
     "data": {
      "application/javascript": [
       "if (typeof Jupyter !== \"undefined\") { window.__context = { glowscript_container: $(\"#glowscript\").removeAttr(\"id\")};}else{ element.textContent = ' ';}"
      ],
      "text/plain": [
       "<IPython.core.display.Javascript object>"
      ]
     },
     "metadata": {},
     "output_type": "display_data"
    }
   ],
   "source": [
    "from vpython import*"
   ]
  },
  {
   "cell_type": "code",
   "execution_count": 2,
   "metadata": {
    "scrolled": true
   },
   "outputs": [
    {
     "data": {
      "text/html": [
       "<div id=\"glowscript\" class=\"glowscript\"></div>"
      ],
      "text/plain": [
       "<IPython.core.display.HTML object>"
      ]
     },
     "metadata": {},
     "output_type": "display_data"
    },
    {
     "data": {
      "application/javascript": [
       "if (typeof Jupyter !== \"undefined\") { window.__context = { glowscript_container: $(\"#glowscript\").removeAttr(\"id\")};}else{ element.textContent = ' ';}"
      ],
      "text/plain": [
       "<IPython.core.display.Javascript object>"
      ]
     },
     "metadata": {},
     "output_type": "display_data"
    },
    {
     "data": {
      "application/javascript": [
       "if (typeof Jupyter !== \"undefined\") {require.undef(\"nbextensions/vpython_libraries/glow.min\");}else{element.textContent = ' ';}"
      ],
      "text/plain": [
       "<IPython.core.display.Javascript object>"
      ]
     },
     "metadata": {},
     "output_type": "display_data"
    },
    {
     "data": {
      "application/javascript": [
       "if (typeof Jupyter !== \"undefined\") {require.undef(\"nbextensions/vpython_libraries/glowcomm\");}else{element.textContent = ' ';}"
      ],
      "text/plain": [
       "<IPython.core.display.Javascript object>"
      ]
     },
     "metadata": {},
     "output_type": "display_data"
    },
    {
     "data": {
      "application/javascript": [
       "if (typeof Jupyter !== \"undefined\") {require.undef(\"nbextensions/vpython_libraries/jquery-ui.custom.min\");}else{element.textContent = ' ';}"
      ],
      "text/plain": [
       "<IPython.core.display.Javascript object>"
      ]
     },
     "metadata": {},
     "output_type": "display_data"
    },
    {
     "data": {
      "application/javascript": [
       "if (typeof Jupyter !== \"undefined\") {require([\"nbextensions/vpython_libraries/glow.min\"], function(){console.log(\"GLOW LOADED\");});}else{element.textContent = ' ';}"
      ],
      "text/plain": [
       "<IPython.core.display.Javascript object>"
      ]
     },
     "metadata": {},
     "output_type": "display_data"
    },
    {
     "data": {
      "application/javascript": [
       "if (typeof Jupyter !== \"undefined\") {require([\"nbextensions/vpython_libraries/glowcomm\"], function(){console.log(\"GLOWCOMM LOADED\");});}else{element.textContent = ' ';}"
      ],
      "text/plain": [
       "<IPython.core.display.Javascript object>"
      ]
     },
     "metadata": {},
     "output_type": "display_data"
    },
    {
     "data": {
      "application/javascript": [
       "if (typeof Jupyter !== \"undefined\") {require([\"nbextensions/vpython_libraries/jquery-ui.custom.min\"], function(){console.log(\"JQUERY LOADED\");});}else{element.textContent = ' ';}"
      ],
      "text/plain": [
       "<IPython.core.display.Javascript object>"
      ]
     },
     "metadata": {},
     "output_type": "display_data"
    }
   ],
   "source": [
    "cena = canvas(width=300, height=300, center=vector(10,10,0), title='Referencial e Movimento') \n",
    "\n",
    "pxi = 0\n",
    "pyi = 0\n",
    "vi = 15\n",
    "ang = 30\n",
    "py = pyi\n",
    "\n",
    "p1 = sphere(pos = vector(pxi,pyi,0), radius = 0.5, make_trail = True, trail_radius=0.1)\n",
    "ex = arrow(canvas = cena, pos=vector(0,0,0), axis=vector(20,0,0), shaftwidth=0.2, color = color.red ) \n",
    "ey = arrow(canvas = cena, pos=vector(0,0,0), axis=vector(0,20,0), shaftwidth=0.2, color = color.blue )\n",
    "\n",
    "gr = graph(width=400, height=400, title='Trajetória da partícula',foreground=color.white, background=color.black)\n",
    "g1 = gcurve(graph=gr)\n",
    "\n",
    "t = 0\n",
    "dt = 0.001\n",
    "\n",
    "while t <= 5:\n",
    "    if py >= 0:\n",
    "        rate(100)       \n",
    "        vxi = vi*cos(radians(ang))\n",
    "        vyi = vi*sin(radians(ang))\n",
    "\n",
    "        px = pxi + vxi*t\n",
    "        py = pyi + vyi*t - 0.5*9.8*t**2\n",
    "        \n",
    "        g1.plot(px,py,color=color.cyan)\n",
    "        \n",
    "        p1.pos = vector(px,py,0)\n",
    "        t = t + dt\n",
    "        #label(canvas = cena, pos = vec(10,-4,0), box = False, text='(t,px,py)=({:.1f},{:.1f},{:.1f})'.format(t,px,py))\n",
    "    else:\n",
    "        label(canvas = cena, pos = vec(10,-4,0), box = False, text='(t,px,py)=({:.1f},{:.1f},{:.1f})'.format(t,px,py))\n",
    "        label(canvas = cena, pos=vec(10,-10,0), box=False,text='A partícula atingiu o solo!')\n",
    "        break\n"
   ]
  },
  {
   "cell_type": "code",
   "execution_count": null,
   "metadata": {
    "scrolled": true
   },
   "outputs": [
    {
     "data": {
      "text/html": [
       "<div id=\"glowscript\" class=\"glowscript\"></div>"
      ],
      "text/plain": [
       "<IPython.core.display.HTML object>"
      ]
     },
     "metadata": {},
     "output_type": "display_data"
    },
    {
     "data": {
      "application/javascript": [
       "if (typeof Jupyter !== \"undefined\") { window.__context = { glowscript_container: $(\"#glowscript\").removeAttr(\"id\")};}else{ element.textContent = ' ';}"
      ],
      "text/plain": [
       "<IPython.core.display.Javascript object>"
      ]
     },
     "metadata": {},
     "output_type": "display_data"
    }
   ],
   "source": [
    "from vpython import*\n",
    "\n",
    "cena = canvas(title='Lançamento Oblíquo', width=800, height=400,\n",
    "     center=vector(10,5,5), autoscale = False)\n",
    "     \n",
    "ex = arrow(canvas = cena, pos=vector(0,0,0), axis=vector(30,0,0), shaftwidth=0.1)\n",
    "ey = arrow(canvas = cena, pos=vector(0,0,0), axis=vector(0,10,0), shaftwidth=0.1)\n",
    "#ez = arrow(canvas = cena, pos=vector(0,0,0), axis=vector(0,0,20), shaftwidth=0.1)\n",
    "\n",
    "ball = sphere(pos=vector(0,0,0), radius=0.5, color=color.yellow, make_trail=True, trail_radius = 0.1)\n",
    "pointer = arrow(canvas = cena, pos=vector(0,0,0), axis=vector(0,0,0), shaftwidth=0.1, color=color.blue)\n",
    "\n",
    "pox = arrow(canvas = cena, pos=vector(0,0,0), axis=vector(0,0,0), shaftwidth=0.1, color=color.red)\n",
    "poy = arrow(canvas = cena, pos=vector(0,0,0), axis=vector(0,0,0), shaftwidth=0.1, color=color.red)\n",
    "\n",
    "\n",
    "t = 0\n",
    "dt = 0.001\n",
    "vi = 20\n",
    "xi = 0\n",
    "yi = 0\n",
    "ang = radians(30)\n",
    "\n",
    "\n",
    "while t <= 20:\n",
    "    rate(300)\n",
    "    \n",
    "    if (ball.pos.y >= 0 ):\n",
    "\n",
    "        ball.pos.x = xi + vi*cos(ang)*t\n",
    "        ball.pos.y = yi + vi*sin(ang)*t - 4.9*t**2\n",
    "    \n",
    "        pointer.pos.x = ball.pos.x\n",
    "        pointer.pos.y = ball.pos.y\n",
    "        \n",
    "        pox.pos.x = ball.pos.x\n",
    "        pox.pos.y = ball.pos.y\n",
    "         \n",
    "        poy.pos.x = ball.pos.x\n",
    "        poy.pos.y = ball.pos.y\n",
    "        \n",
    "        \n",
    "        vx = vi*cos(ang)\n",
    "        vy = vi*sin(ang)-9.8*t\n",
    "        \n",
    "        pox.axis.x = vx\n",
    "        poy.axis.y = vy\n",
    "        \n",
    "        \n",
    "        pointer.axis.x = vx\n",
    "        pointer.axis.y = vy\n",
    "        \n",
    "        t += dt\n",
    "    \n",
    "    else:\n",
    "        label( pos=vec(0,-5,0), text='Atingiu o solo!' , box = False)\n",
    "        label( pos=vec(0,-6,0), text='R = {:.1f}'.format(ball.pos.x) , box = False)\n",
    "        label( pos=vec(0,-7,0), text='t = {:.2f}'.format(t) , box = False)\n",
    "        "
   ]
  },
  {
   "cell_type": "markdown",
   "metadata": {},
   "source": [
    "<p>Comportamento da derivada e integral. "
   ]
  },
  {
   "cell_type": "markdown",
   "metadata": {},
   "source": [
    "<p>No Geogebra, defina os valores iniciais do problema.</p>\n"
   ]
  },
  {
   "cell_type": "markdown",
   "metadata": {},
   "source": [
    "* Dê valores para <i>x<sub>i</sub></i>, <i>v<sub>i</sub></i> e <i>a</i>;\n",
    "* Crie a variável <i>n</i> que será utilizada para indicar o número dos retângulos na integral;\n",
    "* Considere a função: \n"
   ]
  },
  {
   "cell_type": "markdown",
   "metadata": {},
   "source": [
    "<p>$$f(t) = x_{i}+v_{i}t+\\frac{1}{2}at^2$$</p>"
   ]
  },
  {
   "cell_type": "markdown",
   "metadata": {},
   "source": [
    "* Considerando a derivada da função <i>f(t)</i>"
   ]
  },
  {
   "cell_type": "markdown",
   "metadata": {},
   "source": [
    "$$f'(t) = v_{i} + at$$"
   ]
  },
  {
   "cell_type": "markdown",
   "metadata": {},
   "source": [
    "* Dado o ponto (t<sub>0</sub>,x<sub>0</sub>), a reta tangente a este ponto é dada por:"
   ]
  },
  {
   "cell_type": "markdown",
   "metadata": {},
   "source": [
    "$$r(t) = (t-t_{0})f'(t_{0})+x_{0}$$"
   ]
  },
  {
   "cell_type": "markdown",
   "metadata": {},
   "source": [
    "* Utilize o comando SomaDeRiemanÀEsquerda(f(t),t<sub>0</sub>,t<sub>f</sub>,n), para desenhar a área abaixo da curva."
   ]
  },
  {
   "cell_type": "code",
   "execution_count": null,
   "metadata": {
    "scrolled": true
   },
   "outputs": [],
   "source": [
    "%%HTML\n",
    "<iframe src=\"https://www.geogebra.org/classic?lang=pt\" height=\"400\" width=\"800\" title=\"Iframe Example\"></iframe>"
   ]
  },
  {
   "cell_type": "markdown",
   "metadata": {},
   "source": []
  },
  {
   "cell_type": "markdown",
   "metadata": {},
   "source": [
    "### Exercícios"
   ]
  },
  {
   "cell_type": "markdown",
   "metadata": {},
   "source": [
    "1º) Um desordeiro joga uma pedra verticalmente\n",
    "para baixo com uma velocidade inicial de 12 m/s, a\n",
    "partir do telhado de um edifício, 30,0 m acima do solo.\n",
    "Quanto tempo leva a pedra para atingir o solo?"
   ]
  },
  {
   "cell_type": "markdown",
   "metadata": {},
   "source": [
    "<p>Considere a equação abaixo;</p>\n",
    "$$v_{f}^2 = v_{i}^2 - 2g\\Delta y$$\n",
    "<p>Se considerarmos a origem do sistema de referência no solo, tem-se que</p>\n",
    "$$\\Delta y = y_{f} - y_{i}$$\n",
    "<p>A posição inicial do lançamento vertical é $y_{i} = 30m$ e a posição final do lançamento é $y_{f} = 0$, logo</p>\n",
    "$$v_{f}^2 = (12)^2 - 2\\cdot 9.8 \\cdot (0 - 30)$$\n",
    "$$v_{f} = 27 m/s$$\n",
    "<p>Com a velocidade final é possível determinar o tempo do movimento da partícula, usamos</p>\n",
    "$$v_{f} = v_{i} - gt$$\n",
    "<p>Precisamos tomar cuidado com os sinais da velocidades da partícula, no nosso referencial, as velocidades são negativas, assim</p>\n",
    "$$v_{f} = v_{i} - gt$$\n",
    "$$ -27 = -12 -9.8t$$\n",
    "$$t = \\frac{-27+12}{-9.8}$$\n",
    "$$t = 1,53s$$"
   ]
  },
  {
   "cell_type": "markdown",
   "metadata": {},
   "source": [
    "2º) Um projétil é lançado do ar do topo de um\n",
    "rochedo situado a 200 m acima de um vale. Sua\n",
    "velocidade inicial é de 60 m/s a um ângulo de 60° acima\n",
    "da horizontal. Em que ponto o projétil atinge o solo?\n",
    "<img src='imgs/exerc_03.png' width='300'/>"
   ]
  },
  {
   "cell_type": "markdown",
   "metadata": {},
   "source": []
  },
  {
   "cell_type": "markdown",
   "metadata": {},
   "source": [
    "3º) Um triturador foi projetado para ejetar lascas a\n",
    "uma velocidade inicial 𝑣<sub>0</sub> = 7,62 𝑚/𝑠, como mostrado\n",
    "na figura. Se o tubo é inclinado de 300 em relação à\n",
    "horizontal, determine a altura ℎ da pilha onde as lascas\n",
    "se depositam. A distância horizontal de A à saída do\n",
    "tubo em 𝑂 é de 6,1 𝑚.\n",
    "<img src='imgs/exerc_02.png' width='300'/>"
   ]
  },
  {
   "cell_type": "markdown",
   "metadata": {},
   "source": []
  },
  {
   "cell_type": "markdown",
   "metadata": {},
   "source": [
    "## Introdução ao Python"
   ]
  },
  {
   "cell_type": "markdown",
   "metadata": {},
   "source": [
    "As principais bibliotecas utilizadas em Física, Engenharia e Matemática são: Numpy e Matplotlib"
   ]
  },
  {
   "cell_type": "markdown",
   "metadata": {},
   "source": [
    "<p>Pode-se instalar a bliblioteca Numpy por meio do PIP.</p>\n",
    "<p>* pip install numpy</p>\n",
    "<p>Pode-se instalar a biblioteca Matplotlib por meio do PIP</p>\n",
    "<p>* python -m pip install -U pip</p>\n",
    "<p>* python -m pip install -U matplotlib</p>\n",
    "<p>Dependendo da instalação e do sistema operacional, altere de python para python3.</p>"
   ]
  },
  {
   "cell_type": "markdown",
   "metadata": {},
   "source": [
    "### Importando as bibliotecas e construindo gráficos"
   ]
  },
  {
   "cell_type": "code",
   "execution_count": null,
   "metadata": {},
   "outputs": [],
   "source": [
    "import matplotlib\n",
    "import matplotlib.pyplot as plt\n",
    "import numpy as np"
   ]
  },
  {
   "cell_type": "markdown",
   "metadata": {},
   "source": [
    "Definindo as funções (variável independente,variável dependente)"
   ]
  },
  {
   "cell_type": "code",
   "execution_count": null,
   "metadata": {},
   "outputs": [],
   "source": [
    "A = 10\n",
    "Tp = 2\n",
    "O = 180\n",
    "w = 2 * np.pi/Tp\n",
    "t = np.arange(0.0, 4.0, 0.01)\n",
    "s = A*np.cos(w * t + np.radians(O))\n",
    "v = -A*w*np.sin(w*t + np.radians(O))"
   ]
  },
  {
   "cell_type": "markdown",
   "metadata": {},
   "source": [
    "Construção do gráfico"
   ]
  },
  {
   "cell_type": "code",
   "execution_count": null,
   "metadata": {},
   "outputs": [],
   "source": [
    "font = {'family': 'serif',\n",
    "        'color':  'white',\n",
    "        'weight': 'normal',\n",
    "        'size': 16,\n",
    "        }\n",
    "fig, (ax1,ax2) = plt.subplots(ncols=2,figsize=(20,5),facecolor='black')\n",
    "ax1.plot(t, s,color='g') #{'b', 'g', 'r', 'c', 'm', 'y', 'k', 'w'}\n",
    "ax1.set_title('Oscilador Harmonico Simples',fontdict=font)\n",
    "ax1.set_xlabel('tempo (s)', fontdict=font)\n",
    "ax1.set_ylabel('posição (m)', fontdict=font)\n",
    "ax1.tick_params(colors='white')\n",
    "ax1.grid()\n",
    "\n",
    "ax2.plot(t, v,color='r') #{'b', 'g', 'r', 'c', 'm', 'y', 'k', 'w'}\n",
    "ax2.set_title('Oscilador Harmonico Simples',fontdict=font)\n",
    "ax2.set_xlabel('tempo (s)', fontdict=font)\n",
    "ax2.set_ylabel('velocidade (m/s)', fontdict=font)\n",
    "ax2.tick_params(colors='white')\n",
    "ax2.grid()\n",
    "\n",
    "fig.autofmt_xdate() #Ajuste automático \n",
    "\n",
    "plt.show()"
   ]
  },
  {
   "cell_type": "markdown",
   "metadata": {},
   "source": [
    "### Exercício de Simulação em Vpython"
   ]
  },
  {
   "cell_type": "markdown",
   "metadata": {},
   "source": [
    "<p>Utilize as bibliotecas acima.</p>\n",
    "4º) Uma metralhadora está situada no topo de um rochedo a uma altura de 120 𝑚 de uma estrada\n",
    "horizontal. Ela dispara um projétil com velocidade de 200 𝑚/𝑠, a um ângulo de 30° acima da\n",
    "horizontal. (a) Calcular a que distância D do rochedo cairá o projétil. (b) Um carro avança pela estrada diretamente para o rochedo a 10 𝑚/𝑠, distante 3946 𝑚 do penhasco. (c) Construa os gráficos que descrevem os movimentos dos dois projéteis.\n",
    "<img src='imgs/exerc_04.png' width='300'/>"
   ]
  },
  {
   "cell_type": "markdown",
   "metadata": {},
   "source": [
    "Para representar a partícula desenhe uma esfera e para representar o carro desenhe uma caixa."
   ]
  },
  {
   "cell_type": "markdown",
   "metadata": {},
   "source": [
    "$\\to$ $\\gets$"
   ]
  },
  {
   "cell_type": "code",
   "execution_count": null,
   "metadata": {},
   "outputs": [],
   "source": []
  }
 ],
 "metadata": {
  "kernelspec": {
   "display_name": "Python 3",
   "language": "python",
   "name": "python3"
  },
  "language_info": {
   "codemirror_mode": {
    "name": "ipython",
    "version": 3
   },
   "file_extension": ".py",
   "mimetype": "text/x-python",
   "name": "python",
   "nbconvert_exporter": "python",
   "pygments_lexer": "ipython3",
   "version": "3.8.8"
  }
 },
 "nbformat": 4,
 "nbformat_minor": 4
}
