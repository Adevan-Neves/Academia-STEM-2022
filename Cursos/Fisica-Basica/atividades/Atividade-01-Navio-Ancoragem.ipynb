{
 "cells": [
  {
   "cell_type": "markdown",
   "id": "4b6d758f",
   "metadata": {},
   "source": [
    "# Olá, bem vindo a resolução da atividade 1 de [Adevan Neves](https://www.linkedin.com/in/adevan-neves-santos/) !!!\n",
    "\n",
    "## ( - 1 - ) **Descrição do problema** : Um navio se aproxima do porto a 45,0 cm/s e uma importante peça do equipamento de ancoragem precisa ser lançada para que ele possa aportar. Esse equipamento é lançado a 15,0 m/s e 60,0°, acima da horizontal, do topo de uma torre, à beira da água , 8,75 m acima do convés do navio. Para esse equipamento cair na frente do navio, a que distância D da doca o navio deve estar quando o equipamento for lançado ? Despreze a resistência do ar. \n",
    "\n",
    "![Alter text](imagens/imagem-atividade-01.png)\n",
    "\n",
    "## ( - 2 - ) **Requisitos** (ferramenta : Vpython):\n",
    "1.  Monte um cenário para representar a situação acima;\n",
    "2.  Represente o barco e a peça de equipamento de ancoragem como partículas(sphere);\n",
    "3.  Simule o movimento das partículas descrevendo suas trajetórias com rastros(make_trail);\n",
    "4.  O movimento deve ser simultâneo, revise as aulas anteriores.\n"
   ]
  },
  {
   "cell_type": "code",
   "execution_count": null,
   "id": "2f58396b",
   "metadata": {},
   "outputs": [],
   "source": []
  }
 ],
 "metadata": {
  "kernelspec": {
   "display_name": "Python 3",
   "language": "python",
   "name": "python3"
  },
  "language_info": {
   "codemirror_mode": {
    "name": "ipython",
    "version": 3
   },
   "file_extension": ".py",
   "mimetype": "text/x-python",
   "name": "python",
   "nbconvert_exporter": "python",
   "pygments_lexer": "ipython3",
   "version": "3.8.8"
  }
 },
 "nbformat": 4,
 "nbformat_minor": 5
}
