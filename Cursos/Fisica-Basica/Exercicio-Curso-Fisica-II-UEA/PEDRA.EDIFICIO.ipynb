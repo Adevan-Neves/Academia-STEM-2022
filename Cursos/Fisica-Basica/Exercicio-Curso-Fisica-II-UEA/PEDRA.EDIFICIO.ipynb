{
 "cells": [
  {
   "cell_type": "code",
   "execution_count": 2,
   "metadata": {},
   "outputs": [],
   "source": [
    "from vpython import *"
   ]
  },
  {
   "cell_type": "code",
   "execution_count": 3,
   "metadata": {},
   "outputs": [
    {
     "data": {
      "text/html": [
       "<div id=\"glowscript\" class=\"glowscript\"></div>"
      ],
      "text/plain": [
       "<IPython.core.display.HTML object>"
      ]
     },
     "metadata": {},
     "output_type": "display_data"
    },
    {
     "data": {
      "application/javascript": [
       "if (typeof Jupyter !== \"undefined\") { window.__context = { glowscript_container: $(\"#glowscript\").removeAttr(\"id\")};}else{ element.textContent = ' ';}"
      ],
      "text/plain": [
       "<IPython.core.display.Javascript object>"
      ]
     },
     "metadata": {},
     "output_type": "display_data"
    },
    {
     "data": {
      "application/javascript": [
       "if (typeof Jupyter !== \"undefined\") {require.undef(\"nbextensions/vpython_libraries/glow.min\");}else{element.textContent = ' ';}"
      ],
      "text/plain": [
       "<IPython.core.display.Javascript object>"
      ]
     },
     "metadata": {},
     "output_type": "display_data"
    },
    {
     "data": {
      "application/javascript": [
       "if (typeof Jupyter !== \"undefined\") {require.undef(\"nbextensions/vpython_libraries/glowcomm\");}else{element.textContent = ' ';}"
      ],
      "text/plain": [
       "<IPython.core.display.Javascript object>"
      ]
     },
     "metadata": {},
     "output_type": "display_data"
    },
    {
     "data": {
      "application/javascript": [
       "if (typeof Jupyter !== \"undefined\") {require.undef(\"nbextensions/vpython_libraries/jquery-ui.custom.min\");}else{element.textContent = ' ';}"
      ],
      "text/plain": [
       "<IPython.core.display.Javascript object>"
      ]
     },
     "metadata": {},
     "output_type": "display_data"
    },
    {
     "data": {
      "application/javascript": [
       "if (typeof Jupyter !== \"undefined\") {require([\"nbextensions/vpython_libraries/glow.min\"], function(){console.log(\"GLOW LOADED\");});}else{element.textContent = ' ';}"
      ],
      "text/plain": [
       "<IPython.core.display.Javascript object>"
      ]
     },
     "metadata": {},
     "output_type": "display_data"
    },
    {
     "data": {
      "application/javascript": [
       "if (typeof Jupyter !== \"undefined\") {require([\"nbextensions/vpython_libraries/glowcomm\"], function(){console.log(\"GLOWCOMM LOADED\");});}else{element.textContent = ' ';}"
      ],
      "text/plain": [
       "<IPython.core.display.Javascript object>"
      ]
     },
     "metadata": {},
     "output_type": "display_data"
    },
    {
     "data": {
      "application/javascript": [
       "if (typeof Jupyter !== \"undefined\") {require([\"nbextensions/vpython_libraries/jquery-ui.custom.min\"], function(){console.log(\"JQUERY LOADED\");});}else{element.textContent = ' ';}"
      ],
      "text/plain": [
       "<IPython.core.display.Javascript object>"
      ]
     },
     "metadata": {},
     "output_type": "display_data"
    }
   ],
   "source": [
    "#Um desordeiro joga uma pedra verticalmente \n",
    "#para baixo com uma velocidade inicial \n",
    "#de 12 m/s, a partir do telhado\n",
    "#de um edifício, 30,0 m acima do solo.\n",
    "#Quanto leva a pedra para atingir o solo?\n",
    "\n",
    "cena=canvas(width=700,height=400,center=vector(0,0,0),title=\"Resolvendo Fisica em Vpython\")\n",
    "ex=arrow(canvas=cena,pos=vector(0,0,0),color=color.red,axis=vector(10,0,0),shaftwidth=0.2)\n",
    "ey=arrow(canvas=cena,pos=vector(0,0,0),color=color.red,axis=vector(0,40,0),shaftwidth=0.2)\n",
    "ez=arrow(canvas=cena,pos=vector(0,0,0),color=color.red,axis=vector(0,5,0),shaftwidth=0.2)\n",
    "pedra=sphere(canvas=cena,radius=0.5,color=color.green,pos=vector(5,30,2),make_trail=True,trail_radius=0.1)\n",
    "pedra.velocity=vector(0,-12,0)\n",
    "predio=box(canvas=cena,pos=vector(5,15,0),size=vector(10,30,0.2),color=color.yellow)\n",
    "chao=box(canvas=cena,pos=vector(10,0,5),size=vector(30,0.2,10),color=color.cyan)\n",
    "t=0\n",
    "dt=0.01\n",
    "gr=graph(width=400,height=400,title=\"Posição em metros\",foreground=color.white,background=color.black,xtitle=\"tempo t (s)\",ytitle=\"distancia (m)\")\n",
    "gr2=graph(width=400,height=400,title=\"Velocidade em (m/s)\",foreground=color.white,background=color.black,xtitle=\"tempo t(s)\",ytitle=\"velocidade (m/s)\")\n",
    "g1=gcurve(graph=gr)\n",
    "g2=gcurve(graph=gr2)\n",
    "while pedra.pos.y>=0:\n",
    "    rate(100)\n",
    "    pedra.velocity=vector(0,pedra.velocity.y-9.8*dt,0)\n",
    "    pedra.pos=vector(5,pedra.pos.y+pedra.velocity.y*dt,2)\n",
    "    g1.plot(t,pedra.pos.y,color=color.red)\n",
    "    g2.plot(t,pedra.velocity.y,color=color.red)\n",
    "    label(canvas=cena,pos=vector(0,5,3),box=False,text=\"{:.2f} s\".format(t))\n",
    "    label(canvas=cena,pos=vector(0,8,2),box=False,text=\"{:.2f} m\".format(pedra.pos.y))\n",
    "    label(canvas=cena,pos=vector(0,11,1),box=False,text=\"{:.2f} m/s\".format(pedra.velocity.y))\n",
    "    \n",
    "    t+=dt"
   ]
  },
  {
   "cell_type": "markdown",
   "metadata": {},
   "source": [
    "# Física I Movimento Retilíneo Uniformemente Variado : Queda Livre\n",
    "### Equações :\n",
    "$$ v(t) = v_{0} + a*t  $$"
   ]
  },
  {
   "cell_type": "code",
   "execution_count": null,
   "metadata": {},
   "outputs": [],
   "source": []
  }
 ],
 "metadata": {
  "kernelspec": {
   "display_name": "Python 3",
   "language": "python",
   "name": "python3"
  },
  "language_info": {
   "codemirror_mode": {
    "name": "ipython",
    "version": 3
   },
   "file_extension": ".py",
   "mimetype": "text/x-python",
   "name": "python",
   "nbconvert_exporter": "python",
   "pygments_lexer": "ipython3",
   "version": "3.8.8"
  }
 },
 "nbformat": 4,
 "nbformat_minor": 4
}
