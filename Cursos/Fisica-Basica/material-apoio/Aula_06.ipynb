{
 "cells": [
  {
   "cell_type": "markdown",
   "metadata": {},
   "source": [
    "# **DERIVADAS E INTEGRAIS APLICADAS AOS CONCEITOS DE TRABALHO E ENERGIA**"
   ]
  },
  {
   "cell_type": "markdown",
   "metadata": {},
   "source": [
    "## AULA 6"
   ]
  },
  {
   "cell_type": "markdown",
   "metadata": {},
   "source": [
    "* Trabalho termodinâmico;\n",
    "* Calor e Energia Interna;\n",
    "* Processos Termodinâmicos;\n",
    "* Ciclo de Carnot;"
   ]
  },
  {
   "cell_type": "markdown",
   "metadata": {},
   "source": [
    "### Conceitos"
   ]
  },
  {
   "cell_type": "markdown",
   "metadata": {},
   "source": [
    "Pressão (P): $$P = \\frac{F}{A}$$"
   ]
  },
  {
   "cell_type": "markdown",
   "metadata": {},
   "source": [
    "onde, $F$ é a força aplicada e $A$ é a área dde aplicação da força. No SI $$1 \\frac{N}{m^2} = 1 Pa$$ (Pa = Pascal)"
   ]
  },
  {
   "cell_type": "markdown",
   "metadata": {},
   "source": [
    "Para efeitos de conversão teremos $$\n",
    "\\begin{cases}\n",
    "1 bar = 10^5 Pa \\\\\n",
    "1 atm = 101 kPa \\\\\n",
    "1 psi = 6,894 kPa\n",
    "\\end{cases}$$"
   ]
  },
  {
   "cell_type": "code",
   "execution_count": null,
   "metadata": {},
   "outputs": [],
   "source": [
    "%%HTML\n",
    "<video width=\"400\" height=\"300\" controls>\n",
    "  <source src=\"imgs/Bed_of_Nails.mp4\" type=\"video/mp4\">\n",
    "</video>"
   ]
  },
  {
   "cell_type": "markdown",
   "metadata": {},
   "source": [
    "Temperatura (T): <p>Conseguimos perceber o quanto um objeto está quente ou frio através do simples contato com o objeto ou apenas nos aproximando dele. Mas a idéia de quente e frio não define a temperatura.</p>\n",
    "<p>Sensação Térmica é a impressão dos sentidos humanos e a Temperatura é a medida da agitação molecular das substâncias.</p>"
   ]
  },
  {
   "cell_type": "markdown",
   "metadata": {},
   "source": [
    "<img src='imgs/Temperatura.jpg' width='800'/>"
   ]
  },
  {
   "cell_type": "markdown",
   "metadata": {},
   "source": [
    "### Lei Zero da Termodinâmica"
   ]
  },
  {
   "cell_type": "markdown",
   "metadata": {},
   "source": [
    "Se dois corpos A e B estão separadamente em equilíbrio térmico - quando dois corpos estão em equilíbrio térmico, suas temperaturas são iguais, e vice-versa - com um terceiro corpo T, então A e B estão em equilíbrio térmico entre si."
   ]
  },
  {
   "cell_type": "markdown",
   "metadata": {},
   "source": [
    "<img src='imgs/Lei_zero.png' width='500' />"
   ]
  },
  {
   "cell_type": "markdown",
   "metadata": {},
   "source": [
    "### Escalas de Temperatura"
   ]
  },
  {
   "cell_type": "markdown",
   "metadata": {},
   "source": [
    "As principais escalas de temperatura são:  "
   ]
  },
  {
   "cell_type": "markdown",
   "metadata": {},
   "source": [
    "<img src='imgs/Escalas.png' width='350'/>"
   ]
  },
  {
   "cell_type": "markdown",
   "metadata": {},
   "source": [
    "Fórmula de conversão $$\\frac{T_{C}}{5} = \\frac{T_{K}-273}{5} = \\frac{T_{F}-32}{9}$$"
   ]
  },
  {
   "cell_type": "markdown",
   "metadata": {},
   "source": [
    "<p>Abrir no cmd do Windows</p>\n",
    "<p>C:\\Users\\fabia\\OneDrive\\Documentos\\PythonScripts\\Telas\\App_temp.py</p>"
   ]
  },
  {
   "cell_type": "markdown",
   "metadata": {},
   "source": [
    "### Equação de Estado do Gás Ideal"
   ]
  },
  {
   "cell_type": "markdown",
   "metadata": {},
   "source": [
    "#### Conceito de Mol"
   ]
  },
  {
   "cell_type": "markdown",
   "metadata": {},
   "source": [
    "Um mol é o número de átomos em uma amostra de 12 g de carbono 12."
   ]
  },
  {
   "cell_type": "markdown",
   "metadata": {},
   "source": [
    "#### Conceito de Calor"
   ]
  },
  {
   "cell_type": "markdown",
   "metadata": {},
   "source": [
    "* <b>Calor Sensível</b> - (Observa-se quando a temperatura da substância varia)\n",
    "$$Q = mc\\Delta T$$\n",
    "Considerando a massa molar $\\displaystyle {M = \\frac{m}{n}}$, onde n é o número de mol e m a massa da substância.\n",
    "$$Q = nMc \\Delta T => Q = nC\\Delta T$$\n",
    "onde $C = Mc$, é a capacidade térmica molar (J/mol.K)\n",
    "* <b>Calor Latente</b> - (Observa-se na mudança de estado física e não há mudança de temperatura)\n",
    "$$Q = mL$$\n",
    "onde L é o calor Latente (Seu valor varia com o tipo de substância e a mudança de estado físico)"
   ]
  },
  {
   "cell_type": "markdown",
   "metadata": {},
   "source": [
    "<b>Gás Ideal:</b>\n",
    "* Suas partículas são puntiformes;\n",
    "* As colisões ocorrem com as paredes do recipiente e entre as partículas do gás e são colisões elásticas;\n",
    "* Não há interação entre as partículas do gás ideal;"
   ]
  },
  {
   "cell_type": "markdown",
   "metadata": {},
   "source": [
    "Equação de Estado\n",
    "$$PV = nRT$$\n",
    "R = 8,31 J/mol.K = 0,082 atm.$\\mathit{l}$/mol.K"
   ]
  },
  {
   "cell_type": "markdown",
   "metadata": {},
   "source": [
    "### Energia Interna"
   ]
  },
  {
   "cell_type": "markdown",
   "metadata": {},
   "source": [
    "<p>Gás Monoatômico</p>\n",
    " ‣ 3 graus de liberdade\n",
    "$$U = \\frac{3}{2}nRT$$\n",
    "<p>Gás Diatômico</p>\n",
    " ‣ 5 graus de liberdade\n",
    "$$U = \\frac{5}{2}nRT$$"
   ]
  },
  {
   "cell_type": "markdown",
   "metadata": {},
   "source": [
    "### Trabalho Termodinâmico"
   ]
  },
  {
   "cell_type": "markdown",
   "metadata": {},
   "source": [
    "$$W = \\int{\\vec{F} \\cdot d\\vec{r}}$$\n",
    "$$W = \\int{Fdr\\cos0°}$$\n",
    "$$W = \\int{PAdr}$$"
   ]
  },
  {
   "cell_type": "markdown",
   "metadata": {},
   "source": [
    "$$W = \\int\\limits_{V_i}^{V_f}{PdV}$$"
   ]
  },
  {
   "cell_type": "markdown",
   "metadata": {},
   "source": [
    "### Primeira Lei da Termodinâmica"
   ]
  },
  {
   "cell_type": "markdown",
   "metadata": {},
   "source": [
    "A energia interna U de um sistema tende a aumentar, se acrescentamos energia na forma de calor Q, e a diminuir se removemos energia na forma de trabalho W realizado pelo sistema."
   ]
  },
  {
   "cell_type": "markdown",
   "metadata": {},
   "source": [
    "$$\\Delta U = Q - W$$"
   ]
  },
  {
   "cell_type": "markdown",
   "metadata": {},
   "source": [
    "%%HTML\n",
    "<iframe src=\"https://phet.colorado.edu/sims/cheerpj/ideal-gas/latest/ideal-gas.html?simulation=balloons-and-buoyancy&locale=pt\" width=\"100%\" height=\"400\" frameborder=\"0\" marginwidth=\"0\" marginheight=\"0\" allowfullscreen></iframe>"
   ]
  },
  {
   "cell_type": "markdown",
   "metadata": {},
   "source": [
    "### Processos Termodinâmicos"
   ]
  },
  {
   "cell_type": "markdown",
   "metadata": {},
   "source": [
    "<b>Processo Isométrico</b> => O Volume é constante.\n",
    "$$\\frac{P_2}{T_2} = \\frac{P_1}{T_1}$$\n",
    "$$\\Delta U = Q$$\n",
    "<b>Processo Isobárico</b> => O Pressão é constante.\n",
    "$$\\frac{V_2}{T_2} = \\frac{V_1}{T_1}$$\n",
    "$$\\Delta U = Q - W$$\n",
    "<b>Processo Isotérmico</b> => O Temperatura é constante.\n",
    "$$P_2 V_2 = P_1 V_1$$\n",
    "$$Q = W$$\n",
    "<b>Processo Adiabático</b> => Não Há troca de calor.\n",
    "$$\\frac{P_2 V_2}{T_2} = \\frac{P_1 V_1}{T_1}$$\n",
    "$$P_2 V{_2}^\\gamma = P_1 V{_1}^\\gamma$$\n",
    "$$\\Delta U = - W$$"
   ]
  },
  {
   "cell_type": "markdown",
   "metadata": {},
   "source": [
    "### Capacidade Térmica Molar"
   ]
  },
  {
   "cell_type": "markdown",
   "metadata": {},
   "source": [
    "Gás Monoatômico"
   ]
  },
  {
   "cell_type": "markdown",
   "metadata": {},
   "source": [
    "Toma-se a primeira lei para o processo isométrico"
   ]
  },
  {
   "cell_type": "markdown",
   "metadata": {},
   "source": [
    "Tem-se,\n",
    "$$\\Delta U = Q$$\n",
    "Calor e Variação da Energia Interna do gás,\n",
    "$$Q_{V} = nC_{V}\\Delta T$$\n",
    "$$\\Delta U = \\frac{3}{2}nRT$$\n",
    "Igualando-se\n",
    "$$\\frac{3}{2}nR\\Delta T = nC_{V}\\Delta T$$\n",
    "Capacidade Térmica Molar a Volume Constante\n",
    "$$C_{V} = \\frac{3}{2}R$$"
   ]
  },
  {
   "cell_type": "markdown",
   "metadata": {},
   "source": [
    "Toma-se a primeira lei para o processo isobárico"
   ]
  },
  {
   "cell_type": "markdown",
   "metadata": {},
   "source": [
    "Tem-se,\n",
    "$$\\Delta U = Q - W$$\n",
    "Calor, Trabalho e Variação da Energia Interna do gás,\n",
    "$$Q_{P} = nC_{P}\\Delta T$$\n",
    "$$W = P \\Delta V = nR\\Delta T$$\n",
    "$$\\Delta U = \\frac{3}{2}nR\\Delta T$$\n",
    "Igualando-se,\n",
    "$$\\frac{3}{2}nR\\Delta T = nC_{P}\\Delta T - nR\\Delta T$$\n",
    "$$\\frac{3}{2}R = C_{P} - R$$\n",
    "$$C_{V} = C_{P} - R$$\n",
    "Capacidade Térmica Molar a Pressão Constante\n",
    "$$C_{P} = \\frac{5}{2}R$$"
   ]
  },
  {
   "cell_type": "markdown",
   "metadata": {},
   "source": [
    "### Fator de Estrutura da Molécula do Gás"
   ]
  },
  {
   "cell_type": "markdown",
   "metadata": {},
   "source": [
    "Definiremos a fator de estrutura por\n",
    "$$\\gamma = \\frac{C_{P}}{C_{V}}$$"
   ]
  },
  {
   "cell_type": "markdown",
   "metadata": {},
   "source": [
    "Toma-se o processo adiabático para o gás monoatômico"
   ]
  },
  {
   "cell_type": "markdown",
   "metadata": {},
   "source": [
    "Tem-se,\n",
    "$$\\Delta U = -W$$\n",
    "$$dU = -dW$$\n",
    "Energia Interna e Trabalho do gás,\n",
    "$$dU = \\frac{3}{2}nR dT$$\n",
    "$$dW = PdV = \\frac{nRT}{V}dV$$\n",
    "igualando,\n",
    "$$\\frac{3}{2}nR dT = -\\frac{nRT}{V}dV$$\n",
    "$$C_{V}\\frac{dT}{T} = -R \\frac{dV}{V}$$\n",
    "$$\\frac{dT}{T} = - \\frac{C_{P}-C_{V}}{C_{V}} \\frac{dV}{V}$$\n",
    "$$\\frac{dT}{T} =- (\\gamma - 1)\\frac{dV}{V}$$"
   ]
  },
  {
   "cell_type": "markdown",
   "metadata": {},
   "source": [
    "Integrando a equação"
   ]
  },
  {
   "cell_type": "markdown",
   "metadata": {},
   "source": [
    "$$\\int\\limits_{T_{1}}^{T_{2}}{\\frac{dT}{T}} = - (\\gamma-1)\\int\\limits_{V_{1}}^{V_{2}}{\\frac{dV}{V}}$$"
   ]
  },
  {
   "cell_type": "markdown",
   "metadata": {},
   "source": [
    "$$\\ln{\\left(\\frac{T_{2}}{T_{1}}\\right)} = (1-\\gamma)\\ln{\\left(\\frac{V_{2}}{V_{1}}\\right)}$$\n",
    "$$\\ln{\\left(\\frac{T_{2}}{T_{1}}\\right)} = \\ln{\\left(\\frac{V_{2}}{V_{1}}\\right)}^{(1-\\gamma)}$$\n",
    "$$T_{2}V_{2}^{(\\gamma-1)} = T_{1}V_{1}^{(\\gamma-1)}$$"
   ]
  },
  {
   "cell_type": "markdown",
   "metadata": {},
   "source": [
    "### Trabalho dos Processos Termodinâmicos"
   ]
  },
  {
   "cell_type": "markdown",
   "metadata": {},
   "source": [
    "<b>Processo Isobárico</b>\n",
    "$$W = \\int\\limits_{V_{1}}^{V_{2}} P dV$$\n",
    "$$W = P (V_{2}-V_{1}) = P \\Delta V $$"
   ]
  },
  {
   "cell_type": "markdown",
   "metadata": {},
   "source": [
    "<b>Processo Isométrico</b>\n",
    "$$W = \\int\\limits_{V_{1}}^{V_{2}} P dV$$\n",
    "$$W = 0$$"
   ]
  },
  {
   "cell_type": "markdown",
   "metadata": {},
   "source": [
    "<b>Processo Isotérmico</b>\n",
    "$$W = \\int\\limits_{V_{1}}^{V_{2}} P dV$$\n",
    "onde, $PV = nRT$\n",
    "$$W = \\int\\limits_{V_{1}}^{V_{2}} nRT \\frac{dV}{V}$$\n",
    "como a temperatura é constante\n",
    "$$W = nRT\\ln{\\frac{V_{2}}{V_{1}}}$$"
   ]
  },
  {
   "cell_type": "markdown",
   "metadata": {},
   "source": [
    "<b>Processo Adiabático</b>\n",
    "$$W = \\int\\limits_{V_{1}}^{V_{2}} P dV$$\n",
    "usando-se a equação $PV^{\\gamma}=C$\n",
    "$$W = \\int\\limits_{V_{1}}^{V_{2}} C \\frac{dV}{V^{\\gamma}}$$\n",
    "$$W = C \\left(\\frac{V^{-\\gamma+1}}{-\\gamma+1}\\right)_{V_{1}}^{V_{2}}$$\n",
    "$$W = \\frac{C}{1-\\gamma}(V_{2}^{1-\\gamma}-V_{1}^{1-\\gamma}) $$\n",
    "$$W = \\frac{1}{1-\\gamma}(CV_{2}^{1-\\gamma}-CV_{1}^{1-\\gamma}) $$\n",
    "$$W = \\frac{1}{1-\\gamma}(P_{2}V_{2}^{\\gamma}V_{2}^{1-\\gamma}-P_{1}V_{1}^{\\gamma}V_{1}^{1-\\gamma}) $$\n",
    "$$W = \\frac{P_{1}V_{1}-P_{2}V_{2}}{\\gamma-1}$$"
   ]
  },
  {
   "cell_type": "markdown",
   "metadata": {},
   "source": [
    "### CICLO DE CARNOT"
   ]
  },
  {
   "cell_type": "markdown",
   "metadata": {},
   "source": [
    "<img src='imgs/Carnot.jpg' width='800'/>"
   ]
  },
  {
   "cell_type": "markdown",
   "metadata": {},
   "source": [
    "Analizando a Máquina de Carnot"
   ]
  },
  {
   "cell_type": "markdown",
   "metadata": {},
   "source": [
    "Suponha que 0,20 mol de um gás ideal diatômico passe por um ciclo de Carnot com temperaturas entre 227°C e 27°C, começando na pressão inicial $P_{a}=10,0\\times 10^5 Pa$ no ponto <i>a</i> no diagrama PV da figura. O volume dobra durante a etapa de expansão isotérmica $a \\to b$."
   ]
  },
  {
   "cell_type": "markdown",
   "metadata": {},
   "source": [
    "Determine a pressão e o volume em cada um dos pontos <i>a, b, c</i> e <i>d</i>."
   ]
  },
  {
   "cell_type": "markdown",
   "metadata": {},
   "source": [
    "Determine a Energia Interna, o Calor e o Trabalho para cada um dos processos do ciclo."
   ]
  },
  {
   "cell_type": "markdown",
   "metadata": {},
   "source": [
    "Determine a eficiência da máquina."
   ]
  },
  {
   "cell_type": "markdown",
   "metadata": {},
   "source": [
    "Plote o gráfico  do Ciclo de Carnot que representa esta máquina."
   ]
  },
  {
   "cell_type": "markdown",
   "metadata": {},
   "source": [
    "Utilize a linguagem Python."
   ]
  },
  {
   "cell_type": "code",
   "execution_count": 53,
   "metadata": {},
   "outputs": [],
   "source": [
    "import matplotlib\n",
    "import matplotlib.pyplot as plt\n",
    "import numpy as np"
   ]
  },
  {
   "cell_type": "code",
   "execution_count": 54,
   "metadata": {},
   "outputs": [],
   "source": [
    "#Constante Iniciais\n",
    "R = 8.31\n",
    "n = 0.2\n",
    "gama = 7/5 #Diatômico\n",
    "Th = 273+227 #Kelvin\n",
    "Tf = 273+27 #Kelvin"
   ]
  },
  {
   "cell_type": "code",
   "execution_count": 182,
   "metadata": {},
   "outputs": [
    {
     "name": "stdout",
     "output_type": "stream",
     "text": [
      "40.0%\n"
     ]
    }
   ],
   "source": [
    "#Calculo da Eficiência do Ciclo\n",
    "ef = (1 - Tf/Th)*100\n",
    "print('{}%'.format(ef))"
   ]
  },
  {
   "cell_type": "code",
   "execution_count": null,
   "metadata": {},
   "outputs": [],
   "source": []
  },
  {
   "cell_type": "code",
   "execution_count": 56,
   "metadata": {},
   "outputs": [],
   "source": [
    "#Calculando Propriedades do gás no ponto a\n",
    "Pa = 10e5\n",
    "Va = (n*R*Th)/Pa\n",
    "Ua = 5*n*R*Th/2"
   ]
  },
  {
   "cell_type": "code",
   "execution_count": 57,
   "metadata": {},
   "outputs": [],
   "source": [
    "#Calculando Propriedades do gás no ponto b\n",
    "Vb = 2*Va\n",
    "Pb = Pa*Va/Vb\n",
    "Ub = 5*n*R*Th/2"
   ]
  },
  {
   "cell_type": "code",
   "execution_count": 58,
   "metadata": {},
   "outputs": [],
   "source": [
    "#Calculando Propriedades do gás no ponto c\n",
    "Vc = Vb*(Th/Tf)**(1/(gama-1))\n",
    "Pc = n*R*Tf/Vc\n",
    "Uc = 5*n*R*Tf/2"
   ]
  },
  {
   "cell_type": "code",
   "execution_count": 59,
   "metadata": {},
   "outputs": [],
   "source": [
    "#Calculando Propriedades do gás no ponto d\n",
    "Vd = Va*(Th/Tf)**(1/(gama-1))\n",
    "Pd = n*R*Tf/Vd\n",
    "Ud = 5*n*R*Tf/2"
   ]
  },
  {
   "cell_type": "code",
   "execution_count": 71,
   "metadata": {},
   "outputs": [],
   "source": [
    "#Calculando o Calor em cada processo\n",
    "Qab = n*R*Th*np.log(Vb/Va)\n",
    "Qcd = n*R*Tf*np.log(Vd/Vc)"
   ]
  },
  {
   "cell_type": "code",
   "execution_count": 72,
   "metadata": {},
   "outputs": [],
   "source": [
    "#Calculando o Trabalho em cada processo\n",
    "Wab = Qab\n",
    "Wbc = -(Uc-Ub)\n",
    "Wcd = Qcd\n",
    "Wda = -(Ua-Ud)"
   ]
  },
  {
   "cell_type": "code",
   "execution_count": 77,
   "metadata": {},
   "outputs": [],
   "source": [
    "#Calculando a Energia Interna de cada prodesso\n",
    "Ubc = Uc-Ub\n",
    "Uda = Ua-Ud"
   ]
  },
  {
   "cell_type": "code",
   "execution_count": 84,
   "metadata": {},
   "outputs": [],
   "source": [
    "C1 = Pa*Va"
   ]
  },
  {
   "cell_type": "code",
   "execution_count": null,
   "metadata": {},
   "outputs": [],
   "source": [
    "v1 = np.linspace(Va*10**4, Vb*10**4, 100)"
   ]
  },
  {
   "cell_type": "code",
   "execution_count": 87,
   "metadata": {},
   "outputs": [],
   "source": [
    "p1 = C1/(10*v1)"
   ]
  },
  {
   "cell_type": "code",
   "execution_count": 131,
   "metadata": {},
   "outputs": [],
   "source": [
    "v2 = np.linspace(Vb*10**4, Vc*10**4, 100)"
   ]
  },
  {
   "cell_type": "code",
   "execution_count": 132,
   "metadata": {},
   "outputs": [],
   "source": [
    "C2 = Pb*Vb**gama"
   ]
  },
  {
   "cell_type": "code",
   "execution_count": 148,
   "metadata": {},
   "outputs": [],
   "source": [
    "p2 = C2/(v2)**gama/(10**-4)**gama*10**-5\n"
   ]
  },
  {
   "cell_type": "code",
   "execution_count": 163,
   "metadata": {},
   "outputs": [],
   "source": [
    "C3 = Pd*Vd"
   ]
  },
  {
   "cell_type": "code",
   "execution_count": 165,
   "metadata": {},
   "outputs": [],
   "source": [
    "v3 = np.linspace(Vd*10**4, Vc*10**4, 100)"
   ]
  },
  {
   "cell_type": "code",
   "execution_count": 167,
   "metadata": {},
   "outputs": [],
   "source": [
    "p3 = C3/(10*v3)"
   ]
  },
  {
   "cell_type": "code",
   "execution_count": 170,
   "metadata": {},
   "outputs": [],
   "source": [
    "v4 = np.linspace(Va*10**4, Vd*10**4, 100)"
   ]
  },
  {
   "cell_type": "code",
   "execution_count": 171,
   "metadata": {},
   "outputs": [],
   "source": [
    "C4 = Pa*Va**gama"
   ]
  },
  {
   "cell_type": "code",
   "execution_count": 172,
   "metadata": {},
   "outputs": [],
   "source": [
    "p4 = C4/(v4)**gama/(10**-4)**gama*10**-5"
   ]
  },
  {
   "cell_type": "code",
   "execution_count": null,
   "metadata": {},
   "outputs": [],
   "source": []
  },
  {
   "cell_type": "code",
   "execution_count": 194,
   "metadata": {},
   "outputs": [
    {
     "data": {
      "text/plain": [
       "<matplotlib.legend.Legend at 0x2b10883ce80>"
      ]
     },
     "execution_count": 194,
     "metadata": {},
     "output_type": "execute_result"
    },
    {
     "data": {
      "image/png": "[encoded data removed]",
      "text/plain": [
       "<Figure size 576x576 with 1 Axes>"
      ]
     },
     "metadata": {
      "needs_background": "dark"
     },
     "output_type": "display_data"
    }
   ],
   "source": [
    "fig, ax = plt.subplots(figsize=(8,8))  # Cria a figura e os eixos.\n",
    "ax.plot(v1, p1, label='Expansão Isotérmica')  # Plota os dados.\n",
    "ax.plot(v2, p2, label='Expansão Adiabática')  # Plota os dados.\n",
    "ax.plot(v3, p3, label='Compressão Isotérmica')  # Plota os dados.\n",
    "ax.plot(v4, p4, label='Compressão Adiabática')  # Plota os dados.\n",
    "ax.set_xlabel('V (x10^4 m³)', color='w')  # Add an x-label to the axes.\n",
    "ax.set_ylabel('P (x10^5 Pa)', color='w')  # Add a y-label to the axes.\n",
    "ax.set_title(\"Ciclo de Carnot\", color='w')  # Título do Gráfico.\n",
    "ax.tick_params(labelcolor='white')\n",
    "ax.grid()\n",
    "ax.legend()  # Add a legend"
   ]
  },
  {
   "cell_type": "code",
   "execution_count": 174,
   "metadata": {},
   "outputs": [],
   "source": [
    "import pandas as pd"
   ]
  },
  {
   "cell_type": "code",
   "execution_count": 191,
   "metadata": {},
   "outputs": [],
   "source": [
    "obj = {'Processos':['a->b','b->c','c->d','d->a'],'U':[Ub-Ua,Uc-Ub,Ud-Uc,Ua-Ud],\n",
    "     'Q':[Qab,0,Qcd,0],'W':[Wab,Wbc,Wcd,Wda]}"
   ]
  },
  {
   "cell_type": "code",
   "execution_count": 192,
   "metadata": {},
   "outputs": [
    {
     "data": {
      "text/html": [
       "<div>\n",
       "<style scoped>\n",
       "    .dataframe tbody tr th:only-of-type {\n",
       "        vertical-align: middle;\n",
       "    }\n",
       "\n",
       "    .dataframe tbody tr th {\n",
       "        vertical-align: top;\n",
       "    }\n",
       "\n",
       "    .dataframe thead th {\n",
       "        text-align: right;\n",
       "    }\n",
       "</style>\n",
       "<table border=\"1\" class=\"dataframe\">\n",
       "  <thead>\n",
       "    <tr style=\"text-align: right;\">\n",
       "      <th></th>\n",
       "      <th>Processos</th>\n",
       "      <th>U</th>\n",
       "      <th>Q</th>\n",
       "      <th>W</th>\n",
       "    </tr>\n",
       "  </thead>\n",
       "  <tbody>\n",
       "    <tr>\n",
       "      <th>0</th>\n",
       "      <td>a-&gt;b</td>\n",
       "      <td>0.0</td>\n",
       "      <td>576.005307</td>\n",
       "      <td>576.005307</td>\n",
       "    </tr>\n",
       "    <tr>\n",
       "      <th>1</th>\n",
       "      <td>b-&gt;c</td>\n",
       "      <td>-831.0</td>\n",
       "      <td>0.000000</td>\n",
       "      <td>831.000000</td>\n",
       "    </tr>\n",
       "    <tr>\n",
       "      <th>2</th>\n",
       "      <td>c-&gt;d</td>\n",
       "      <td>0.0</td>\n",
       "      <td>-345.603184</td>\n",
       "      <td>-345.603184</td>\n",
       "    </tr>\n",
       "    <tr>\n",
       "      <th>3</th>\n",
       "      <td>d-&gt;a</td>\n",
       "      <td>831.0</td>\n",
       "      <td>0.000000</td>\n",
       "      <td>-831.000000</td>\n",
       "    </tr>\n",
       "  </tbody>\n",
       "</table>\n",
       "</div>"
      ],
      "text/plain": [
       "  Processos      U           Q           W\n",
       "0      a->b    0.0  576.005307  576.005307\n",
       "1      b->c -831.0    0.000000  831.000000\n",
       "2      c->d    0.0 -345.603184 -345.603184\n",
       "3      d->a  831.0    0.000000 -831.000000"
      ]
     },
     "execution_count": 192,
     "metadata": {},
     "output_type": "execute_result"
    }
   ],
   "source": [
    "df = pd.DataFrame(data=obj)\n",
    "df"
   ]
  },
  {
   "cell_type": "code",
   "execution_count": 195,
   "metadata": {},
   "outputs": [
    {
     "data": {
      "text/plain": [
       "Processos    a->bb->cc->dd->a\n",
       "U                           0\n",
       "Q                     230.402\n",
       "W                     230.402\n",
       "dtype: object"
      ]
     },
     "execution_count": 195,
     "metadata": {},
     "output_type": "execute_result"
    }
   ],
   "source": [
    "df.sum()"
   ]
  },
  {
   "cell_type": "code",
   "execution_count": null,
   "metadata": {},
   "outputs": [],
   "source": []
  },
  {
   "cell_type": "code",
   "execution_count": null,
   "metadata": {},
   "outputs": [],
   "source": []
  }
 ],
 "metadata": {
  "kernelspec": {
   "display_name": "Python 3",
   "language": "python",
   "name": "python3"
  },
  "language_info": {
   "codemirror_mode": {
    "name": "ipython",
    "version": 3
   },
   "file_extension": ".py",
   "mimetype": "text/x-python",
   "name": "python",
   "nbconvert_exporter": "python",
   "pygments_lexer": "ipython3",
   "version": "3.8.5"
  }
 },
 "nbformat": 4,
 "nbformat_minor": 4
}
