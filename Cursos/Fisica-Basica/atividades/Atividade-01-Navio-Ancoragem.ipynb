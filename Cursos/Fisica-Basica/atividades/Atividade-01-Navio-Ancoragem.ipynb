{
 "cells": [
  {
   "cell_type": "markdown",
   "id": "4b6d758f",
   "metadata": {},
   "source": [
    "# Olá ! Bem vindo a resolução da atividade 1, de [Adevan Neves](https://www.linkedin.com/in/adevan-neves-santos/) !!!\n",
    "\n",
    "## ( - 1 - ) **Descrição do problema** : Um navio se aproxima do porto a 45,0 cm/s e uma importante peça do equipamento de ancoragem precisa ser lançada para que ele possa aportar. Esse equipamento é lançado a 15,0 m/s e 60,0°, acima da horizontal, do topo de uma torre, à beira da água , 8,75 m acima do convés do navio. Para esse equipamento cair na frente do navio, a que distância D da doca o navio deve estar quando o equipamento for lançado ? Despreze a resistência do ar. \n",
    "\n",
    "![Alter text](imagens/imagem-atividade-01.png)\n",
    "\n",
    "## ( - 2 - ) **Requisitos** (ferramenta : Vpython):\n",
    "1.  Monte um cenário para representar a situação acima;\n",
    "2.  Represente o barco e a peça de equipamento de ancoragem como partículas(sphere);\n",
    "3.  Simule o movimento das partículas descrevendo suas trajetórias com rastros(make_trail);\n",
    "4.  O movimento deve ser simultâneo, revise as aulas anteriores.\n",
    "\n",
    "## Resolução :\n",
    "\n",
    "## Precisamos do tempo de queda $t_{queda}$ para o equipamento alcançar o chão nas condições descritas. Por meio da decomposição do movimento nos eixos cartesianos, podemos calcular esse componente do nosso domínio.\n",
    "\n",
    "## No eixo y, utilizamos a função horário da posição :\n",
    "\n",
    "$$ y_{f}(t) = y_{i} + vi_{y} * t +\\frac{1}{2} a t^{2} \\rightarrow 0 = 8.75 +(15sen(60°)) * t - 4.9*at^{2} $$\n",
    "\n",
    "## Obtendo as raízes, concluimos que $t_{queda} \\ = \\ 3.207780204 \\ s$\n",
    "\n",
    "## No eixo x, utilizamos a função de movimento uniforme:\n",
    "\n",
    "$$ x_{f} =  x_{i} + vi*t \\rightarrow D = 0 +15*cos(60°)*t_{queda}$$\n",
    "\n",
    "## Concluimos que o local onde a queda irá ocorrer será $L \\ = \\ 24.05835153 \\ m $\n",
    "\n",
    "## Porém, devemos calcular a posição inicial do navio de modo que ele chegue em L em $t_{queda}$, sendo $ D= 25.50185 $\n",
    "\n",
    "## Resultado Final : O navio deve estar à 25.50185 m +  de distância da doca\n"
   ]
  },
  {
   "cell_type": "code",
   "execution_count": 1,
   "id": "2f58396b",
   "metadata": {},
   "outputs": [
    {
     "data": {
      "text/html": [
       "<div id=\"glowscript\" class=\"glowscript\"></div>"
      ],
      "text/plain": [
       "<IPython.core.display.HTML object>"
      ]
     },
     "metadata": {},
     "output_type": "display_data"
    },
    {
     "data": {
      "application/javascript": [
       "if (typeof Jupyter !== \"undefined\") { window.__context = { glowscript_container: $(\"#glowscript\").removeAttr(\"id\")};}else{ element.textContent = ' ';}"
      ],
      "text/plain": [
       "<IPython.core.display.Javascript object>"
      ]
     },
     "metadata": {},
     "output_type": "display_data"
    }
   ],
   "source": [
    "# Importando as bibliotecas Vpython e Time\n",
    "from vpython import *\n",
    "from time import *"
   ]
  },
  {
   "cell_type": "code",
   "execution_count": 4,
   "id": "48fc8c0a",
   "metadata": {},
   "outputs": [
    {
     "data": {
      "text/html": [
       "<div id=\"glowscript\" class=\"glowscript\"></div>"
      ],
      "text/plain": [
       "<IPython.core.display.HTML object>"
      ]
     },
     "metadata": {},
     "output_type": "display_data"
    },
    {
     "data": {
      "application/javascript": [
       "if (typeof Jupyter !== \"undefined\") { window.__context = { glowscript_container: $(\"#glowscript\").removeAttr(\"id\")};}else{ element.textContent = ' ';}"
      ],
      "text/plain": [
       "<IPython.core.display.Javascript object>"
      ]
     },
     "metadata": {},
     "output_type": "display_data"
    },
    {
     "name": "stdout",
     "output_type": "stream",
     "text": [
      "D = 25.5 m \n"
     ]
    }
   ],
   "source": [
    "'''\n",
    "\n",
    "Monte um cenário para representar a situação acima;\n",
    "Represente o barco e a peça de equipamento de ancoragem como partículas(sphere);\n",
    "Simule o movimento das partículas descrevendo suas trajetórias com rastros(make_trail);\n",
    "O movimento deve ser simultâneo, revise as aulas anteriores.\n",
    "\n",
    "'''\n",
    "# Valores iniciais\n",
    "\n",
    "g=-9.8\n",
    "\n",
    "#Configurações do equipamento\n",
    "yi_eq=8.75\n",
    "xi_eq=0.0\n",
    "\n",
    "vi_eq=15.0\n",
    "angulo_eq=radians(60)\n",
    "t_queda=3.207780204\n",
    "D=24.05835153\n",
    "\n",
    "#Configurações do navio\n",
    "vi_nv=-0.45\n",
    "xi_nv=25.50185\n",
    "\n",
    "\n",
    "#Configurações de objetos na simulação\n",
    "cena = canvas(width=600, height=400, center=vector(0,0,0),title=\"Atividade 01 - Adevan Neves Santos\",background=color.white)\n",
    "ep = sphere(canvas = cena, pos=vector(xi_eq,yi_eq,0),radius = 0.2, make_trail = True, trail_radius = 0.1,color=color.red)\n",
    "nv = sphere(canvas = cena, pos=vector(xi_nv,0.0,0),radius = 0.2, make_trail = True, trail_radius = 0.1,color=color.green)\n",
    "superficie=box(canvas=cena,pos=vector(10,-0.4,5),size=vector(37,0.2,20),color=color.cyan)\n",
    "farol=box(canvas=cena,pos=vector(0,4.3,0),size=vector(1.3,8.6,1.3),color=color.red)\n",
    "\n",
    "t=0.0\n",
    "dt=0.01\n",
    "\n",
    "# Pausa a execução da simulação por 5 segundos, facilitando a preparação do aluno para gravação\n",
    "sleep(5)\n",
    "\n",
    "\n",
    "while(t<t_queda):\n",
    "    \n",
    "    rate(100)\n",
    "    \n",
    "    # Atualiza a posição do equipamento, segundo \n",
    "    ep.pos.x=xi_eq+(vi_eq*cos(angulo_eq))*t\n",
    "    ep.pos.y=yi_eq+(vi_eq*sin(angulo_eq))*t + (1/2)*g*(t**2)\n",
    "    \n",
    "    # Atualiza a posição horizontal do navio\n",
    "    nv.pos.x=xi_nv+vi_nv*t\n",
    "    \n",
    "    \n",
    "    #Ajusta a cena para acompanhar melhor o movimento\n",
    "    cena.center.x+=0.06\n",
    "    cena.center.y+=0.03\n",
    "    cena.center.z-=0.08\n",
    "    \n",
    "    \n",
    "    t=t+dt\n",
    "\n",
    "print(\"D = {:.1f} m \".format(xi_nv) )   \n"
   ]
  },
  {
   "cell_type": "code",
   "execution_count": 3,
   "id": "188be7f2",
   "metadata": {},
   "outputs": [
    {
     "name": "stdout",
     "output_type": "stream",
     "text": [
      "Obrigado Academia STEM !!!\n"
     ]
    }
   ],
   "source": [
    "print(\"Obrigado Academia STEM !!!\")"
   ]
  }
 ],
 "metadata": {
  "kernelspec": {
   "display_name": "Python 3",
   "language": "python",
   "name": "python3"
  },
  "language_info": {
   "codemirror_mode": {
    "name": "ipython",
    "version": 3
   },
   "file_extension": ".py",
   "mimetype": "text/x-python",
   "name": "python",
   "nbconvert_exporter": "python",
   "pygments_lexer": "ipython3",
   "version": "3.8.8"
  }
 },
 "nbformat": 4,
 "nbformat_minor": 5
}
